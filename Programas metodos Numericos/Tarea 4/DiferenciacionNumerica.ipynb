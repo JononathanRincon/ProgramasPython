{
 "cells": [
  {
   "cell_type": "markdown",
   "metadata": {},
   "source": [
    "# Diferenciación Numérica"
   ]
  },
  {
   "cell_type": "markdown",
   "metadata": {},
   "source": [
    "## Series de Taylor"
   ]
  },
  {
   "cell_type": "markdown",
   "metadata": {},
   "source": [
    "Recordemos del primer capítulo, la serie de Taylor (hacia adelante y hacia atrás)\n",
    "\n",
    "$$f(x_{i \\pm 1}) = f(x_i) \\pm \\frac{f'(x_i)}{1!}h+\\frac{f''(x_i)}{2!}h^2 \\pm \\frac{f'''(x_i)}{3!}h^3+ \\ldots$$\n",
    "\n",
    "donde $h=x_{i+1} - x_i$, es el tamaño de paso."
   ]
  },
  {
   "cell_type": "markdown",
   "metadata": {},
   "source": [
    "## Esquema de Diferencias Finitas hacia adelante para la primera derivada"
   ]
  },
  {
   "cell_type": "markdown",
   "metadata": {},
   "source": [
    "Tomando la *serie de Taylor* hacia adelante y truncándola a la primera derivada:\n",
    "\n",
    "$$f(x_{i + 1}) \\approx f(x_i) + f'(x_i)h + O(h)$$\n",
    "\n",
    "despejando el término de la primera derivada se obtiene:\n",
    "\n",
    "$$f'(x_i) = \\frac{f(x_{i+1}) - f(x_i)}{h} + O(h)$$\n",
    "\n",
    "Este es el Esquema de Diferencias Finitas hacia adelante para la primera derivada, de primer orden."
   ]
  },
  {
   "cell_type": "markdown",
   "metadata": {},
   "source": [
    "## Esquema de Diferencias Finitas hacia atrás para la primera derivada"
   ]
  },
  {
   "cell_type": "markdown",
   "metadata": {},
   "source": [
    "Tomando la *serie de Taylor* hacia atrás y truncándola a la primera derivada:\n",
    "\n",
    "$$f(x_{i - 1}) \\approx f(x_i) - f'(x_i)h + O(h)$$\n",
    "\n",
    "despejando el término de la primera derivada se obtiene:\n",
    "\n",
    "$$f'(x_i) = \\frac{f(x_{i}) - f(x_{i-1})}{h} + O(h)$$\n",
    "\n",
    "Este es el Esquema de Diferencias Finitas hacia atrás para la primera derivada, de primer orden."
   ]
  },
  {
   "cell_type": "markdown",
   "metadata": {},
   "source": [
    "## Esquema de Diferencias Finitas Central para la primera derivada"
   ]
  },
  {
   "cell_type": "code",
   "execution_count": null,
   "metadata": {},
   "outputs": [],
   "source": []
  },
  {
   "cell_type": "markdown",
   "metadata": {},
   "source": [
    "# Ejemplo"
   ]
  },
  {
   "cell_type": "code",
   "execution_count": 1,
   "metadata": {},
   "outputs": [],
   "source": [
    "import Diferenciacion as dif\n",
    "import numpy as np"
   ]
  },
  {
   "cell_type": "code",
   "execution_count": 17,
   "metadata": {},
   "outputs": [
    {
     "name": "stdout",
     "output_type": "stream",
     "text": [
      "0.6009611043817555\n"
     ]
    }
   ],
   "source": [
    "x = 1.33\n",
    "#exacta = 1 / (np.sqrt(x - 1) * np.sqrt(x + 1))\n",
    "exacta = 1 / np.sqrt(x**2+1) #np.cosh(x)\n"
   ]
  },
  {
   "cell_type": "code",
   "execution_count": 24,
   "metadata": {},
   "outputs": [
    {
     "name": "stdout",
     "output_type": "stream",
     "text": [
      "***********************************************\n",
      "Exacta: 0.60096\n",
      "***********************************************\n",
      "h \t Esquema \t Derivada \t Error(%)\n",
      "***********************************************\n",
      "  0.50 \t Forward: \t 0.53661  \t  10.71\n",
      "  0.50 \t Backward: \t 0.68137 \t  13.38\n",
      "  0.50 \t Central: \t 0.60899  \t   1.34\n",
      "***********************************************\n",
      "  0.10 \t Forward: \t 0.58686  \t   2.35\n",
      "  0.10 \t Backward: \t 0.61573 \t   2.46\n",
      "  0.10 \t Central: \t 0.60129  \t   0.06\n",
      "***********************************************\n",
      "  0.05 \t Forward: \t 0.59383  \t   1.19\n",
      "  0.05 \t Backward: \t 0.60826 \t   1.21\n",
      "  0.05 \t Central: \t 0.60104  \t   0.01\n",
      "***********************************************\n",
      "  0.01 \t Forward: \t 0.59952  \t   0.24\n",
      "  0.01 \t Backward: \t 0.60241 \t   0.24\n",
      "  0.01 \t Central: \t 0.60096  \t   0.00\n",
      "***********************************************\n"
     ]
    }
   ],
   "source": [
    "h = [0.5, 0.1, 0.05, 0.01]\n",
    "\n",
    "print(\"***********************************************\")\n",
    "print(\"Exacta: {0:6.5f}\".format(exacta))\n",
    "print(\"***********************************************\")\n",
    "print(\"h \\t Esquema \\t Derivada \\t Error(%)\")\n",
    "print(\"***********************************************\")\n",
    "for i in h:\n",
    "    forward1 = dif.forward(x, i)\n",
    "    backward1 = dif.backward(x, i)\n",
    "    central1 = dif.central(x, i)\n",
    "    print(\"{0:6.2f} \\t Forward: \\t {1:6.5f}  \\t {2:6.2f}\".format(i, forward1, abs(exacta - forward1) / exacta *100))\n",
    "    print(\"{0:6.2f} \\t Backward: \\t {1:6.5f} \\t {2:6.2f}\".format(i, backward1,abs(exacta - backward1) / exacta *100))\n",
    "    print(\"{0:6.2f} \\t Central: \\t {1:6.5f}  \\t {2:6.2f}\".format(i, central1, abs(exacta - central1) / exacta *100))\n",
    "    print(\"***********************************************\")"
   ]
  },
  {
   "cell_type": "code",
   "execution_count": null,
   "metadata": {},
   "outputs": [],
   "source": []
  }
 ],
 "metadata": {
  "kernelspec": {
   "display_name": "Python 3",
   "language": "python",
   "name": "python3"
  },
  "language_info": {
   "codemirror_mode": {
    "name": "ipython",
    "version": 3
   },
   "file_extension": ".py",
   "mimetype": "text/x-python",
   "name": "python",
   "nbconvert_exporter": "python",
   "pygments_lexer": "ipython3",
   "version": "3.8.3"
  },
  "toc": {
   "base_numbering": 1,
   "nav_menu": {},
   "number_sections": true,
   "sideBar": true,
   "skip_h1_title": false,
   "title_cell": "Table of Contents",
   "title_sidebar": "Contents",
   "toc_cell": false,
   "toc_position": {},
   "toc_section_display": true,
   "toc_window_display": false
  }
 },
 "nbformat": 4,
 "nbformat_minor": 4
}
