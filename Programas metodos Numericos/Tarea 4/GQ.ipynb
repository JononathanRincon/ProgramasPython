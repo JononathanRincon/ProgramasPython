{
 "cells": [
  {
   "cell_type": "code",
   "execution_count": null,
   "metadata": {},
   "outputs": [],
   "source": [
    "import numpy as np\n",
    "import matplotlib.pyplot as plt"
   ]
  },
  {
   "cell_type": "code",
   "execution_count": null,
   "metadata": {},
   "outputs": [],
   "source": [
    "def funcion(x):\n",
    "    #return 0.2 + 25 * x - 200 * x**2 + 675 * x**3 -900 * x**4 + 400 * x**5\n",
    "    #return np.log(x+3)/(x+3)\n",
    "    return np.sin(x) / (1 + x**2)"
   ]
  },
  {
   "cell_type": "code",
   "execution_count": null,
   "metadata": {},
   "outputs": [],
   "source": [
    "def trapeciosimple(a,b):\n",
    "    return (b - a) * (funcion(a) + funcion(b)) / 2"
   ]
  },
  {
   "cell_type": "code",
   "execution_count": null,
   "metadata": {},
   "outputs": [],
   "source": [
    "a = 0 #float(input(\"Ingrese el valor del límite inferior, a: \"))\n",
    "b = np.pi/2 #float(input(\"Ingrese el valor del límite superior, b: \"))"
   ]
  },
  {
   "cell_type": "code",
   "execution_count": null,
   "metadata": {},
   "outputs": [],
   "source": [
    "integral = trapeciosimple(a,b)\n",
    "print(\"El área bajo la curva (integral) es: \", integral)"
   ]
  },
  {
   "cell_type": "code",
   "execution_count": null,
   "metadata": {},
   "outputs": [],
   "source": [
    "# Regla del trapecio de aplición múltiple\n",
    "def trapeciomultiple(a, b):\n",
    "    n = int(input(\"Ingrese la cantidad de espacios: \"))\n",
    "    h = (b - a) / n\n",
    "        \n",
    "    suma = 0\n",
    "    \n",
    "    for i in range(1, n-1):\n",
    "        suma += funcion(a + i * h)\n",
    "        \n",
    "    return h / 2 * (funcion(a) + 2 * suma + funcion(b))"
   ]
  },
  {
   "cell_type": "code",
   "execution_count": null,
   "metadata": {},
   "outputs": [],
   "source": [
    "IntegralTrapecioMultiple = trapeciomultiple(a,b)\n",
    "print(\"El valor de la integral aplicando la regla trapezoidal de aplicación múltiple, con n= \",n,\"es: \", IntegralTrapecioMultiple)"
   ]
  },
  {
   "cell_type": "code",
   "execution_count": null,
   "metadata": {},
   "outputs": [],
   "source": [
    "def s13(a,b):\n",
    "    x1 = (b + a) / 2\n",
    "    return (b - a) * (funcion(a) + 4 * funcion(x1) + funcion(b)) / 6"
   ]
  },
  {
   "cell_type": "code",
   "execution_count": null,
   "metadata": {},
   "outputs": [],
   "source": [
    "IntegralS13 = s13(a,b)\n",
    "print(\"Integral Simpson1/3: \", IntegralS13)"
   ]
  },
  {
   "cell_type": "code",
   "execution_count": null,
   "metadata": {},
   "outputs": [],
   "source": [
    "def s13compuesta(a,b):\n",
    "    n = 12\n",
    "    h = (b - a) / n\n",
    "        \n",
    "    sumai = 0\n",
    "    sumap = 0\n",
    "    \n",
    "    #suma impar\n",
    "    for i in range(1, n, 2):\n",
    "        sumai += funcion(a + i * h)\n",
    "    \n",
    "    #suma par    \n",
    "    for i in range(2, n, 2):\n",
    "        sumap += funcion(a + i * h)\n",
    "        \n",
    "    return h / 3 * (funcion(a) + 4 * sumai + 2 * sumap + funcion(b))\n",
    "    "
   ]
  },
  {
   "cell_type": "code",
   "execution_count": null,
   "metadata": {},
   "outputs": [],
   "source": [
    "IntegralS13C = s13compuesta(a,b)\n",
    "print(\"Integral Simpson1/3 compuesta: \", IntegralS13C)"
   ]
  },
  {
   "cell_type": "code",
   "execution_count": null,
   "metadata": {},
   "outputs": [],
   "source": []
  },
  {
   "cell_type": "code",
   "execution_count": null,
   "metadata": {},
   "outputs": [],
   "source": [
    "list(range(1, 20, 3))"
   ]
  },
  {
   "cell_type": "code",
   "execution_count": null,
   "metadata": {},
   "outputs": [],
   "source": [
    "list(range(2, 20, 3))"
   ]
  },
  {
   "cell_type": "code",
   "execution_count": null,
   "metadata": {},
   "outputs": [],
   "source": [
    "list(range(3, 20, 3))"
   ]
  },
  {
   "cell_type": "code",
   "execution_count": null,
   "metadata": {},
   "outputs": [],
   "source": [
    "    #suma 1\n",
    "    for i in range(1, n, 3):\n",
    "        suma1 += funcion(a + i * h)\n",
    "    \n",
    "    #suma 2    \n",
    "    for i in range(2, n, 3):\n",
    "        suma2 += funcion(a + i * h)\n",
    "        \n",
    "    for i in range(3, n, 3):\n",
    "        suma3 += funcion(a + i * h)        "
   ]
  },
  {
   "cell_type": "code",
   "execution_count": 1,
   "metadata": {},
   "outputs": [],
   "source": [
    "import numpy as np"
   ]
  },
  {
   "cell_type": "code",
   "execution_count": 12,
   "metadata": {},
   "outputs": [],
   "source": [
    "def f(x):\n",
    "    \n",
    "    a = 1\n",
    "    b = 2\n",
    "    \n",
    "    #return (0.2 + 25  * xd(a, b, x)    - 200 * xd(a, b, x)**2 \n",
    "    #            + 675 * xd(a, b, x)**3 - 900 * xd(a, b, x)**4\n",
    "    #            + 400 * xd(a, b, x)**5) * dxd(a,b)\n",
    "\n",
    "    #return np.sin(xd(a, b, x)) / (1 + xd(a, b, x)**2)\n",
    "    return 1 / xd(a, b, x)**2 + xd(a, b, x)**2"
   ]
  },
  {
   "cell_type": "code",
   "execution_count": 8,
   "metadata": {},
   "outputs": [],
   "source": [
    "def xd(a, b, xd):\n",
    "    return ((b + a) + (b - a) * xd) / 2.0\n"
   ]
  },
  {
   "cell_type": "code",
   "execution_count": 9,
   "metadata": {},
   "outputs": [],
   "source": [
    "def dxd(a, b):\n",
    "    return (b - a) / 2.0"
   ]
  },
  {
   "cell_type": "code",
   "execution_count": 10,
   "metadata": {},
   "outputs": [],
   "source": [
    "c0 = 1.0\n",
    "c1 = 1.0\n",
    "x0 = -1 / np.sqrt(3)\n",
    "x1 =  1 / np.sqrt(3)"
   ]
  },
  {
   "cell_type": "code",
   "execution_count": 13,
   "metadata": {},
   "outputs": [
    {
     "data": {
      "text/plain": [
       "5.660749506903353"
      ]
     },
     "execution_count": 13,
     "metadata": {},
     "output_type": "execute_result"
    }
   ],
   "source": [
    "I = c0 * f(x0) + c1 * f(x1)\n",
    "I"
   ]
  },
  {
   "cell_type": "code",
   "execution_count": null,
   "metadata": {},
   "outputs": [],
   "source": []
  }
 ],
 "metadata": {
  "kernelspec": {
   "display_name": "Python 3",
   "language": "python",
   "name": "python3"
  },
  "language_info": {
   "codemirror_mode": {
    "name": "ipython",
    "version": 3
   },
   "file_extension": ".py",
   "mimetype": "text/x-python",
   "name": "python",
   "nbconvert_exporter": "python",
   "pygments_lexer": "ipython3",
   "version": "3.8.3"
  },
  "toc": {
   "base_numbering": 1,
   "nav_menu": {},
   "number_sections": true,
   "sideBar": true,
   "skip_h1_title": false,
   "title_cell": "Table of Contents",
   "title_sidebar": "Contents",
   "toc_cell": false,
   "toc_position": {},
   "toc_section_display": true,
   "toc_window_display": false
  }
 },
 "nbformat": 4,
 "nbformat_minor": 4
}
