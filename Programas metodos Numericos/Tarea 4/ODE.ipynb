{
 "cells": [
  {
   "cell_type": "markdown",
   "metadata": {},
   "source": [
    "# Runge - Kutta 3rd orden"
   ]
  },
  {
   "cell_type": "markdown",
   "metadata": {},
   "source": [
    "$$y_{i+1} = y_i + \\frac{1}{6} \\left( k_1+4k_2+k_3 \\right ) h$$\n",
    "$$k_1 = f(x_i,y_i)$$\n",
    "$$k_2 = f(x_i+h/2, y_i + k_1h/2)$$\n",
    "$$k_3 = f(x_i+h, y_i - k_1h + 2k_2h)$$"
   ]
  },
  {
   "cell_type": "code",
   "execution_count": 1,
   "metadata": {},
   "outputs": [],
   "source": [
    "import numpy as np\n",
    "import matplotlib.pyplot as plt"
   ]
  },
  {
   "cell_type": "code",
   "execution_count": 9,
   "metadata": {},
   "outputs": [],
   "source": [
    "def ode(xi,yi):\n",
    "    #return 2 * xi**2 + 3 * yi**2                   #Ejercicio A\n",
    "    #return yi + np.sqrt(xi ** 2 + yi **2)           #Ejercicio B\n",
    "    return xi ** 2 - 3 * xi * yi + yi ** 2 - 3 * yi #Ejercicio C\n",
    "    #return -2 * xi**3 + 12 * xi**2 - 20 * xi + 8.5 # Ejemplo 25.7 a) Chapra\n",
    "    #return 4 * np.exp(0.8 * xi) - 0.5 * yi #Ejemplo 25.7 b) Chapra\n"
   ]
  },
  {
   "cell_type": "code",
   "execution_count": 3,
   "metadata": {},
   "outputs": [],
   "source": [
    "def rk4(xi, yi, h):\n",
    "    k1 = ode(xi,yi)\n",
    "    k2 = ode(xi + h / 2, yi + k1 * h / 2)\n",
    "    k3 = ode(xi + h / 2, yi + k2 * h / 2)\n",
    "    k4 = ode(xi + h, yi + k3 * h)\n",
    "    return yi + h * (k1 + 2 * k2 + 2 * k3 + k4) / 6"
   ]
  },
  {
   "cell_type": "code",
   "execution_count": 4,
   "metadata": {},
   "outputs": [],
   "source": [
    "def rk3(xi, yi, h):\n",
    "    k1 = ode(xi,yi)\n",
    "    k2 = ode(xi + h / 2, yi + k1 * h / 2)\n",
    "    k3 = ode(xi + h, yi - k1*h + 2*k2 * h)\n",
    "    return yi + h * (k1 + 4* k2 + k3) / 6    "
   ]
  },
  {
   "cell_type": "code",
   "execution_count": 5,
   "metadata": {},
   "outputs": [],
   "source": [
    "def grafica(x,y):\n",
    "    plt.plot(x,y)"
   ]
  },
  {
   "cell_type": "code",
   "execution_count": 31,
   "metadata": {},
   "outputs": [],
   "source": [
    "y = []\n",
    "\n",
    "h  = 0.05 #float(input(\"Ingrese el valor del tamaño del paso, h: \"))\n",
    "x0 = 0.0 #float(input(\"Ingrese el valor de x0: \"))\n",
    "xf = 3.0 #float(input(\"Ingrese el valor de xf: \"))\n",
    "y0 = 2.0 #float(input(\"Ingrese el valor de y0: \"))\n",
    "\n",
    "n  = int((xf - x0) / h) + 1 #cantidad de espacios\n",
    "\n",
    "# Estableciendo las C.I.\n",
    "y.append(y0)                #adiciono la CI\n",
    "x = np.linspace(x0,xf,n)    #arreglo x\n"
   ]
  },
  {
   "cell_type": "code",
   "execution_count": 32,
   "metadata": {},
   "outputs": [
    {
     "name": "stdout",
     "output_type": "stream",
     "text": [
      "x \t\t y\n",
      "0.00000 \t 2.00000\n",
      "0.05000 \t 1.89034\n",
      "0.10000 \t 1.76309\n",
      "0.15000 \t 1.62168\n",
      "0.20000 \t 1.47042\n",
      "0.25000 \t 1.31424\n",
      "0.30000 \t 1.15823\n",
      "0.35000 \t 1.00719\n",
      "0.40000 \t 0.86524\n",
      "0.45000 \t 0.73553\n",
      "0.50000 \t 0.62014\n",
      "0.55000 \t 0.52010\n",
      "0.60000 \t 0.43550\n",
      "0.65000 \t 0.36573\n",
      "0.70000 \t 0.30966\n",
      "0.75000 \t 0.26589\n",
      "0.80000 \t 0.23287\n",
      "0.85000 \t 0.20906\n",
      "0.90000 \t 0.19300\n",
      "0.95000 \t 0.18336\n",
      "1.00000 \t 0.17899\n",
      "1.05000 \t 0.17887\n",
      "1.10000 \t 0.18218\n",
      "1.15000 \t 0.18821\n",
      "1.20000 \t 0.19641\n",
      "1.25000 \t 0.20631\n",
      "1.30000 \t 0.21755\n",
      "1.35000 \t 0.22985\n",
      "1.40000 \t 0.24297\n",
      "1.45000 \t 0.25676\n",
      "1.50000 \t 0.27106\n",
      "1.55000 \t 0.28578\n",
      "1.60000 \t 0.30083\n",
      "1.65000 \t 0.31616\n",
      "1.70000 \t 0.33172\n",
      "1.75000 \t 0.34746\n",
      "1.80000 \t 0.36337\n",
      "1.85000 \t 0.37943\n",
      "1.90000 \t 0.39561\n",
      "1.95000 \t 0.41190\n",
      "2.00000 \t 0.42829\n",
      "2.05000 \t 0.44478\n",
      "2.10000 \t 0.46135\n",
      "2.15000 \t 0.47800\n",
      "2.20000 \t 0.49473\n",
      "2.25000 \t 0.51153\n",
      "2.30000 \t 0.52840\n",
      "2.35000 \t 0.54534\n",
      "2.40000 \t 0.56233\n",
      "2.45000 \t 0.57938\n",
      "2.50000 \t 0.59649\n",
      "2.55000 \t 0.61365\n",
      "2.60000 \t 0.63086\n",
      "2.65000 \t 0.64812\n",
      "2.70000 \t 0.66542\n",
      "2.75000 \t 0.68278\n",
      "2.80000 \t 0.70017\n",
      "2.85000 \t 0.71761\n",
      "2.90000 \t 0.73508\n",
      "2.95000 \t 0.75259\n",
      "3.00000 \t 0.77015\n"
     ]
    }
   ],
   "source": [
    "print(\"x \\t\\t y\")\n",
    "print(\"{0:6.5f} \\t {1:6.5f}\".format(x[0],y[0]))\n",
    "for i in range(1,n):\n",
    "    yrk4 = rk4(x[i-1], y[i-1], h)\n",
    "    y.append(yrk4)\n",
    "    print(\"{0:6.5f} \\t {1:6.5f}\".format(x[i],y[i]))\n"
   ]
  },
  {
   "cell_type": "code",
   "execution_count": 33,
   "metadata": {},
   "outputs": [
    {
     "data": {
      "image/png": "[encoded data removed]",
      "text/plain": [
       "<Figure size 432x288 with 1 Axes>"
      ]
     },
     "metadata": {
      "needs_background": "light"
     },
     "output_type": "display_data"
    }
   ],
   "source": [
    "grafica(x,y)"
   ]
  },
  {
   "cell_type": "code",
   "execution_count": null,
   "metadata": {},
   "outputs": [],
   "source": []
  }
 ],
 "metadata": {
  "kernelspec": {
   "display_name": "Python 3",
   "language": "python",
   "name": "python3"
  },
  "language_info": {
   "codemirror_mode": {
    "name": "ipython",
    "version": 3
   },
   "file_extension": ".py",
   "mimetype": "text/x-python",
   "name": "python",
   "nbconvert_exporter": "python",
   "pygments_lexer": "ipython3",
   "version": "3.6.10"
  },
  "toc": {
   "base_numbering": 1,
   "nav_menu": {},
   "number_sections": true,
   "sideBar": true,
   "skip_h1_title": false,
   "title_cell": "Table of Contents",
   "title_sidebar": "Contents",
   "toc_cell": false,
   "toc_position": {},
   "toc_section_display": true,
   "toc_window_display": false
  }
 },
 "nbformat": 4,
 "nbformat_minor": 4
}
