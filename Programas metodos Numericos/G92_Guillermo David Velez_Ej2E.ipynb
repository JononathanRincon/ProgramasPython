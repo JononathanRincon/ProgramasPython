{
 "cells": [
  {
   "cell_type": "markdown",
   "metadata": {},
   "source": [
    "### Archivo:\tG92_GuillermoVelez_Ej2E.ipynb\n",
    "### Autor: \tGuillermo Velez\n",
    "### Fecha:\t28/10/2020 - 29/10/2020\n",
    "\n",
    "# Ejercicio 2E: Regresión lineal\n",
    "---"
   ]
  },
  {
   "cell_type": "markdown",
   "metadata": {},
   "source": [
    "### Descripcion:\n",
    "\n",
    "Para el conjunto de datos:\n",
    "\n",
    "### E:\n",
    "\n",
    "<HTML>\n",
    "    <TABLE>\n",
    "        <TR>\n",
    "            <TD><B>X</B></TD><TD>0</TD><TD>30</TD><TD>10</TD><TD>15</TD><TD>5</TD><TD>25</TD><TD>35</TD><TD>40</TD>\n",
    "        </TR>\n",
    "        <TR>\n",
    "            <TD><B>Y</B></TD><TD>4</TD><TD>1</TD><TD>2</TD><TD>2</TD><TD>3</TD><TD>1</TD><TD>0</TD><TD>1</TD>\n",
    "        </TR>\n",
    "    </TABLE>\n",
    "</HTML>\n",
    "\n",
    "realice un programa en Python empleando el Jupyter Notebook que:\n",
    "- Ajuste los datos a una línea recta empleando el método de los mínimos cuadrados, realizando una descripción teórica detallada.\n",
    "- Calcule la pendiente y la intersección, así como el error estándar y el coeficiente de correlación.\n",
    "- Realice una gráfica en donde se muestren los datos originales y la recta que ajusta.\n",
    "- Haga un análisis de resultados basándose en la teoría y en los resultados obtenidos. Debe incluir referencias a la bibliografía empleada usando las normas APA. Comentarios sin referencias no serán tenidos en cuenta.\n",
    "- Para cada método haga una descripción teórica (las ecuaciones deberán estar escritas en $LaTeX$) incluyendo referencias bibliográficas empleadas siguiendo las normas APA.\n",
    "---"
   ]
  },
  {
   "cell_type": "markdown",
   "metadata": {},
   "source": [
    "## Desarrollo del ejercicio:\n",
    "### 1. Se pasa el conjunto de datos a listas"
   ]
  },
  {
   "cell_type": "code",
   "execution_count": 2,
   "metadata": {},
   "outputs": [
    {
     "name": "stdout",
     "output_type": "stream",
     "text": [
      "x: [0, 30, 10, 15, 5, 25, 35, 40]\n",
      "y: [4, 1, 2, 2, 3, 1, 0, 1]\n",
      "Cantidad de datos (n): 8\n"
     ]
    }
   ],
   "source": [
    "import numpy as np\n",
    "import math as m\n",
    "\n",
    "x = [0, 30, 10, 15, 5, 25, 35, 40]\n",
    "y = [4, 1, 2, 2, 3, 1, 0, 1]\n",
    "n = len(x)\n",
    "sep=\"\\t\"\n",
    "\n",
    "print(\"x:\", x)\n",
    "print(\"y:\", y)\n",
    "print(\"Cantidad de datos (n):\", n)\n"
   ]
  },
  {
   "cell_type": "markdown",
   "metadata": {},
   "source": [
    "### 2. Las listas de datos no están ordenadas. Se pasan las listas $[x], [y]$ a tuplas $(x, y)$ con la función $zip$ de python, para ordenarlas con luego con respecto a $x$ con el método $sort$ de python, y se devuelven luego como listas ordenadas. (Moracho, 2017)"
   ]
  },
  {
   "cell_type": "code",
   "execution_count": 3,
   "metadata": {
    "scrolled": true
   },
   "outputs": [
    {
     "name": "stdout",
     "output_type": "stream",
     "text": [
      "x: [0, 5, 10, 15, 25, 30, 35, 40]\n",
      "y: [4, 3, 2, 2, 1, 1, 0, 1]\n"
     ]
    }
   ],
   "source": [
    "tuplelist = [e for e in zip(x, y)]\n",
    "tuplelist.sort(key=lambda tuplelist: tuplelist[0])\n",
    "xord = []\n",
    "yord = []\n",
    "xord, yord = [list(e) for e in zip(*tuplelist)]\n",
    "\n",
    "print(\"x:\", xord)\n",
    "print(\"y:\", yord)"
   ]
  },
  {
   "cell_type": "markdown",
   "metadata": {},
   "source": [
    "### 3. Se crea la función de regresión por mínimos cuadrados, basándose en la codificación propuesta en el material de referencia (Canale, 2007). Posteriormente se evalúa usando los datos del ejercicio.\n",
    "\n",
    "De acuerdo con la teoría, lo que trata este método es buscar la ecuación de una recta, con la cual la distancia de la nube de puntos dados a ésta recta, sea mínima y de esta manera explicar aproximadamente el comportamiento de los datos (asociados a algún fenómeno). Teniendo en cuenta que la ecuación de una recta (en forma pendiente - intercepto) es  $y = a_0 + a_1 x + e$, donde $a_1$ es la pendiente de la recta, $a_0$ el intercepto y $e$ el error. Despejando $e$, se calculan de la siguiente forma:\n",
    "\n",
    "<HTML>\n",
    "    <TABLE border=\"0\">\n",
    "        <TR>\n",
    "            <TD>$\\sum_{i=1}^n e_i=\\sum_{i=1}^n (y_i-a_0-a_1x_i)$,</TD>\n",
    "            <TD>     </TD>\n",
    "            <TD>$ a_1=\\frac{n\\sum x_i y_i-\\sum x_i\\sum y_i}{n\\sum x_i^2-(\\sum x_i)^2}$,</TD>\n",
    "            <TD>     </TD>\n",
    "            <TD>$a_0=\\overline{y}-a_1\\overline{x}$</TD>\n",
    "        </TR>\n",
    "    </TABLE>\n",
    "</HTML>\n",
    "\n",
    "Asociados con el metodo tambien se calculan; error estándar $S_{y/x}=\\sqrt{\\frac{s_r}{n-2}}$ que cuantifica la dispersión de los datos, la magnitud del error residual $S_t$ asociado con la variable dependiente ($y$) antes de la regresión y el error después de realizar la regresión $S_r$. Ambos sirven para calcular además, el coeficiente de determinación $r^2=\\frac{S_t-S_r}{S_t}$ que es la norma de $S_t$ por diferencia de los anteriores $r^2=\\frac{S_t-S_r}{S_t}$ que que explica cuanto explica el modelo lineal (regresión) el conjunto de datos dados.\n"
   ]
  },
  {
   "cell_type": "code",
   "execution_count": 4,
   "metadata": {},
   "outputs": [
    {
     "name": "stdout",
     "output_type": "stream",
     "text": [
      "pendiente a1: -0.02666666666666667 \t intercepto a0: 1.7833333333333332\n",
      "error estandar St: 5.9375 \t error residual Sr: 3.2530555555555556 \t error estandar estimado Sy/x: 0.7363259644518356\n",
      "r2: 0.4521169590643275\n"
     ]
    }
   ],
   "source": [
    "def Regress(x, y, n):\n",
    "    sumx = 0\n",
    "    sumxy = 0\n",
    "    st = 0 \n",
    "    sumy = 0\n",
    "    sumx2 = 0\n",
    "    sr = 0\n",
    "    \n",
    "    for i in range(1, n):\n",
    "        sumx = sumx + x[i] \n",
    "        sumy = sumy + y[i] \n",
    "        sumxy = sumxy + x[i]*y[i] \n",
    "        sumx2 = sumx2 + x[i]*x[i]\n",
    "    \n",
    "    xm = sumx / n \n",
    "    ym = sumy / n\n",
    "    a1 = (n * sumxy - sumx * sumy) / (n * sumx2 - sumx * sumx)\n",
    "    a0 = ym - a1 * xm\n",
    "    for i in range(1, n):\n",
    "        st = st + (y[i] - ym) ** 2\n",
    "        sr = sr + (y[i] - a1 * x[i] - a0) ** 2\n",
    "\n",
    "    syx = (sr / (n - 2)) ** 0.5\n",
    "    r2 = (st - sr) / st\n",
    "    Reg_Lin = [a1, a0, st, sr, syx, r2]\n",
    "    return Reg_Lin\n",
    "    \n",
    "Reg_Lin = Regress(xord, yord, n)\n",
    "\n",
    "print(\"pendiente a1:\" , Reg_Lin[0], sep, \"intercepto a0:\" , Reg_Lin[1])\n",
    "print(\"error estandar St:\" , Reg_Lin[2], sep, \"error residual Sr:\" , Reg_Lin[3], sep, \"error estandar estimado Sy/x:\" , Reg_Lin[4])\n",
    "print(\"r2:\" , Reg_Lin[5])"
   ]
  },
  {
   "cell_type": "markdown",
   "metadata": {},
   "source": [
    "### De acuerdo con los resultados de la regresión, la ecuación de la recta que representa el modelo lineal de los datos dados es: $ y = 1.783 - 0.027x$ ; y de acuerdo con el coeficiente de correlación $r^2 = 0.45$, se indica que el modelo lineal sólo explica el 45% del comportamiento de los datos...\n",
    "---"
   ]
  },
  {
   "cell_type": "markdown",
   "metadata": {},
   "source": [
    "## Gráfica Regresión Lineal del Ejercicio 2E"
   ]
  },
  {
   "cell_type": "code",
   "execution_count": 5,
   "metadata": {},
   "outputs": [
    {
     "data": {
      "image/png": "[encoded data removed]",
      "text/plain": [
       "<Figure size 432x288 with 1 Axes>"
      ]
     },
     "metadata": {
      "needs_background": "light"
     },
     "output_type": "display_data"
    }
   ],
   "source": [
    "import matplotlib.pyplot as plt\n",
    "\n",
    "y2=[]\n",
    "for i in range(0, n):\n",
    "    y2.append(Reg_Lin[1] + Reg_Lin[0] * xord[i])\n",
    "\n",
    "plt.title(\"Regresión Lineal\")\n",
    "plt.xlabel(\"x\")\n",
    "plt.ylabel(\"y\")\n",
    "plt.axhline(0, color = \"gray\", linewidth = 2, linestyle = \"solid\")\n",
    "plt.axvline(0, color = \"gray\", linewidth = 2, linestyle = \"solid\")\n",
    "plt.xlim(-10, 50)\n",
    "plt.ylim(-1, 5)\n",
    "plt.plot(xord, yord, color=\"c\", label=\"Datos\", marker =\"o\")\n",
    "plt.plot(xord, y2, color=\"r\", label=\"Regresión Lineal:  $y = 1.783 -0.027x$\", marker =\"o\")\n",
    "plt.legend()\n",
    "plt.grid()\n",
    "plt.show()"
   ]
  },
  {
   "cell_type": "markdown",
   "metadata": {},
   "source": [
    "---\n",
    "## Análisis de resultados\n",
    "\n",
    "- De la gráfica, se puede observar que la nube de puntos dados no concuerda mucho con una línea recta (lo que se confirma con el coeficiente de determinación de $r^2 = 0.45$, que solo explica el 45% de los datos), los primeros datos se alejan bastante de la recta hallada en la regresión; o viceversa, si no se tomase en cuenta el último dato (que parece no concordar con la tendencia de los demás) se tendría una recta con una pendiente más pronunciada y la recta encontrada por dicha regresión, tendría menor (distancia) error con respecto a la dispersión de los datos. Otra opción sería, buscar un módelo de regresión para una curva en lugar de una recta.\n",
    "---"
   ]
  },
  {
   "cell_type": "markdown",
   "metadata": {},
   "source": [
    "## Referencias\n",
    "\n",
    "Canale, R. P. y P. Canale, R. (2007). Métodos numéricos para ingenieros (5a. ed.). México D.F, Mexico: McGraw-Hill Interamericana. (pp. 233 – 244, 305 – 317). Tomado de: https://elibro-net.bibliotecavirtual.unad.edu.co/es/lc/unad/titulos/73710\n",
    "\n",
    "Ferrer, J. (s.f.). Métodos iterativos: Cálculo Numérico. Tomado de: http://venus.ceride.gov.ar/cursos/moodledata/31/moddata/assignment/195/4382/Ferrer_Juan_Ignacio_TP3_Metodos_Iterativos.pdf\n",
    "\n",
    "Burrueco, D. (s.f.). La función plot estilo OO. Tomado de: https://www.interactivechaos.com/manual/tutorial-de-matplotlib/la-funcion-plot-estilo-oo\n",
    "\n",
    "Oliphant, T. (2020). Guide to NumPy: NumPy Reference. Tomado de: https://numpy.org/doc/stable/reference/index.html\n",
    "\n",
    "Moracho, P.(26/07/2017). Ordenar listas en Python 3 dependiendo de otra lista. [Foro] Tomado de: https://es.stackoverflow.com/questions/90784/ordenar-listas-en-python-3-dependiendo-de-otra-lista"
   ]
  }
 ],
 "metadata": {
  "kernelspec": {
   "display_name": "Python 3",
   "language": "python",
   "name": "python3"
  },
  "language_info": {
   "codemirror_mode": {
    "name": "ipython",
    "version": 3
   },
   "file_extension": ".py",
   "mimetype": "text/x-python",
   "name": "python",
   "nbconvert_exporter": "python",
   "pygments_lexer": "ipython3",
   "version": "3.8.3"
  }
 },
 "nbformat": 4,
 "nbformat_minor": 4
}
