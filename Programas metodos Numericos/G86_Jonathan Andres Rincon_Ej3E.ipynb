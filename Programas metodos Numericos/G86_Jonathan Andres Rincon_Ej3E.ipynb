{
 "cells": [
  {
   "cell_type": "markdown",
   "metadata": {},
   "source": [
    "# Interpolacion"
   ]
  },
  {
   "cell_type": "markdown",
   "metadata": {},
   "source": [
    "<table style = \"border: 1px solid; font-size: = 15px; text-align:center;\">\n",
    "    <tr style = \"border: 1px solid\">\n",
    "        <th style = \"border: 1px solid\"><strong style = \"bold\">x</strong></th>\n",
    "        <th style = \"border: 1px solid; text-align:center;\"><i>1</i></th>\n",
    "        <th style = \"border: 1px solid; text-align:center;\"><i>2</i></th>\n",
    "        <th style = \"border: 1px solid; text-align:center;\"><i>3</i></th>\n",
    "        <th style = \"border: 1px solid; text-align:center;\"><i>4</i></th>\n",
    "        <th style = \"border: 1px solid; text-align:center;\"><i>5</i></th>\n",
    "        <th style = \"border: 1px solid; text-align:center;\"><i>6</i></th>\n",
    "        <th style = \"border: 1px solid; text-align:center;\"><i>7</i></th>\n",
    "        <th style = \"border: 1px solid; text-align:center;\"><i>8</i></th>\n",
    "        <th style = \"border: 1px solid; text-align:center;\"><i>9</i></th>\n",
    "        <th style = \"border: 1px solid; text-align:center;\"><i>10</i></th>\n",
    "        <th style = \"border: 1px solid; text-align:center;\"><i>11</i></th>\n",
    "    </tr>\n",
    "    <tr>\n",
    "        <th style = \"border: 1px solid\"><strong>y</strong></th>\n",
    "        <th style = \"border: 1px solid\"><i>-0, 5</i></th>\n",
    "        <th style = \"border: 1px solid\"><i>0,26873</i></th>\n",
    "        <th style = \"border: 1px solid\"><i>0,70424</i></th>\n",
    "        <th style = \"border: 1px solid\"><i>1,00412</i></th>\n",
    "        <th style = \"border: 1px solid\"><i>1,23127</i></th>\n",
    "        <th style = \"border: 1px solid\"><i>1,23127</i></th>\n",
    "        <th style = \"border: 1px solid\"><i>?</i></th>\n",
    "        <th style = \"border: 1px solid\"><i>0,70424</i></th>\n",
    "        <th style = \"border: 1px solid\"><i>0</i></th>\n",
    "        <th style = \"border: 1px solid\"><i>-0,5</i></th>\n",
    "        <th style = \"border: 1px solid\"><i>0</i></th>\n",
    "    </tr>\n",
    "</table>"
   ]
  },
  {
   "cell_type": "markdown",
   "metadata": {},
   "source": [
    "###### Ajuste a un polinomio de interpolación los datos dados, empleando cada uno de los siguientes métodos:\n",
    "* Newton\n",
    "* Lagrange\n",
    "* Trazadores cúbicos"
   ]
  },
  {
   "cell_type": "markdown",
   "metadata": {},
   "source": [
    "- Con el polinomio encontrado, determine el valor en $𝑥=7$"
   ]
  },
  {
   "cell_type": "markdown",
   "metadata": {},
   "source": [
    "### Newton"
   ]
  },
  {
   "cell_type": "markdown",
   "metadata": {},
   "source": [
    "La fórmula general para un polinomio de n-ésimo grado es: $$f(x)=a_0+a_{1x}+a_{2x}^2+...+a_n^n$$"
   ]
  },
  {
   "cell_type": "markdown",
   "metadata": {},
   "source": [
    "fórmula para calcular valores intermedios.(Canale 2007), La forma más simple de interpolación consiste en unir dos puntos con una línea recta.para ello se usa la siguiente fiormula: $$f_1(x)=f(x_0)+\\frac{fx_1-fx_0}{x_1-x_0}(x-x_0)$$"
   ]
  },
  {
   "cell_type": "markdown",
   "metadata": {},
   "source": [
    "Donde $x$ es un punto entre $x_0$ y $x_1$ que queremos encontrar"
   ]
  },
  {
   "cell_type": "markdown",
   "metadata": {},
   "source": [
    "El análisis anterior puede generalizarse para ajustar un polinomio de n-ésimo grado a n+1 datos. El polinomio de n-ésimo grado es: $$f_n(x) = b_0 + b_1(x – x_0) + · · · + b_n(x – x_0)(x – x_1)· · ·(x – x_{n–1})$$ "
   ]
  },
  {
   "cell_type": "markdown",
   "metadata": {},
   "source": [
    "Usamos estos datos y las siguientes ecuaciones para evaluar los coeficientes:"
   ]
  },
  {
   "cell_type": "markdown",
   "metadata": {},
   "source": [
    "$$b_0 = f(x_0)\n",
    "$$ $$b_1 =  f[x_1, x_0]$$\n",
    "$$b_2 =  f[x_2, x_1, x_0]$$\n",
    "$$b_n =  f[x_n, x_{n-1},...x_1,x_0]$$\n"
   ]
  },
  {
   "cell_type": "markdown",
   "metadata": {},
   "source": [
    "la primera diferencia dividida finita en forma general se representa como:\n",
    "$$f[x_i,x_j]=\\frac{fx_i-fx_j}{x_i-x_j}$$"
   ]
  },
  {
   "cell_type": "markdown",
   "metadata": {},
   "source": [
    "segunda diferencia dividida finita, que representa la diferencia de las dos primeras diferencias divididas, se expresa en forma general como:\n",
    "$$f[x_i,x_j, x_k]=\\frac{f[x_i,x_j]-f[x_j,x_k]}{x_i-x_k}$$"
   ]
  },
  {
   "cell_type": "markdown",
   "metadata": {},
   "source": [
    "Estas diferencias sirven para evaluar los coeficientes en las ecuaciones $b_0$ a $b_n$, los cuales se sustituirán en la ecuación $f_n(x) = b_0 + b_1(x – x_0) + · · · + b_n(x – x_0)(x – x_1)· · ·(x – x_{n–1})$  polinomio de interpolación de Newton en diferencias divididas.(Canale 2007)"
   ]
  },
  {
   "cell_type": "code",
   "execution_count": 1,
   "metadata": {},
   "outputs": [],
   "source": [
    "import matplotlib.pyplot as plt\n",
    "import numpy as np"
   ]
  },
  {
   "cell_type": "code",
   "execution_count": 2,
   "metadata": {},
   "outputs": [],
   "source": [
    "x1= [1,2,3,4,5,6,8,9,10,11]\n",
    "y2= [-0.5,0.26873,0.70424, 1.00412, 1.23127, 1.23127, 0.70424,0,-0.5,0]\n",
    "xi=7\n",
    "n=len(x1)"
   ]
  },
  {
   "cell_type": "code",
   "execution_count": 3,
   "metadata": {},
   "outputs": [],
   "source": [
    "def NewtInt (x, y, n, xi):\n",
    "    \n",
    "    fdd=[[None for x in range(n)] for x in range (n)]\n",
    "    yint=[None for x in range(n)]\n",
    "    ea=[None for x in range(n)]\n",
    "         \n",
    "    for i in range(n):\n",
    "        fdd[i][0]=y[i]\n",
    "              \n",
    "    print(\"#i \\t x_i \\t f(x_i) \\t diferencia\")     \n",
    "    for j in range(1,n):\n",
    "        for i in range(n-j):\n",
    "            fdd[i][j] = (fdd[i+1][j-1]-fdd[i][j-1])/(x[i+j]-x[i])\n",
    "            print (\"{0} \\t{1} \\t{2:.5f} \\t{3:.5f}\".format(i,x[i],y[i],fdd[i][j]))\n",
    "    xterm = 1\n",
    "    yint[0]=fdd[0][0]\n",
    "         \n",
    "    for order in range(1,n):\n",
    "        xterm = xterm * (xi-x[order-1])\n",
    "        yint2 = yint[order-1] + fdd[0][order] * xterm\n",
    "        ea[order-1] = yint2-yint[order-1]\n",
    "        yint[order] = yint2\n",
    "        \n",
    "    #print(ea[order-1])\n",
    "    return yint[order], ea[order-1]"
   ]
  },
  {
   "cell_type": "code",
   "execution_count": 4,
   "metadata": {},
   "outputs": [
    {
     "name": "stdout",
     "output_type": "stream",
     "text": [
      "#i \t x_i \t f(x_i) \t diferencia\n",
      "0 \t1 \t-0.50000 \t0.76873\n",
      "1 \t2 \t0.26873 \t0.43551\n",
      "2 \t3 \t0.70424 \t0.29988\n",
      "3 \t4 \t1.00412 \t0.22715\n",
      "4 \t5 \t1.23127 \t0.00000\n",
      "5 \t6 \t1.23127 \t-0.26352\n",
      "6 \t8 \t0.70424 \t-0.70424\n",
      "7 \t9 \t0.00000 \t-0.50000\n",
      "8 \t10 \t-0.50000 \t0.50000\n",
      "0 \t1 \t-0.50000 \t-0.16661\n",
      "1 \t2 \t0.26873 \t-0.06782\n",
      "2 \t3 \t0.70424 \t-0.03636\n",
      "3 \t4 \t1.00412 \t-0.11358\n",
      "4 \t5 \t1.23127 \t-0.08784\n",
      "5 \t6 \t1.23127 \t-0.14691\n",
      "6 \t8 \t0.70424 \t0.10212\n",
      "7 \t9 \t0.00000 \t0.50000\n",
      "0 \t1 \t-0.50000 \t0.03293\n",
      "1 \t2 \t0.26873 \t0.01048\n",
      "2 \t3 \t0.70424 \t-0.02574\n",
      "3 \t4 \t1.00412 \t0.00643\n",
      "4 \t5 \t1.23127 \t-0.01477\n",
      "5 \t6 \t1.23127 \t0.06226\n",
      "6 \t8 \t0.70424 \t0.13263\n",
      "0 \t1 \t-0.50000 \t-0.00561\n",
      "1 \t2 \t0.26873 \t-0.00906\n",
      "2 \t3 \t0.70424 \t0.00643\n",
      "3 \t4 \t1.00412 \t-0.00424\n",
      "4 \t5 \t1.23127 \t0.01540\n",
      "5 \t6 \t1.23127 \t0.01407\n",
      "0 \t1 \t-0.50000 \t-0.00069\n",
      "1 \t2 \t0.26873 \t0.00258\n",
      "2 \t3 \t0.70424 \t-0.00178\n",
      "3 \t4 \t1.00412 \t0.00327\n",
      "4 \t5 \t1.23127 \t-0.00022\n",
      "0 \t1 \t-0.50000 \t0.00047\n",
      "1 \t2 \t0.26873 \t-0.00062\n",
      "2 \t3 \t0.70424 \t0.00072\n",
      "3 \t4 \t1.00412 \t-0.00050\n",
      "0 \t1 \t-0.50000 \t-0.00014\n",
      "1 \t2 \t0.26873 \t0.00017\n",
      "2 \t3 \t0.70424 \t-0.00015\n",
      "0 \t1 \t-0.50000 \t0.00003\n",
      "1 \t2 \t0.26873 \t-0.00004\n",
      "0 \t1 \t-0.50000 \t-0.00001\n"
     ]
    }
   ],
   "source": [
    "yi,ea=(NewtInt(x1, y2, n, xi))"
   ]
  },
  {
   "cell_type": "markdown",
   "metadata": {},
   "source": [
    "Con el polinomio encontrado, determine el valor en 𝑥 = 7"
   ]
  },
  {
   "cell_type": "code",
   "execution_count": 5,
   "metadata": {},
   "outputs": [
    {
     "name": "stdout",
     "output_type": "stream",
     "text": [
      "el valor de x=7 es f(x)= 1.06292\n"
     ]
    }
   ],
   "source": [
    "print(\"el valor de x=7 es f(x)=\",round(yi,5))"
   ]
  },
  {
   "cell_type": "code",
   "execution_count": 6,
   "metadata": {},
   "outputs": [
    {
     "name": "stdout",
     "output_type": "stream",
     "text": [
      "el valor del error es 0.03000673809523824\n"
     ]
    }
   ],
   "source": [
    "print(\"el valor del error es\",ea)"
   ]
  },
  {
   "cell_type": "markdown",
   "metadata": {},
   "source": [
    "Como podemos ver ya tenemos todas las y correspondientes"
   ]
  },
  {
   "cell_type": "markdown",
   "metadata": {},
   "source": [
    "<table style = \"border: 1px solid; font-size: = 15px; text-align:center;\">\n",
    "    <tr style = \"border: 1px solid\">\n",
    "        <th style = \"border: 1px solid\"><strong style = \"bold\">x</strong></th>\n",
    "        <th style = \"border: 1px solid; text-align:center;\"><i>1</i></th>\n",
    "        <th style = \"border: 1px solid; text-align:center;\"><i>2</i></th>\n",
    "        <th style = \"border: 1px solid; text-align:center;\"><i>3</i></th>\n",
    "        <th style = \"border: 1px solid; text-align:center;\"><i>4</i></th>\n",
    "        <th style = \"border: 1px solid; text-align:center;\"><i>5</i></th>\n",
    "        <th style = \"border: 1px solid; text-align:center;\"><i>6</i></th>\n",
    "        <th style = \"border: 1px solid; text-align:center;\"><i>7</i></th>\n",
    "        <th style = \"border: 1px solid; text-align:center;\"><i>8</i></th>\n",
    "        <th style = \"border: 1px solid; text-align:center;\"><i>9</i></th>\n",
    "        <th style = \"border: 1px solid; text-align:center;\"><i>10</i></th>\n",
    "        <th style = \"border: 1px solid; text-align:center;\"><i>11</i></th>\n",
    "    </tr>\n",
    "    <tr>\n",
    "        <th style = \"border: 1px solid\"><strong>y</strong></th>\n",
    "        <th style = \"border: 1px solid\"><i>-0,5</i></th>\n",
    "        <th style = \"border: 1px solid\"><i>0,26873</i></th>\n",
    "        <th style = \"border: 1px solid\"><i>0,70424</i></th>\n",
    "        <th style = \"border: 1px solid\"><i>1,00412</i></th>\n",
    "        <th style = \"border: 1px solid\"><i>1,23127</i></th>\n",
    "        <th style = \"border: 1px solid\"><i>1,23127</i></th>\n",
    "        <th style = \"border: 1px solid\"><i>1.06292</i></th>\n",
    "        <th style = \"border: 1px solid\"><i>0,70424</i></th>\n",
    "        <th style = \"border: 1px solid\"><i>0</i></th>\n",
    "        <th style = \"border: 1px solid\"><i>-0,5</i></th>\n",
    "        <th style = \"border: 1px solid\"><i>0</i></th>\n",
    "    </tr>\n",
    "</table>"
   ]
  },
  {
   "cell_type": "code",
   "execution_count": 16,
   "metadata": {},
   "outputs": [],
   "source": [
    "x2= [1,2,3,4,5,6,7,8,9,10,11]\n",
    "y3= [-0.5,0.26873,0.70424, 1.00412, 1.23127, 1.23127,1.06292, 0.70424,0,-0.5, 0]"
   ]
  },
  {
   "cell_type": "code",
   "execution_count": 17,
   "metadata": {},
   "outputs": [
    {
     "data": {
      "image/png": "[encoded data removed]",
      "text/plain": [
       "<Figure size 432x288 with 1 Axes>"
      ]
     },
     "metadata": {
      "needs_background": "light"
     },
     "output_type": "display_data"
    }
   ],
   "source": [
    "import numpy as np\n",
    "import matplotlib.pyplot as plt\n",
    "\n",
    "plt.xlabel(\"eje x\")\n",
    "plt.ylabel(\"eje y\")\n",
    "\n",
    "plt.plot(x2,y3,\"blue\", label=\"original\")\n",
    "plt.legend()\n",
    "\n",
    "t = np.arange(0.0, 10.0, 0.10)\n",
    "s = np.sin(t)\n",
    "\n",
    "plt.plot(t,s,\"red\", label=\"Seno(x)\")\n",
    "plt.legend()\n",
    "\n",
    "\n",
    "plt.show()"
   ]
  },
  {
   "cell_type": "markdown",
   "metadata": {},
   "source": [
    "x=7 es en realidad seno(7)."
   ]
  },
  {
   "cell_type": "markdown",
   "metadata": {},
   "source": [
    "$$f_n(x)=\\sum_{i=0}^n L_i(x)f(x_i)$$"
   ]
  },
  {
   "cell_type": "markdown",
   "metadata": {},
   "source": [
    "donde"
   ]
  },
  {
   "cell_type": "markdown",
   "metadata": {},
   "source": [
    "$$L_i(x)=\\prod_{j=n,j\\neq i}^n \\frac{x-x_j}{x_i-x_j}$$"
   ]
  },
  {
   "cell_type": "markdown",
   "metadata": {},
   "source": [
    "donde $\\prod$ designa el “producto de”.(chapra 2007)"
   ]
  },
  {
   "cell_type": "code",
   "execution_count": 9,
   "metadata": {},
   "outputs": [],
   "source": [
    "def Lagrng(x1, y2, n,xi):\n",
    "    sum = 0\n",
    "    for i in range(n):\n",
    "        product = y2[i]\n",
    "        for j in range(n):\n",
    "            if i != j:\n",
    "                product = product*(xi-x1[j])/(x1[i]-x1[j])\n",
    "        sum = sum + product\n",
    "    #Lagrng = sum\n",
    "    return sum"
   ]
  },
  {
   "cell_type": "code",
   "execution_count": 10,
   "metadata": {},
   "outputs": [],
   "source": [
    "yi1=(Lagrng(x1, y2, n,xi))"
   ]
  },
  {
   "cell_type": "code",
   "execution_count": 11,
   "metadata": {},
   "outputs": [
    {
     "name": "stdout",
     "output_type": "stream",
     "text": [
      "el valor de x=7 es f(x)= 1.062919238095238\n"
     ]
    }
   ],
   "source": [
    "print(\"el valor de x=7 es f(x)=\",yi1)"
   ]
  },
  {
   "cell_type": "markdown",
   "metadata": {},
   "source": [
    "## Trazadores cúbicos"
   ]
  },
  {
   "cell_type": "markdown",
   "metadata": {},
   "source": [
    "$$f_i(x)=a_ix^3+b_ix^2+c_ix+d_i$$\n"
   ]
  },
  {
   "cell_type": "markdown",
   "metadata": {},
   "source": [
    " Las incógnitas se evalúan empleando la siguiente ecuación"
   ]
  },
  {
   "cell_type": "markdown",
   "metadata": {},
   "source": [
    "$$(x_i-x_{i-1})f''(x_{i-1})+2(x_{i+1}-x_{i-1})f''(x_i)+(x_{i+1}-x_i)f''(x_{i+1})$$\\\\\n",
    "$$=\\frac{6}{x_{i+1}-x_{i}}[f(x_{i+1})-f(x_i)]+\\frac{6}{x_{i}-x_{i-1}}[f(x_{i-1})-f(x_i)]$$"
   ]
  },
  {
   "cell_type": "code",
   "execution_count": 12,
   "metadata": {},
   "outputs": [],
   "source": [
    "def traza(x,y):\n",
    "    h = np.zeros(n-1, dtype = float)\n",
    "    \n",
    "    for j in range(n-1):\n",
    "        h[j] = x[j+1] - x[j]\n",
    "    \n",
    "    A = np.zeros(shape=(n-2,n-2), dtype = float)\n",
    "    B = np.zeros(n-2, dtype = float)\n",
    "    S = np.zeros(n, dtype = float)\n",
    "\n",
    "    A[0,0] = 2*(h[0]+h[1])\n",
    "    A[0,1] = h[1]\n",
    "    B[0] = 6*((y[2]-y[1])/h[1] - (y[1]-y[0])/h[0])\n",
    "\n",
    "    for i in range(1,n-3):\n",
    "        A[i,i-1] = h[i]\n",
    "        A[i,i] = 2*(h[i]+h[i+1])\n",
    "        A[i,i+1] = h[i+1]\n",
    "        factor21 = (y[i+2]-y[i+1])/h[i+1]\n",
    "        factor10 = (y[i+1]-y[i])/h[i]\n",
    "        B[i] = 6*(factor21 - factor10)\n",
    "        \n",
    "    A[n-3,n-4] = h[n-3]\n",
    "    A[n-3,n-3] = 2*(h[n-3]+h[n-2])\n",
    "    factor12 = (y[n-1]-y[n-2])/h[n-2]\n",
    "    factor23 = (y[n-2]-y[n-3])/h[n-3]\n",
    "    B[n-3] = 6*(factor12 - factor23)\n",
    "    \n",
    "\n",
    "    r = np.linalg.solve(A,B)\n",
    "    for j in range(1,n-1):\n",
    "        S[j] = r[j-1]\n",
    "    S[0] = 0\n",
    "    S[n-1] = 0\n",
    "    \n",
    "\n",
    "    a = np.zeros(n-1, dtype = float)\n",
    "    b = np.zeros(n-1, dtype = float)\n",
    "    c = np.zeros(n-1, dtype = float)\n",
    "    d = np.zeros(n-1, dtype = float)\n",
    "    \n",
    "    for j in range(n-1):\n",
    "        a[j] = (S[j+1]-S[j])/(6*h[j])\n",
    "        b[j] = S[j]/2\n",
    "        factor10 = (y[j+1]-y[j])/h[j]\n",
    "        c[j] = factor10 - (2*h[j]*S[j]+h[j]*S[j+1])/6\n",
    "        d[j] = y[j]\n",
    "\n",
    "    tabla1 = []\n",
    "    for j in range(n-1):\n",
    "        tramo = a[j]*(x1[j+1]-x1[j])**3 + b[j]*(x1[j+1]-x1[j])**2\n",
    "        tramo = tramo + c[j]*(x1[j+1]-x1[j])+ d[j]\n",
    "        tabla1.append(tramo)\n",
    "    return(tabla1)"
   ]
  },
  {
   "cell_type": "code",
   "execution_count": 13,
   "metadata": {},
   "outputs": [
    {
     "name": "stdout",
     "output_type": "stream",
     "text": [
      "tramos:\n",
      "1  x = [1,2]     0.26873\n",
      "2  x = [2,3]     0.70424\n",
      "3  x = [3,4]     1.00412\n",
      "4  x = [4,5]     1.23127\n",
      "5  x = [5,6]     1.23127\n",
      "6  x = [6,8]     0.70424\n",
      "7  x = [8,9]     0.0\n",
      "8  x = [9,10]     -0.5\n",
      "9  x = [10,11]     -5.551115123125783e-17\n"
     ]
    }
   ],
   "source": [
    "tabla1 = traza(x1,y2)\n",
    "\n",
    "print(\"tramos:\")\n",
    "for i in range(1,n):\n",
    "    print(i, ' x = ['+str(x1[i-1])+','+str(x1[i])+']', '   ',str(tabla1[i-1]))\n",
    "     "
   ]
  },
  {
   "cell_type": "code",
   "execution_count": 14,
   "metadata": {},
   "outputs": [
    {
     "name": "stdout",
     "output_type": "stream",
     "text": [
      "El valor en el tramo donde se encuentra el valor x=7 es:  0.0\n"
     ]
    }
   ],
   "source": [
    "print(\"El valor en el tramo donde se encuentra el valor x=7 es: \",tabla1[xi-1])"
   ]
  },
  {
   "cell_type": "markdown",
   "metadata": {},
   "source": [
    "<table style = \"border: 1px solid; font-size: = 15px; text-align:center;\">\n",
    "    <tr style = \"border: 1px solid\">\n",
    "        <th style = \"border: 1px solid\"><strong style = \"bold\">x</strong></th>\n",
    "        <th style = \"border: 1px solid; text-align:center;\"><i>1</i></th>\n",
    "        <th style = \"border: 1px solid; text-align:center;\"><i>2</i></th>\n",
    "        <th style = \"border: 1px solid; text-align:center;\"><i>3</i></th>\n",
    "        <th style = \"border: 1px solid; text-align:center;\"><i>4</i></th>\n",
    "        <th style = \"border: 1px solid; text-align:center;\"><i>5</i></th>\n",
    "        <th style = \"border: 1px solid; text-align:center;\"><i>6</i></th>\n",
    "        <th style = \"border: 1px solid; text-align:center;\"><i>7</i></th>\n",
    "        <th style = \"border: 1px solid; text-align:center;\"><i>8</i></th>\n",
    "        <th style = \"border: 1px solid; text-align:center;\"><i>9</i></th>\n",
    "        <th style = \"border: 1px solid; text-align:center;\"><i>10</i></th>\n",
    "        <th style = \"border: 1px solid; text-align:center;\"><i>11</i></th>\n",
    "    </tr>\n",
    "    <tr>\n",
    "        <th style = \"border: 1px solid\"><strong>y</strong></th>\n",
    "        <th style = \"border: 1px solid\"><i>-0, 5</i></th>\n",
    "        <th style = \"border: 1px solid\"><i>0,26873</i></th>\n",
    "        <th style = \"border: 1px solid\"><i>0,70424</i></th>\n",
    "        <th style = \"border: 1px solid\"><i>1,00412</i></th>\n",
    "        <th style = \"border: 1px solid\"><i>1,23127</i></th>\n",
    "        <th style = \"border: 1px solid\"><i>1,23127</i></th>\n",
    "        <th style = \"border: 1px solid\"><i>0</i></th>\n",
    "        <th style = \"border: 1px solid\"><i>0,70424</i></th>\n",
    "        <th style = \"border: 1px solid\"><i>0</i></th>\n",
    "        <th style = \"border: 1px solid\"><i>-0,5</i></th>\n",
    "        <th style = \"border: 1px solid\"><i>0</i></th>\n",
    "    </tr>\n",
    "</table>"
   ]
  },
  {
   "cell_type": "code",
   "execution_count": 18,
   "metadata": {},
   "outputs": [
    {
     "data": {
      "image/png": "[encoded data removed]",
      "text/plain": [
       "<Figure size 432x288 with 1 Axes>"
      ]
     },
     "metadata": {
      "needs_background": "light"
     },
     "output_type": "display_data"
    }
   ],
   "source": [
    "import numpy as np\n",
    "import matplotlib.pyplot as plt \n",
    "from scipy import interpolate \n",
    "points = [(1,0.0005),(2,0.26873),(3,0.70424),(4,1.00412),(5,1.23127),(6,1.23127),(7,0)] \n",
    "points = points + [(8,0.70424),(9,0),(10,0.0005),(11,0)] \n",
    "data = np.array(points) \n",
    "tck,u = interpolate.splprep(data.transpose(), s=0) \n",
    "unew = np.arange(0, 1.01, 0.01) \n",
    "out = interpolate.splev(unew, tck) \n",
    "plt.figure() \n",
    "plt.plot(out[0], out[1], color='g') \n",
    "plt.plot(data[:,0], data[:,1], 'ob') \n",
    "plt.show()"
   ]
  }
 ],
 "metadata": {
  "kernelspec": {
   "display_name": "Python 3",
   "language": "python",
   "name": "python3"
  },
  "language_info": {
   "codemirror_mode": {
    "name": "ipython",
    "version": 3
   },
   "file_extension": ".py",
   "mimetype": "text/x-python",
   "name": "python",
   "nbconvert_exporter": "python",
   "pygments_lexer": "ipython3",
   "version": "3.8.3"
  }
 },
 "nbformat": 4,
 "nbformat_minor": 4
}
