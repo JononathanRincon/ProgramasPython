{
 "cells": [
  {
   "cell_type": "markdown",
   "metadata": {},
   "source": [
    "# Teoría de Errores determinando polinomios con la serie Taylor desde el grado cero (0) hasta el grado (5) "
   ]
  },
  {
   "cell_type": "markdown",
   "metadata": {},
   "source": [
    "$$f(x_{i+1}) \\approx f(x_i) + \\frac{f'(x_1)}{1!}h+\\frac{f''(x_i)}{2!}h^2+\\frac{f'''(x_i)}{3!}h^3+ \\ldots+\\frac{f^{(n)}(x_i)}{n!}h^n+R_n$$\n",
    "\n",
    "En una notacion mas compacta (Sumatoria)\n",
    "\n",
    "$$\\sum \\limits_{n=0}^{\\infty}\\frac{f^{(n)}(x_i)}{n!}h^n+R_n$$\n",
    "\n",
    "donde $f^{(n)}{x_i}$ denota la $n$-esima derivada evaluada en el punto $x_i$ y el termino residual es:\n",
    "\n",
    "$$R_n=\\frac{f^{(n+1)}(\\xi)}{(n+1)!}h^{(n+1)}$$\n",
    "\n",
    " Ejercicio N° 2 Literal E:\n",
    "\n",
    "$𝑓(𝑥) = e^{−2𝑥}$, centrado en $𝑥=0$\n"
   ]
  },
  {
   "cell_type": "markdown",
   "metadata": {},
   "source": [
    "###### 1 *Importamos el modulo numpy para poder realizar operaciones matematicas*"
   ]
  },
  {
   "cell_type": "code",
   "execution_count": 1,
   "metadata": {},
   "outputs": [],
   "source": [
    "import numpy as np\n"
   ]
  },
  {
   "cell_type": "markdown",
   "metadata": {},
   "source": [
    "###### 2 *se ingresa el valor a evaluar, el tamaño de paso. y cantidad de terminos a evaluar debe de ser de 1 a 5*"
   ]
  },
  {
   "cell_type": "code",
   "execution_count": 41,
   "metadata": {},
   "outputs": [
    {
     "name": "stdout",
     "output_type": "stream",
     "text": [
      "Ingrese el valor del punto a evaluar 'x': 0\n",
      "Ingrese el tamaño de paso: 1\n",
      "Ingrese la cantidad de terminos a evaluar: 5\n"
     ]
    }
   ],
   "source": [
    "x0 = float(input(\"Ingrese el valor del punto a evaluar 'x': \")) ## 0\n",
    "h = float(input(\"Ingrese el tamaño de paso: \")) ##1\n",
    "n = int(input(\"Ingrese la cantidad de terminos a evaluar: \")) ##5\n"
   ]
  },
  {
   "cell_type": "markdown",
   "metadata": {},
   "source": [
    "###### 3 *Realizamos la derivada de la funcion hasta la 5 con la ayuda de (www.wolframalpha.com, 2020)"
   ]
  },
  {
   "cell_type": "code",
   "execution_count": 42,
   "metadata": {},
   "outputs": [],
   "source": [
    "funcion = np.exp(-2 * x0)\n",
    "d1 = -2*np.exp(-2 * x0)\n",
    "d2 = 4*np.exp(-2 * x0)\n",
    "d3 = -8*np.exp(-2 * x0)\n",
    "d4 = 16*np.exp(-2 * x0)\n",
    "d5 = -32*np.exp(-2 * x0)"
   ]
  },
  {
   "cell_type": "markdown",
   "metadata": {},
   "source": [
    "###### 4 creamos una lista de las funciones y derivadas, para realizarle la sumatoria y el error truncado, por mdio del metodo de la serie de Taylor, de esa sabemos la aproximacion "
   ]
  },
  {
   "cell_type": "code",
   "execution_count": 58,
   "metadata": {},
   "outputs": [
    {
     "name": "stdout",
     "output_type": "stream",
     "text": [
      "la aproximacion de la serie de Taylor con n =  0 es  1.0 , y el error es -2.0\n",
      "la aproximacion de la serie de Taylor con n =  1 es  -1.0 , y el error es 2.0\n",
      "la aproximacion de la serie de Taylor con n =  2 es  1.0 , y el error es -1.33\n",
      "la aproximacion de la serie de Taylor con n =  3 es  -0.33 , y el error es 0.67\n",
      "la aproximacion de la serie de Taylor con n =  4 es  0.33 , y el error es -0.27\n"
     ]
    }
   ],
   "source": [
    "ListaFuncion=[funcion,d1,d2,d3,d4,d5]\n",
    "\n",
    "terI= 0\n",
    "termino = []\n",
    "error1 = []\n",
    "\n",
    "for i in range(n):\n",
    "    terI = terI + ListaFuncion[i] * h ** i / np.math.factorial(i)    \n",
    "    termino.append(terI)\n",
    "    error = ListaFuncion[i+1] * h ** (i+1) / np.math.factorial(i+1)\n",
    "    error1.append(error)\n",
    "    \n",
    "    print(\"la aproximacion de la serie de Taylor con n = \", i, \"es \", round(terI,2), \", y el error es\", round(error,2))\n",
    "   \n",
    "    "
   ]
  },
  {
   "cell_type": "markdown",
   "metadata": {},
   "source": [
    "###### 5 importamos la biblioteca matplotllib para realizar la grafica de polinomios"
   ]
  },
  {
   "cell_type": "code",
   "execution_count": 74,
   "metadata": {},
   "outputs": [
    {
     "data": {
      "image/png": "[encoded data removed]",
      "text/plain": [
       "<Figure size 432x288 with 1 Axes>"
      ]
     },
     "metadata": {
      "needs_background": "light"
     },
     "output_type": "display_data"
    }
   ],
   "source": [
    "import matplotlib.pyplot as plt\n",
    "\n",
    "dt = 0.01\n",
    "\n",
    "def f(x):\n",
    "    return np.exp(-2 * x)\n",
    "\n",
    "x = np.arange(0, 1, dt)\n",
    "\n",
    "plt.xlabel(r'$x$')\n",
    "plt.ylabel(r'$f(x)$')\n",
    "plt.title(r'Aproximación polinomios de Taylor')\n",
    "\n",
    "plt.plot(x, f(x))\n",
    "\n",
    "aprox = 0\n",
    "for i in range(0,len(termino)):\n",
    "    aprox = aprox + termino[i]\n",
    "    plt.plot(x0, aprox, color=\"r\", marker =\"o\")\n",
    "               \n",
    "plt.grid(True)\n",
    "plt.show()"
   ]
  },
  {
   "cell_type": "markdown",
   "metadata": {},
   "source": [
    "###### paso 6 Grafica del comportamiento del error"
   ]
  },
  {
   "cell_type": "code",
   "execution_count": 83,
   "metadata": {},
   "outputs": [
    {
     "data": {
      "image/png": "[encoded data removed]",
      "text/plain": [
       "<Figure size 432x288 with 1 Axes>"
      ]
     },
     "metadata": {
      "needs_background": "light"
     },
     "output_type": "display_data"
    }
   ],
   "source": [
    "plt.xlabel(r'Orden del polinomio')\n",
    "plt.ylabel(r'Error ')\n",
    "plt.title(r'Comportamiento del error para cada polinomio')\n",
    "plt.axhline(0,color=\"b\")\n",
    "\n",
    "\n",
    "plt.plot(termino[0], error1[0], color=\"r\", marker =\"o\")\n",
    "plt.plot(termino[1], error1[1], color=\"r\", marker =\"o\")\n",
    "plt.plot(termino[2], error1[2], color=\"r\", marker =\"o\")\n",
    "plt.plot(termino[3], error1[3], color=\"r\", marker =\"o\")\n",
    "plt.plot(termino[4], error1[4], color=\"r\", marker =\"o\")\n",
    "               \n",
    "plt.grid(True)\n",
    "plt.show()"
   ]
  },
  {
   "cell_type": "markdown",
   "metadata": {},
   "source": [
    "##### análisis de resultados basándose en la teoría de errores \n",
    "\n",
    "Teoricamente el teorema de la serie de Taylor declara que cualquier funcion realizando un proceso de suma de potencias en las derivadas, se puede aproximarse mediante un polinomio. Si se realiza una comparacion entre ambos poligonos, se visualiza una exactitud y precision, no cumple con el mismo poligono pero el margen de error es algo exacto y a la vez impreciso, con lo dicho se puede decir que si seguimos aumentando el polinomio de orden n se puede reflejar la aproximacion del valor real"
   ]
  },
  {
   "cell_type": "markdown",
   "metadata": {},
   "source": [
    "#### Referencias Bibliograficas\n",
    "\n",
    "- Alvares, C. (octubre. 2020) video UNAD MetodosNumericos CIPAS03 1604 2020. recuperado de: https://www.youtube.com/watch?v=R13YfrmYISc&t=4265s\n",
    "\n",
    "- anale, R. P. y P. Canale, R. (2007). Métodos numéricos para ingenieros (5a. ed.). México D.F, Mexico: McGraw-Hill Interamericana. (pp. 113–116, 120–159). Recuperado de https://elibro-net.bibliotecavirtual.unad.edu.co/es/lc/unad/titulos/73710"
   ]
  }
 ],
 "metadata": {
  "kernelspec": {
   "display_name": "Python 3",
   "language": "python",
   "name": "python3"
  },
  "language_info": {
   "codemirror_mode": {
    "name": "ipython",
    "version": 3
   },
   "file_extension": ".py",
   "mimetype": "text/x-python",
   "name": "python",
   "nbconvert_exporter": "python",
   "pygments_lexer": "ipython3",
   "version": "3.8.3"
  }
 },
 "nbformat": 4,
 "nbformat_minor": 4
}
