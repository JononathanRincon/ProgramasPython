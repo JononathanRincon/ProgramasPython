{
 "cells": [
  {
   "cell_type": "markdown",
   "metadata": {},
   "source": [
    "# *Realizacion de programa que calcula el seno de un angulo por medio de  Series de Taylor*"
   ]
  },
  {
   "cell_type": "markdown",
   "metadata": {},
   "source": [
    "para realizar el calculo del seno, empleando la series de Taylor, se debe tener en cuenta la siguiente formula\n",
    "  "
   ]
  },
  {
   "cell_type": "markdown",
   "metadata": {},
   "source": [
    "$$\\sin(x)= \\sum_{i=0}^n\\frac{(−1)^i}{(2𝑖 + 1)!}x^{(2𝑖+1)}$$"
   ]
  },
  {
   "cell_type": "markdown",
   "metadata": {},
   "source": [
    "El ángulo $𝑥$ se convierte en radianes de la siguiente forma:\n",
    "\n",
    "$$Á𝑛𝑔𝑢𝑙𝑜 𝑒𝑛 𝑟𝑎𝑑𝑖𝑎𝑛𝑒𝑠 = Á𝑛𝑔𝑢𝑙𝑜 𝑒𝑛 𝑔𝑟𝑎𝑑𝑜𝑠$ $×\\frac{\\pi}{180}$$"
   ]
  },
  {
   "cell_type": "markdown",
   "metadata": {},
   "source": [
    "la función factor, que realice el cálculo del factorial de un número $𝑛$ que se le envía como parámetro a la función. El método debe retornar uno de los siguientes resultados:\n",
    "- Si $𝑛 < 0$, retornar $0$.\n",
    "- Si $𝑛 = 0$, retornar $1$\n",
    "- Si $𝑛 > 0$, retornar el resultado de la multiplicación de enteros desde $1$ hasta $𝑛$"
   ]
  },
  {
   "cell_type": "code",
   "execution_count": 6,
   "metadata": {},
   "outputs": [],
   "source": [
    "def factor(n):\n",
    "    res = 1\n",
    "    for i in range(0,n+1,1):\n",
    "        if i < 0:\n",
    "            res = 0\n",
    "        elif i == 0:\n",
    "            res = 1\n",
    "        else:\n",
    "            res = res * i\n",
    "    return res"
   ]
  },
  {
   "cell_type": "markdown",
   "metadata": {},
   "source": [
    "función $potencia$, que realice el cálculo de elevar un número $𝑥$ que llega como parámetro a la $𝑦$, que es otro número que llega como parámetro al método. El método debe retornar:\n",
    "- Si $y < 0$, retornar $0$.\n",
    "- Si $y = 0$, retornar $1$\n",
    "- Si $y > 0$, retornar la multiplicación de $𝑥$ por sí mismo, 𝑦 veces"
   ]
  },
  {
   "cell_type": "code",
   "execution_count": 7,
   "metadata": {},
   "outputs": [],
   "source": [
    "def potencia(x,y):\n",
    "    p = 1\n",
    "    if y < 0:\n",
    "        return 0\n",
    "    elif y == 0:\n",
    "        return 1\n",
    "    else:\n",
    "        for i in range(0,y):\n",
    "            p *= x\n",
    "    return p"
   ]
  },
  {
   "cell_type": "markdown",
   "metadata": {},
   "source": [
    "la función $aRads$, que convierta el ángulo $𝑥$ que llega\n",
    "como parámetro a radianes"
   ]
  },
  {
   "cell_type": "code",
   "execution_count": 3,
   "metadata": {},
   "outputs": [],
   "source": [
    "def 𝑎𝑅𝑎𝑑𝑠(anguloGrad):\n",
    "    pi = 3.14159265359\n",
    "    return anguloGrad * pi / 180"
   ]
  },
  {
   "cell_type": "markdown",
   "metadata": {},
   "source": [
    "la función $seno$, que recibe el ángulo en radianes y el\n",
    "número $𝑛$ de veces que realizará el cálculo de un elemento de la\n",
    "sumatoria.\n"
   ]
  },
  {
   "cell_type": "code",
   "execution_count": 8,
   "metadata": {},
   "outputs": [],
   "source": [
    "def seno (anguloRad, n):\n",
    "    sin = 0\n",
    "    for i in range(n):\n",
    "        sin += potencia(-1,i)*potencia(anguloRad,2*i+1)/factor(2*i+1)\n",
    "    return sin"
   ]
  },
  {
   "cell_type": "markdown",
   "metadata": {},
   "source": [
    "programa que lea desde el teclado un ángulo en\n",
    "grados y que calcule el resultado llamando la función coseno, con\n",
    "el ángulo en radianes y la $𝑛$ variando entre 1 y 5."
   ]
  },
  {
   "cell_type": "code",
   "execution_count": 9,
   "metadata": {},
   "outputs": [
    {
     "name": "stdout",
     "output_type": "stream",
     "text": [
      "ingrese el angulo en grados: 180\n",
      "ingrese la cantidad de terminos de la sumatoria: 5\n",
      "el valor del seno( 180.0 )= 0.01\n"
     ]
    }
   ],
   "source": [
    "anguloGrad = float(input(\"ingrese el angulo en grados: \"))\n",
    "n = 0\n",
    "n = int(input(\"ingrese la cantidad de terminos de la sumatoria: \"))\n",
    "while(n>5):\n",
    "    print(\"solo puede ingresar valores que varien entre 0 a 5!!!\")\n",
    "    n = int(input(\"ingrese la cantidad de terminos de la sumatoria: \"))\n",
    "    \n",
    "senoX = round(seno( 𝑎𝑅𝑎𝑑𝑠(anguloGrad), n),2)\n",
    "print(\"el valor del seno(\",anguloGrad,\")=\", senoX)"
   ]
  },
  {
   "cell_type": "markdown",
   "metadata": {},
   "source": [
    "# Video explicacion del ejercicio 1. E \n",
    "\n",
    "#### https://www.youtube.com/watch?v=KTaAOZUmnPg"
   ]
  },
  {
   "cell_type": "markdown",
   "metadata": {},
   "source": [
    "#### Referencias Bibliograficas\n",
    "\n",
    "- Alvares, C. (octubre. 2020) video de UNAD MetodosNumericos CIPAS02 1604 2020. recuperado de https://www.youtube.com/watch?v=vHRGNfU-irE&t=6452s"
   ]
  }
 ],
 "metadata": {
  "kernelspec": {
   "display_name": "Python 3",
   "language": "python",
   "name": "python3"
  },
  "language_info": {
   "codemirror_mode": {
    "name": "ipython",
    "version": 3
   },
   "file_extension": ".py",
   "mimetype": "text/x-python",
   "name": "python",
   "nbconvert_exporter": "python",
   "pygments_lexer": "ipython3",
   "version": "3.8.3"
  }
 },
 "nbformat": 4,
 "nbformat_minor": 4
}
