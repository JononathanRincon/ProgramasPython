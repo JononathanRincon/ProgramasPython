{
 "cells": [
  {
   "cell_type": "markdown",
   "metadata": {},
   "source": [
    "## Teoría de Errores\n",
    "\n",
    "<center>$ f(x) = sin(x),$ centrado en $x=\\dfrac{5\\pi}{6} $<center>\n",
    "\n",
    "\n",
    "Para cada uno de los ejercicios seleccionados realice un programa en Python empleando el Jupyter Notebook que:\n",
    "    \n",
    "Determine los polinomios de Taylor desde el grado cero (0) hasta el grado cinco (5).\n",
    "    \n",
    "Realice una gráfica comparativa con la evaluación de los polinomios solicitados en el numeral anterior y determine cuál es el error de truncamiento resultante en cada uno de los polinomios hallados. Haga una gráfica del comportamiento del error para cada polinomio.\n",
    "\n",
    "Haga un análisis de resultados basándose en la teoría y en los resultados obtenidos. Debe incluir referencias a la bibliografía empleada usando las normas APA. Comentarios sin referencias no serán tenidos en cuenta.\n"
   ]
  },
  {
   "cell_type": "code",
   "execution_count": 1,
   "metadata": {},
   "outputs": [],
   "source": [
    "import numpy as np\n",
    "import math \n",
    "from matplotlib import pyplot as plt \n",
    "import sympy as sp\n",
    "x = sp.symbols('x')\n",
    "\n",
    "## Se define la variable y la función\n",
    "x0 = 5*math.pi/6\n",
    "h = 0.001\n",
    "n = 6\n"
   ]
  },
  {
   "cell_type": "code",
   "execution_count": 2,
   "metadata": {},
   "outputs": [],
   "source": [
    "f0 = math.sin(x0)\n",
    "f1 = math.cos(x0)\n",
    "f2 = -math.sin(x0)\n",
    "f3 = -math.cos(x0)\n",
    "f4 = math.sin(x0)\n",
    "f5 = math.cos(x0)\n",
    "f6 = -math.sin(x0)"
   ]
  },
  {
   "cell_type": "code",
   "execution_count": 22,
   "metadata": {},
   "outputs": [
    {
     "name": "stdout",
     "output_type": "stream",
     "text": [
      "La aproximación de la serie de Taylor con n =  0 es  0.49999999999999994 con un error de  -0.0008660254037844387\n",
      "La aproximación de la serie de Taylor con n =  1 es  0.4991339745962155 con un error de  -2.4999999999999994e-07\n",
      "La aproximación de la serie de Taylor con n =  2 es  0.4991337245962155 con un error de  1.4433756729740644e-10\n",
      "La aproximación de la serie de Taylor con n =  3 es  0.49913372474055306 con un error de  2.0833333333333334e-14\n",
      "La aproximación de la serie de Taylor con n =  4 es  0.4991337247405739 con un error de  -7.216878364870323e-18\n",
      "La aproximación de la serie de Taylor con n =  5 es  0.4991337247405739 con un error de  -6.944444444444444e-22\n",
      "La grafica del Error de truncamiento es la siguiente\n"
     ]
    },
    {
     "data": {
      "text/plain": [
       "[<matplotlib.lines.Line2D at 0x7fd740f56710>]"
      ]
     },
     "execution_count": 22,
     "metadata": {},
     "output_type": "execute_result"
    },
    {
     "data": {
      "image/png": "[encoded data removed]",
      "text/plain": [
       "<Figure size 432x288 with 1 Axes>"
      ]
     },
     "metadata": {
      "needs_background": "light"
     },
     "output_type": "display_data"
    }
   ],
   "source": [
    "F = [f0, f1, f2, f3, f4, f5, f6]\n",
    "\n",
    "termino_i = 0\n",
    "Error_ = []\n",
    "\n",
    "for i in range(n):\n",
    "    a = np.math.factorial(i)\n",
    "    b = np.math.factorial(i+1)\n",
    "    termino_i = termino_i + F[i]*h**i/a\n",
    "    Error = F[i+1]*h**(i+1)/b\n",
    "    print(\"La aproximación de la serie de Taylor con n = \", i, \"es \", termino_i, \"con un error de \",Error )\n",
    "    Error_.append(Error)\n",
    "\n",
    "print(\"La grafica del Error de truncamiento es la siguiente\")\n",
    "plt.plot(Error_)"
   ]
  },
  {
   "cell_type": "code",
   "execution_count": 23,
   "metadata": {},
   "outputs": [
    {
     "name": "stdout",
     "output_type": "stream",
     "text": [
      "grado :  polinomio\n",
      "0 : 0.500000000000000\n",
      "1 : 2.76724920529277 - 0.866025403784439*x\n",
      "2 : -0.866025403784439*x - 1.71347298630024*(0.381971863420549*x - 1)**2 + 2.76724920529277\n",
      "3 : -0.866025403784439*x + 2.58991351098656*(0.381971863420549*x - 1)**3 - 1.71347298630024*(0.381971863420549*x - 1)**2 + 2.76724920529277\n",
      "4 : -0.866025403784439*x + 0.978663224926883*(0.381971863420549*x - 1)**4 + 2.58991351098656*(0.381971863420549*x - 1)**3 - 1.71347298630024*(0.381971863420549*x - 1)**2 + 2.76724920529277\n"
     ]
    }
   ],
   "source": [
    "import numpy as np\n",
    "import sympy as sym\n",
    "import math\n",
    "\n",
    "def politaylor(fx,x0,n):\n",
    "    k = 0\n",
    "    polinomio = 0\n",
    "    while (k <= n):\n",
    "        derivada   = fx.diff(x,k)\n",
    "        derivadax0 = derivada.subs(x,x0)\n",
    "        divisor   = np.math.factorial(k)\n",
    "        terminok  = (derivadax0/divisor)*(x-x0)**k\n",
    "        polinomio +=  terminok\n",
    "        k += + 1\n",
    "    return(polinomio)\n",
    "\n",
    "\n",
    "x = sym.Symbol('x')\n",
    "fx = sym.sin(x) \n",
    "\n",
    "x0 = 5*math.pi/6          \n",
    "n  = 5  \n",
    "a = x0 - 1   \n",
    "b = x0 + 1\n",
    "muestras = 100\n",
    "\n",
    "px_tabla = []\n",
    "for grado in range(0,n,1):\n",
    "    polinomio = politaylor(fx,x0,grado)\n",
    "    px_tabla.append(polinomio)\n",
    "\n",
    "# SALIDA\n",
    "print('grado :  polinomio')\n",
    "for grado in range(0,n,1):\n",
    "    px = px_tabla[grado]\n",
    "    print(str(grado)+ ' : '+str(px))"
   ]
  },
  {
   "cell_type": "code",
   "execution_count": 25,
   "metadata": {},
   "outputs": [
    {
     "data": {
      "image/png": "[encoded data removed]",
      "text/plain": [
       "<Figure size 432x288 with 1 Axes>"
      ]
     },
     "metadata": {
      "needs_background": "light"
     },
     "output_type": "display_data"
    }
   ],
   "source": [
    "xi = np.linspace(a,b,muestras)\n",
    "fxn = sym.utilities.lambdify(x,fx,'numpy')\n",
    "fi = fxn(xi)\n",
    "\n",
    "px_lineas = np.zeros(shape=(n,muestras), dtype =float)\n",
    "for grado in range(0,n,1):\n",
    "    polinomio = px_tabla[grado]\n",
    "    px = sym.utilities.lambdify(x,polinomio,'numpy')\n",
    "    px_lineas[grado] = px(xi)\n",
    "    \n",
    "import matplotlib.pyplot as plt\n",
    "plt.plot(xi,fi,'r',label=str(fx))\n",
    "for grado in range(0,n):\n",
    "    etiqueta = 'grado: '+str(grado)\n",
    "    plt.plot(xi, px_lineas[grado],\n",
    "             '-.',label = etiqueta)\n",
    "\n",
    "ymax = 2*np.max(fi)\n",
    "plt.xlim([a,b])\n",
    "plt.ylim([-ymax/2,ymax])\n",
    "plt.xlabel('x')\n",
    "plt.ylabel('y')\n",
    "plt.title('Aproximación con Polinomios de Taylor')\n",
    "plt.legend()\n",
    "plt.show()"
   ]
  },
  {
   "cell_type": "code",
   "execution_count": null,
   "metadata": {},
   "outputs": [],
   "source": []
  }
 ],
 "metadata": {
  "kernelspec": {
   "display_name": "Python 3",
   "language": "python",
   "name": "python3"
  },
  "language_info": {
   "codemirror_mode": {
    "name": "ipython",
    "version": 3
   },
   "file_extension": ".py",
   "mimetype": "text/x-python",
   "name": "python",
   "nbconvert_exporter": "python",
   "pygments_lexer": "ipython3",
   "version": "3.8.3"
  }
 },
 "nbformat": 4,
 "nbformat_minor": 4
}
