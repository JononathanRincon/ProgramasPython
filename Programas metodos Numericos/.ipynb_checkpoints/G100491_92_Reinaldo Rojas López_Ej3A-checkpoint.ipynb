{
 "cells": [
  {
   "cell_type": "markdown",
   "metadata": {},
   "source": [
    "# Ejercicio 3: Interpolación\n",
    "# Descripción del ejercicio:\n",
    "## Para el conjunto de datos:\n"
   ]
  },
  {
   "cell_type": "markdown",
   "metadata": {},
   "source": [
    "$\\begin{bmatrix}x= & 0 & 1 & 2 & 3 & 4 & 5 & 6 & 7 & 8 & 9& 10\n",
    "\\\\y=& 0,00000 & 0,84147 & 0,90930 & 0,14112 & -0,75680 & -0,95892 & -0,27942 & ? & 0,98936 & 0,41212 & -0,54402 \\end{bmatrix}$"
   ]
  },
  {
   "cell_type": "markdown",
   "metadata": {},
   "source": [
    "**realice un programa en Python empleando el Jupyter Notebook que:**\n",
    "* Ajuste a un polinomio de interpolación los datos dados, empleando cada uno de los siguientes métodos:\n",
    "* Newton\n",
    "* Lagrange\n",
    "* Trazadores cúbicos"
   ]
  },
  {
   "cell_type": "markdown",
   "metadata": {},
   "source": [
    "**Con el polinomio encontrado, determine el valor en $𝑥 = 7$**"
   ]
  },
  {
   "cell_type": "markdown",
   "metadata": {},
   "source": [
    "**Haga un análisis de resultados basándose en la teoría y en los resultados obtenidos. Debe incluir referencias a la bibliografía empleada usando las normas APA. Comentarios sin referencias no serán tenidos en cuenta.**  "
   ]
  },
  {
   "cell_type": "markdown",
   "metadata": {},
   "source": [
    "**Para cada método haga una descripción teórica (las ecuaciones deberán estar escritas en LaTeX) incluyendo referencias bibliográficas empleadas siguiendo las normas APA.**"
   ]
  },
  {
   "cell_type": "markdown",
   "metadata": {},
   "source": [
    "## Newton"
   ]
  },
  {
   "cell_type": "markdown",
   "metadata": {},
   "source": [
    "en ocaciones se tiene que estimar valores intermedios entre datos definidos por puntos. El método más común que se usa para este propósito es la interpolación polinomial.\n",
    "La fórmula general para un polinomio de n-ésimo grado es:\n"
   ]
  },
  {
   "cell_type": "markdown",
   "metadata": {},
   "source": [
    "$$f(x)=a_0+a_{1x}+a_{2x}^2+...+a_n^n$$"
   ]
  },
  {
   "cell_type": "markdown",
   "metadata": {},
   "source": [
    "La interpolación polinomial consiste en determinar el polinomio único de n-ésimo grado que se ajuste a n + 1 puntos. Este polinomio, entonces, proporciona una fórmula para calcular valores intermedios.(Canale 2007)"
   ]
  },
  {
   "cell_type": "markdown",
   "metadata": {},
   "source": [
    "La forma más simple de interpolación consiste en unir dos puntos con una línea recta.para ello se usa la siguiente fiormula:"
   ]
  },
  {
   "cell_type": "markdown",
   "metadata": {},
   "source": [
    "$$f_1(x)=f(x_0)+\\frac{fx_1-fx_0}{x_1-x_0}(x-x_0)$$"
   ]
  },
  {
   "cell_type": "markdown",
   "metadata": {},
   "source": [
    "Donde $x$ es un punto entre $x_0$ y $x_1$ que queremos encontrar"
   ]
  },
  {
   "cell_type": "markdown",
   "metadata": {},
   "source": [
    "**El polinomio de interpolación de Newton**"
   ]
  },
  {
   "cell_type": "markdown",
   "metadata": {},
   "source": [
    "El análisis anterior puede generalizarse para ajustar un polinomio de n-ésimo grado a n+1 datos. El polinomio de n-ésimo grado es:"
   ]
  },
  {
   "cell_type": "markdown",
   "metadata": {},
   "source": [
    "$$f_n(x) = b_0 + b_1(x – x_0) + · · · + b_n(x – x_0)(x – x_1)· · ·(x – x_{n–1})$$ "
   ]
  },
  {
   "cell_type": "markdown",
   "metadata": {},
   "source": [
    "Usamos estos datos y las siguientes ecuaciones para evaluar los coeficientes:"
   ]
  },
  {
   "cell_type": "markdown",
   "metadata": {},
   "source": [
    "$b_0 = f(x_0)$"
   ]
  },
  {
   "cell_type": "markdown",
   "metadata": {},
   "source": [
    "$b_1 =  f[x_1, x_0]$"
   ]
  },
  {
   "cell_type": "markdown",
   "metadata": {},
   "source": [
    "$b_2 =  f[x_2, x_1, x_0]$"
   ]
  },
  {
   "cell_type": "markdown",
   "metadata": {},
   "source": [
    "$b_n =  f[x_n, x_{n-1},...x_1,x_0]$"
   ]
  },
  {
   "cell_type": "markdown",
   "metadata": {},
   "source": [
    "donde las evaluaciones de la función colocadas entre paréntesis son diferencias divididas finitas. Por ejemplo, la primera diferencia dividida finita en forma general se representa como:"
   ]
  },
  {
   "cell_type": "markdown",
   "metadata": {},
   "source": [
    "$$f[x_i,x_j]=\\frac{fx_i-fx_j}{x_i-x_j}$$"
   ]
  },
  {
   "cell_type": "markdown",
   "metadata": {},
   "source": [
    "La segunda diferencia dividida finita, que representa la diferencia de las dos primeras diferencias divididas, se expresa en forma general como:"
   ]
  },
  {
   "cell_type": "markdown",
   "metadata": {},
   "source": [
    "$$f[x_i,x_j, x_k]=\\frac{f[x_i,x_j]-f[x_j,x_k]}{x_i-x_k}$$"
   ]
  },
  {
   "cell_type": "markdown",
   "metadata": {},
   "source": [
    "Como podemos ver, en la segunda diferencia usamos el valor ya conocido de la primera, y se repite el procedimiento hasta n-ésima diferencia. "
   ]
  },
  {
   "cell_type": "markdown",
   "metadata": {},
   "source": [
    "Estas diferencias sirven para evaluar los coeficientes en las ecuaciones $b_0$ a $b_n$, los cuales se sustituirán en la ecuación $f_n(x) = b_0 + b_1(x – x_0) + · · · + b_n(x – x_0)(x – x_1)· · ·(x – x_{n–1})$  polinomio de interpolación de Newton en diferencias divididas.(Canale 2007)"
   ]
  },
  {
   "cell_type": "markdown",
   "metadata": {},
   "source": [
    "$$f_n(x) = f(x_0) + (x – x_0)f[x_1, x_0] +(x – x_0)(x-x_1)f[x_2, x_1, x_0]+· · · + (x – x_0)(x-x_1)· · ·(x – x_{n–1}...x_0)$$ "
   ]
  },
  {
   "cell_type": "code",
   "execution_count": null,
   "metadata": {},
   "outputs": [],
   "source": [
    "import pandas as pd\n",
    "import matplotlib.pyplot as plt\n",
    "import numpy as np"
   ]
  },
  {
   "cell_type": "code",
   "execution_count": 4,
   "metadata": {},
   "outputs": [],
   "source": [
    "x= [0,1,2,3,4,5,6,8,9,10]\n",
    "y= [0.00000,0.84147,0.90930,0.14112,-0.75680,-0.95892,-0.27942,0.98936,0.41212,-0.54402]\n",
    "xi=7\n",
    "n=len(x)"
   ]
  },
  {
   "cell_type": "code",
   "execution_count": 3,
   "metadata": {},
   "outputs": [],
   "source": [
    "def NewtInt (x, y, n, xi):\n",
    "    \n",
    "    fdd=[[None for x in range(n)] for x in range (n)]\n",
    "    yint=[None for x in range(n)]\n",
    "    ea=[None for x in range(n)]\n",
    "         \n",
    "    for i in range(n):\n",
    "        fdd[i][0]=y[i]\n",
    "              \n",
    "    print(\"#i \\t x_i \\t f(x_i) \\t diferencia\")     \n",
    "    for j in range(1,n):\n",
    "        for i in range(n-j):\n",
    "            fdd[i][j] = (fdd[i+1][j-1]-fdd[i][j-1])/(x[i+j]-x[i])\n",
    "            print (\"{0} \\t{1} \\t{2:.5f} \\t{3:.5f}\".format(i,x[i],y[i],fdd[i][j]))\n",
    "    xterm = 1\n",
    "    yint[0]=fdd[0][0]\n",
    "         \n",
    "    for order in range(1,n):\n",
    "        xterm = xterm * (xi-x[order-1])\n",
    "        yint2 = yint[order-1] + fdd[0][order] * xterm\n",
    "        ea[order-1] = yint2-yint[order-1]\n",
    "        yint[order] = yint2\n",
    "        \n",
    "    #print(ea[order-1])\n",
    "    return yint[order], ea[order-1]\n",
    " "
   ]
  },
  {
   "cell_type": "code",
   "execution_count": null,
   "metadata": {},
   "outputs": [],
   "source": [
    "yi,ea=(NewtInt(x, y, n, xi))"
   ]
  },
  {
   "cell_type": "markdown",
   "metadata": {},
   "source": [
    "* **Con el polinomio encontrado, determine el valor en 𝑥 = 7**"
   ]
  },
  {
   "cell_type": "code",
   "execution_count": 5,
   "metadata": {},
   "outputs": [
    {
     "name": "stdout",
     "output_type": "stream",
     "text": [
      "el valor de x=7 es f(x)= 0.6622251666666655\n"
     ]
    }
   ],
   "source": [
    "print(\"el valor de x=7 es f(x)=\",yi)"
   ]
  },
  {
   "cell_type": "code",
   "execution_count": 6,
   "metadata": {},
   "outputs": [
    {
     "name": "stdout",
     "output_type": "stream",
     "text": [
      "el valor del error es 0.0012404444444444884\n"
     ]
    }
   ],
   "source": [
    "print(\"el valor del error es\",ea)"
   ]
  },
  {
   "cell_type": "markdown",
   "metadata": {},
   "source": [
    "Como podemos ver ya tenemos todas las y correspondientes"
   ]
  },
  {
   "cell_type": "markdown",
   "metadata": {},
   "source": [
    "$\\begin{bmatrix}x= & 0 & 1 & 2 & 3 & 4 & 5 & 6 & 7 & 8 & 9& 10\n",
    "\\\\y=& 0,00000 & 0,84147 & 0,90930 & 0,14112 & -0,75680 & -0,95892 & -0,27942 & 0.66222 & 0,98936 & 0,41212 & -0,54402 \\end{bmatrix}$"
   ]
  },
  {
   "cell_type": "code",
   "execution_count": 7,
   "metadata": {},
   "outputs": [],
   "source": [
    "x1= [0,1,2,3,4,5,6,7,8,9,10]\n",
    "y1= [0.00000,0.84147,0.90930,0.14112,-0.75680,-0.95892,-0.27942,0.66222,0.98936,0.41212,-0.54402]"
   ]
  },
  {
   "cell_type": "code",
   "execution_count": 8,
   "metadata": {},
   "outputs": [
    {
     "data": {
      "image/png": "[encoded data removed]",
      "text/plain": [
       "<Figure size 432x288 with 1 Axes>"
      ]
     },
     "metadata": {
      "needs_background": "light"
     },
     "output_type": "display_data"
    }
   ],
   "source": [
    "import numpy as np\n",
    "import matplotlib.pyplot as plt\n",
    "\n",
    "plt.xlabel(\"eje x\")\n",
    "plt.ylabel(\"eje y\")\n",
    "\n",
    "plt.plot(x1,y1,\"blue\", label=\"original\")\n",
    "plt.legend()\n",
    "\n",
    "t = np.arange(0.0, 10.0, 0.10)\n",
    "s = np.sin(t)\n",
    "\n",
    "plt.plot(t,s,\"red\", label=\"Seno(x)\")\n",
    "plt.legend()\n",
    "\n",
    "\n",
    "plt.show()"
   ]
  },
  {
   "cell_type": "markdown",
   "metadata": {},
   "source": [
    "Como podemos observar el dato encontrado corresponde al seno de 7, por lo cada f(x) corresponde a un seno(x), si comparamos las gráficas tenemos que el dato x=7 es en realidad seno(7)."
   ]
  },
  {
   "cell_type": "markdown",
   "metadata": {},
   "source": [
    "# lagrange"
   ]
  },
  {
   "cell_type": "markdown",
   "metadata": {},
   "source": [
    "El polinomio de interpolación de Lagrange es simplemente una reformulación del polinomio de Newton que evita el cálculo de las diferencias divididas, y se representa de\n",
    "manera concisa como:"
   ]
  },
  {
   "cell_type": "markdown",
   "metadata": {},
   "source": [
    "$$f_n(x)=\\sum_{i=0}^n L_i(x)f(x_i)$$"
   ]
  },
  {
   "cell_type": "markdown",
   "metadata": {},
   "source": [
    "donde"
   ]
  },
  {
   "cell_type": "markdown",
   "metadata": {},
   "source": [
    "$$L_i(x)=\\prod_{j=n,j\\neq i}^n \\frac{x-x_j}{x_i-x_j}$$"
   ]
  },
  {
   "cell_type": "markdown",
   "metadata": {},
   "source": [
    "donde $\\prod$ designa el “producto de”.(Canale 2007)"
   ]
  },
  {
   "cell_type": "markdown",
   "metadata": {},
   "source": [
    "La ecuación anterior se obtiene de manera directa del polinomio de Newton. Sin embargo, el razonamiento detrás de la formulación de Lagrange se comprende directamente al darse cuenta de que cada término $L_i(x)$ será 1 en $x = x_i$ y $0$ en todoslos otros puntos. De esta forma, cada producto $L_i(x)$ $f(x_i)$ toma el valor de $f(x_i)$ en el punto $x_i$. En consecuencia, la sumatoria de todos los productos en la ecuación de Lagrange es el único polinomio de n-ésimo grado que pasa exactamente a través de todos los n + 1 puntos, que se tienen como datos.(Canale 2007)"
   ]
  },
  {
   "cell_type": "markdown",
   "metadata": {},
   "source": [
    "Como en el método de Newton, la forma de Lagrange tiene un error estimado. Sin embargo, como no se emplean las diferencias divididas finitas como parte del algoritmo de Lagrange, esto se hace rara vez."
   ]
  },
  {
   "cell_type": "code",
   "execution_count": 9,
   "metadata": {},
   "outputs": [],
   "source": [
    "def Lagrng(x, y, n,xi):\n",
    "    sum = 0\n",
    "    for i in range(n):\n",
    "        product = y[i]\n",
    "        for j in range(n):\n",
    "            if i != j:\n",
    "                product = product*(xi-x[j])/(x[i]-x[j])\n",
    "        sum = sum + product\n",
    "    #Lagrng = sum\n",
    "    return sum"
   ]
  },
  {
   "cell_type": "code",
   "execution_count": 10,
   "metadata": {},
   "outputs": [],
   "source": [
    "yi1=(Lagrng(x, y, n,xi))"
   ]
  },
  {
   "cell_type": "code",
   "execution_count": 11,
   "metadata": {},
   "outputs": [
    {
     "name": "stdout",
     "output_type": "stream",
     "text": [
      "el valor de x=7 es f(x)= 0.6622251666666668\n"
     ]
    }
   ],
   "source": [
    "\n",
    "print(\"el valor de x=7 es f(x)=\",yi1)"
   ]
  },
  {
   "cell_type": "markdown",
   "metadata": {},
   "source": [
    "Como podemos ver el resultado de $x=7$ es el mismo del obtenido con el polinomio de interpolación de Newton"
   ]
  },
  {
   "cell_type": "markdown",
   "metadata": {},
   "source": [
    "## Trazadores cúbicos"
   ]
  },
  {
   "cell_type": "markdown",
   "metadata": {},
   "source": [
    "El objetivo en los trazadores cúbicos es obtener un polinomio de tercer grado para cada intervalo entre los nodos:"
   ]
  },
  {
   "cell_type": "markdown",
   "metadata": {},
   "source": [
    "$$f_i(x)=a_ix^3+b_ix^2+c_ix+d_i$$\n",
    " "
   ]
  },
  {
   "cell_type": "markdown",
   "metadata": {},
   "source": [
    "Así, para n + 1 datos $(i = 0, 1, 2,..., n)$, existen n intervalos y, en consecuencia, 4n incógnitas a evaluar. Se requieren 4n condiciones para evaluar las incógnitas. Éstas son:"
   ]
  },
  {
   "cell_type": "markdown",
   "metadata": {},
   "source": [
    "1. Los valores de la función deben ser iguales en los nodos interiores (2n – 2 condiciones)"
   ]
  },
  {
   "cell_type": "markdown",
   "metadata": {},
   "source": [
    "2. La primera y última función deben pasar a través de los puntos extremos (2 condiciones).-> imagen"
   ]
  },
  {
   "cell_type": "markdown",
   "metadata": {},
   "source": [
    "3. Las primeras derivadas en los nodos interiores deben ser iguales (n – 1 condiciones).-> continuidad"
   ]
  },
  {
   "cell_type": "markdown",
   "metadata": {},
   "source": [
    "4. Las segundas derivadas en los nodos interiores deben ser iguales (n – 1 condiciones).-> Primera derivada"
   ]
  },
  {
   "cell_type": "markdown",
   "metadata": {},
   "source": [
    "5. Las segundas derivadas en los nodos extremos son cero (2 condiciones). -> segunda derivada"
   ]
  },
  {
   "cell_type": "markdown",
   "metadata": {},
   "source": [
    "La interpretación visual de la condición 5 es que la función se vuelve una línea recta en los nodos extremos. La especificación de una condición tal en los extremos nos lleva a lo que se denomina trazador “natural”. Si el valor de la segunda derivada en los nodos extremos no es cero (es decir, existe alguna curvatura), es posible utilizar esta información de manera alternativa para tener las dos condiciones finales"
   ]
  },
  {
   "cell_type": "markdown",
   "metadata": {},
   "source": [
    "Los cinco tipos de condiciones anteriores proporcionan el total de las 4n ecuaciones requeridas para encontrar los $4n$ coeficientes($a_i,b_i,c_i,d_i)$"
   ]
  },
  {
   "cell_type": "markdown",
   "metadata": {},
   "source": [
    " Las incógnitas se evalúan empleando la siguiente ecuación"
   ]
  },
  {
   "cell_type": "markdown",
   "metadata": {},
   "source": [
    "$$(x_i-x_{i-1})f''(x_{i-1})+2(x_{i+1}-x_{i-1})f''(x_i)+(x_{i+1}-x_i)f''(x_{i+1})$$\\\\\n",
    "$$=\\frac{6}{x_{i+1}-x_{i}}[f(x_{i+1})-f(x_i)]+\\frac{6}{x_{i}-x_{i-1}}[f(x_{i-1})-f(x_i)]$$"
   ]
  },
  {
   "cell_type": "markdown",
   "metadata": {},
   "source": [
    "Si se escribe esta ecuación para todos los nodos interiores, resultan $n–1$ ecuaciones simultáneas con $n–1$ incógnitas"
   ]
  },
  {
   "cell_type": "code",
   "execution_count": 12,
   "metadata": {},
   "outputs": [],
   "source": [
    "x= [0,1,2,3,4,5,6,8,9,10]\n",
    "y= [0.00000,0.84147,0.90930,0.14112,-0.75680,-0.95892,-0.27942,0.98936,0.41212,-0.54402]\n",
    "xu=7\n",
    "n=len(x)"
   ]
  },
  {
   "cell_type": "code",
   "execution_count": 32,
   "metadata": {},
   "outputs": [],
   "source": [
    "import numpy as np\n",
    "import sympy as sym\n",
    "import matplotlib.pyplot as plt\n",
    "\n",
    "def traza(x,y):\n",
    "    h = np.zeros(n-1, dtype = float)\n",
    "    \n",
    "    for j in range(n-1):\n",
    "        h[j] = x[j+1] - x[j]\n",
    "    \n",
    "    A = np.zeros(shape=(n-2,n-2), dtype = float)\n",
    "    B = np.zeros(n-2, dtype = float)\n",
    "    S = np.zeros(n, dtype = float)\n",
    "\n",
    "    A[0,0] = 2*(h[0]+h[1])\n",
    "    A[0,1] = h[1]\n",
    "    B[0] = 6*((y[2]-y[1])/h[1] - (y[1]-y[0])/h[0])\n",
    "\n",
    "    for i in range(1,n-3):\n",
    "        A[i,i-1] = h[i]\n",
    "        A[i,i] = 2*(h[i]+h[i+1])\n",
    "        A[i,i+1] = h[i+1]\n",
    "        factor21 = (y[i+2]-y[i+1])/h[i+1]\n",
    "        factor10 = (y[i+1]-y[i])/h[i]\n",
    "        B[i] = 6*(factor21 - factor10)\n",
    "        \n",
    "    A[n-3,n-4] = h[n-3]\n",
    "    A[n-3,n-3] = 2*(h[n-3]+h[n-2])\n",
    "    factor12 = (y[n-1]-y[n-2])/h[n-2]\n",
    "    factor23 = (y[n-2]-y[n-3])/h[n-3]\n",
    "    B[n-3] = 6*(factor12 - factor23)\n",
    "    \n",
    "\n",
    "    r = np.linalg.solve(A,B)\n",
    "    for j in range(1,n-1):\n",
    "        S[j] = r[j-1]\n",
    "    S[0] = 0\n",
    "    S[n-1] = 0\n",
    "    \n",
    "\n",
    "    a = np.zeros(n-1, dtype = float)\n",
    "    b = np.zeros(n-1, dtype = float)\n",
    "    c = np.zeros(n-1, dtype = float)\n",
    "    d = np.zeros(n-1, dtype = float)\n",
    "    \n",
    "    for j in range(n-1):\n",
    "        a[j] = (S[j+1]-S[j])/(6*h[j])\n",
    "        b[j] = S[j]/2\n",
    "        factor10 = (y[j+1]-y[j])/h[j]\n",
    "        c[j] = factor10 - (2*h[j]*S[j]+h[j]*S[j+1])/6\n",
    "        d[j] = y[j]\n",
    "\n",
    "    tabla1 = []\n",
    "    for j in range(n-1):\n",
    "        tramo = a[j]*(x1[j+1]-x1[j])**3 + b[j]*(x1[j+1]-x1[j])**2\n",
    "        tramo = tramo + c[j]*(x1[j+1]-x1[j])+ d[j]\n",
    "        tabla1.append(tramo)\n",
    "    return(tabla1)\n",
    "\n",
    "  "
   ]
  },
  {
   "cell_type": "code",
   "execution_count": 39,
   "metadata": {},
   "outputs": [
    {
     "name": "stdout",
     "output_type": "stream",
     "text": [
      "tramos:\n",
      " x = [0,1]\n",
      "0.8414700000000002\n",
      " x = [1,2]\n",
      "0.9093\n",
      " x = [2,3]\n",
      "0.14112000000000013\n",
      " x = [3,4]\n",
      "-0.7568\n",
      " x = [4,5]\n",
      "-0.95892\n",
      " x = [5,6]\n",
      "-0.27942\n",
      " x = [6,7]\n",
      "0.6159762757185705\n",
      " x = [7,8]\n",
      "0.41212000000000004\n",
      " x = [8,9]\n",
      "-0.54402\n"
     ]
    }
   ],
   "source": [
    "tabla1 = traza(x,y)\n",
    "\n",
    "print(\"tramos:\")\n",
    "for i in range(1,n):\n",
    "    print(' x = ['+str(x1[i-1])+','+str(x1[i])+']')\n",
    "    print(str(tabla1[i-1]))  "
   ]
  },
  {
   "cell_type": "code",
   "execution_count": 40,
   "metadata": {},
   "outputs": [
    {
     "name": "stdout",
     "output_type": "stream",
     "text": [
      "El valor en el tramo donde se encuentra el valor x=7 es:  0.6159762757185705\n"
     ]
    }
   ],
   "source": [
    "print(\"El valor en el tramo donde se encuentra el valor x=7 es: \",tabla1[xu-1])"
   ]
  },
  {
   "cell_type": "markdown",
   "metadata": {},
   "source": [
    "$\\begin{bmatrix}x= & 0 & 1 & 2 & 3 & 4 & 5 & 6 & 7 & 8 & 9& 10\n",
    "\\\\y=& 0,00000 & 0,84147 & 0,90930 & 0,14112 & -0,75680 & -0,95892 & -0,27942 & ? & 0,98936 & 0,41212 & -0,54402 \\end{bmatrix}$"
   ]
  },
  {
   "cell_type": "markdown",
   "metadata": {},
   "source": [
    "Como podemos observar los tramos que conforman los nodos [6,7] dan respuesta al valor solicitado $x=7$"
   ]
  },
  {
   "cell_type": "markdown",
   "metadata": {},
   "source": [
    "En la siguiente grafica veremos como usando el metodo de interpolacion de numpy nos muestra la grafica del $seno(x)$. (https://www.pythond.com/) "
   ]
  },
  {
   "cell_type": "code",
   "execution_count": 67,
   "metadata": {},
   "outputs": [
    {
     "data": {
      "image/png": "[encoded data removed]",
      "text/plain": [
       "<Figure size 432x288 with 1 Axes>"
      ]
     },
     "metadata": {
      "needs_background": "light"
     },
     "output_type": "display_data"
    }
   ],
   "source": [
    "import numpy as np\n",
    "import matplotlib.pyplot as plt \n",
    "from scipy import interpolate \n",
    "points = [(0,0.00000),(1,0.84147),(2,0.90930),(3,0.14112),(4,-0.75680),(5,-0.95892),(6,-0.27942)] \n",
    "points = points + [(7,0.66222),(8,0.98936),(9,0.41212),(10,-0.54402)] \n",
    "data = np.array(points) \n",
    "tck,u = interpolate.splprep(data.transpose(), s=0) \n",
    "unew = np.arange(0, 1.01, 0.01) \n",
    "out = interpolate.splev(unew, tck) \n",
    "plt.figure() \n",
    "plt.plot(out[0], out[1], color='orange') \n",
    "plt.plot(data[:,0], data[:,1], 'ob') \n",
    "plt.show()"
   ]
  },
  {
   "cell_type": "markdown",
   "metadata": {},
   "source": [
    "## Referencias"
   ]
  },
  {
   "cell_type": "markdown",
   "metadata": {},
   "source": [
    "Canale, R. P. y P. Canale, R. (2007). Métodos numéricos para ingenieros (5a. ed.). México D.F, Mexico: McGraw-Hill Interamericana. (pp. 124-133, 148-149, 154-155).\n",
    "\n",
    "\n",
    "Del Rosario, Edison. (2017). Métodos Numéricos MATG1052-FCNM-ESPOL: 4.4.1 Trazadores Cúbicos Natural o libre. Tomado de: http://blog.espol.edu.ec/analisisnumerico\n",
    "\n",
    "Desarrollo de Python (2017). como debujar spline cúbico en mathplotlib. tomado de https://www.pythond.com/46928/como-dibujar-spline-cubico-en-matplotlib.html"
   ]
  },
  {
   "cell_type": "code",
   "execution_count": null,
   "metadata": {},
   "outputs": [],
   "source": []
  }
 ],
 "metadata": {
  "kernelspec": {
   "display_name": "Python 3",
   "language": "python",
   "name": "python3"
  },
  "language_info": {
   "codemirror_mode": {
    "name": "ipython",
    "version": 3
   },
   "file_extension": ".py",
   "mimetype": "text/x-python",
   "name": "python",
   "nbconvert_exporter": "python",
   "pygments_lexer": "ipython3",
   "version": "3.8.3"
  }
 },
 "nbformat": 4,
 "nbformat_minor": 4
}
