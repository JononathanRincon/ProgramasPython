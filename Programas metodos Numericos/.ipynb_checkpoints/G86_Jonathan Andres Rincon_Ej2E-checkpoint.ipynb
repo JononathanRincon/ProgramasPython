{
 "cells": [
  {
   "cell_type": "markdown",
   "metadata": {},
   "source": [
    "# Regresión lineal"
   ]
  },
  {
   "cell_type": "markdown",
   "metadata": {},
   "source": [
    "###### Descripción del ejercicio: Para el conjunto de datos:"
   ]
  },
  {
   "cell_type": "markdown",
   "metadata": {},
   "source": [
    "<table style = \"border: 1px solid; font-size: = 15px\">\n",
    "    <tr style = \"border: 1px solid\">\n",
    "        <th style = \"border: 1px solid\"><strong style = \"bold\">x</strong></th>\n",
    "        <th style = \"border: 1px solid\"><i>0</i></th>\n",
    "        <th style = \"border: 1px solid\"><i>30</i></th>\n",
    "        <th style = \"border: 1px solid\"><i>10</i></th>\n",
    "        <th style = \"border: 1px solid\"><i>15</i></th>\n",
    "        <th style = \"border: 1px solid\"><i>5</i></th>\n",
    "        <th style = \"border: 1px solid\"><i>25</i></th>\n",
    "        <th style = \"border: 1px solid\"><i>35</i></th>\n",
    "        <th style = \"border: 1px solid\"><i>40</i></th>\n",
    "    </tr>\n",
    "    <tr>\n",
    "        <th style = \"border: 1px solid\"><strong>y</strong></th>\n",
    "        <th style = \"border: 1px solid\"><i>4</i></th>\n",
    "        <th style = \"border: 1px solid\"><i>1</i></th>\n",
    "        <th style = \"border: 1px solid\"><i>2</i></th>\n",
    "        <th style = \"border: 1px solid\"><i>2</i></th>\n",
    "        <th style = \"border: 1px solid\"><i>3</i></th>\n",
    "        <th style = \"border: 1px solid\"><i>1</i></th>\n",
    "        <th style = \"border: 1px solid\"><i>0</i></th>\n",
    "        <th style = \"border: 1px solid\"><i>1</i></th>\n",
    "    </tr>\n",
    "</table>"
   ]
  },
  {
   "cell_type": "markdown",
   "metadata": {},
   "source": [
    "- Ajuste los datos a una línea recta empleando el método de los mínimos cuadrados, realizando una descripción teórica detallada."
   ]
  },
  {
   "cell_type": "code",
   "execution_count": 1,
   "metadata": {},
   "outputs": [
    {
     "name": "stdout",
     "output_type": "stream",
     "text": [
      "x: [0, 30, 10, 15, 5, 25, 35, 40]\n",
      "y: [4, 1, 2, 2, 3, 1, 0, 1]\n",
      "Cantidad de datos (n): 8\n"
     ]
    }
   ],
   "source": [
    "import numpy as np\n",
    "import math as m\n",
    "\n",
    "x = [0, 30, 10, 15, 5, 25, 35, 40]\n",
    "y = [4, 1, 2, 2, 3, 1, 0, 1]\n",
    "n = len(x)\n",
    "sep=\"\\t\"\n",
    "\n",
    "print(\"x:\", x)\n",
    "print(\"y:\", y)\n",
    "print(\"Cantidad de datos (n):\", n)"
   ]
  },
  {
   "cell_type": "markdown",
   "metadata": {},
   "source": [
    "###### Las listas de datos no están ordenadas. Se pasan las listas $[x], [y]$ a tuplas $(x, y)$ con la función $zip$ de python, para ordenarlas con luego con respecto a $x$ con el método $sort$ de python, y se devuelven luego como listas ordenadas. (Moracho, 2017)"
   ]
  },
  {
   "cell_type": "code",
   "execution_count": 2,
   "metadata": {},
   "outputs": [
    {
     "name": "stdout",
     "output_type": "stream",
     "text": [
      "x: [0, 5, 10, 15, 25, 30, 35, 40]\n",
      "y: [4, 3, 2, 2, 1, 1, 0, 1]\n"
     ]
    }
   ],
   "source": [
    "tuplelist = [e for e in zip(x, y)]\n",
    "tuplelist.sort(key=lambda tuplelist: tuplelist[0])\n",
    "xord = []\n",
    "yord = []\n",
    "xord, yord = [list(e) for e in zip(*tuplelist)]\n",
    "\n",
    "print(\"x:\", xord)\n",
    "print(\"y:\", yord)"
   ]
  },
  {
   "cell_type": "markdown",
   "metadata": {},
   "source": [
    "- Calcule la pendiente y la intersección, así como el error estándar y el coeficiente de correlación."
   ]
  },
  {
   "cell_type": "markdown",
   "metadata": {},
   "source": [
    "Se crea la función de regresión por mínimos cuadrados, basándose en la codificación propuesta en el material de referencia (Canale, 2007). Posteriormente se evalúa usando los datos del ejercicio.\n",
    "\n",
    "De acuerdo con la teoría, lo que trata este método es buscar la ecuación de una recta, con la cual la distancia de la nube de puntos dados a ésta recta, sea mínima y de esta manera explicar aproximadamente el comportamiento de los datos (asociados a algún fenómeno). Teniendo en cuenta que la ecuación de una recta (en forma pendiente - intercepto) es  $y = a_0 + a_1 x + e$, donde $a_1$ es la pendiente de la recta, $a_0$ el intercepto y $e$ el error. Despejando $e$, se calculan de la siguiente forma:\n",
    "\n",
    "<HTML>\n",
    "    <TABLE border=\"0\">\n",
    "        <TR>\n",
    "            <TD>$\\sum_{i=1}^n e_i=\\sum_{i=1}^n (y_i-a_0-a_1x_i)$,</TD>\n",
    "            <TD>     </TD>\n",
    "            <TD>$ a_1=\\frac{n\\sum x_i y_i-\\sum x_i\\sum y_i}{n\\sum x_i^2-(\\sum x_i)^2}$,</TD>\n",
    "            <TD>     </TD>\n",
    "            <TD>$a_0=\\overline{y}-a_1\\overline{x}$</TD>\n",
    "        </TR>\n",
    "    </TABLE>\n",
    "</HTML>\n",
    "\n",
    "Asociados con el metodo tambien se calculan; error estándar $S_{y/x}=\\sqrt{\\frac{s_r}{n-2}}$ que cuantifica la dispersión de los datos, la magnitud del error residual $S_t$ asociado con la variable dependiente ($y$) antes de la regresión y el error después de realizar la regresión $S_r$. Ambos sirven para calcular además, el coeficiente de determinación $r^2=\\frac{S_t-S_r}{S_t}$ que es la norma de $S_t$ por diferencia de los anteriores $r^2=\\frac{S_t-S_r}{S_t}$ que que explica cuanto explica el modelo lineal (regresión) el conjunto de datos dados."
   ]
  },
  {
   "cell_type": "code",
   "execution_count": 7,
   "metadata": {},
   "outputs": [
    {
     "name": "stdout",
     "output_type": "stream",
     "text": [
      "Pendiente a1: -0.02666666666666667\n",
      "Intercepto a0: 1.7833333333333332\n",
      "Error estandar St: 5.9375\n",
      "Error residual Sr: 3.2530555555555556\n",
      "Error estandar estimado Sy/x: 0.7363259644518356\n",
      "R2: 0.4521169590643275\n"
     ]
    }
   ],
   "source": [
    "def Regress(x, y, n):\n",
    "    sumx = 0\n",
    "    sumxy = 0\n",
    "    st = 0 \n",
    "    sumy = 0\n",
    "    sumx2 = 0\n",
    "    sr = 0\n",
    "    \n",
    "    for i in range(1, n):\n",
    "        sumx = sumx + x[i] \n",
    "        sumy = sumy + y[i] \n",
    "        sumxy = sumxy + x[i]*y[i] \n",
    "        sumx2 = sumx2 + x[i]*x[i]\n",
    "    \n",
    "    xm = sumx / n \n",
    "    ym = sumy / n\n",
    "    a1 = (n * sumxy - sumx * sumy) / (n * sumx2 - sumx * sumx)\n",
    "    a0 = ym - a1 * xm\n",
    "    for i in range(1, n):\n",
    "        st = st + (y[i] - ym) ** 2\n",
    "        sr = sr + (y[i] - a1 * x[i] - a0) ** 2\n",
    "\n",
    "    syx = (sr / (n - 2)) ** 0.5\n",
    "    r2 = (st - sr) / st\n",
    "    Reg_Lin = [a1, a0, st, sr, syx, r2]\n",
    "    return Reg_Lin\n",
    "    \n",
    "Reg_Lin = Regress(xord, yord, n)\n",
    "\n",
    "print(\"Pendiente a1:\", Reg_Lin[0])\n",
    "print(\"Intercepto a0:\" , Reg_Lin[1])\n",
    "print(\"Error estandar St:\", Reg_Lin[2])\n",
    "print(\"Error residual Sr:\", Reg_Lin[3]) \n",
    "print(\"Error estandar estimado Sy/x:\", Reg_Lin[4])\n",
    "print(\"R2:\", Reg_Lin[5])"
   ]
  },
  {
   "cell_type": "markdown",
   "metadata": {},
   "source": [
    "De acuerdo con los resultados de la regresión, la ecuación de la recta que representa el modelo lineal de los datos dados es: $ y = 1.783 - 0.027x$ ; y de acuerdo con el coeficiente de correlación $r^2 = 0.45$, se indica que el modelo lineal sólo explica el 45% del comportamiento de los datos...\n"
   ]
  },
  {
   "cell_type": "markdown",
   "metadata": {},
   "source": [
    "- Realice una gráfica en donde se muestren los datos originales y la recta que ajusta"
   ]
  },
  {
   "cell_type": "code",
   "execution_count": 13,
   "metadata": {},
   "outputs": [
    {
     "data": {
      "image/png": "[encoded data removed]",
      "text/plain": [
       "<Figure size 432x288 with 1 Axes>"
      ]
     },
     "metadata": {
      "needs_background": "light"
     },
     "output_type": "display_data"
    }
   ],
   "source": [
    "import matplotlib.pyplot as plt\n",
    "\n",
    "y2=[]\n",
    "for i in range(0, n):\n",
    "    y2.append(Reg_Lin[1] + Reg_Lin[0] * xord[i])\n",
    "\n",
    "plt.title(\"Regresión Lineal\")\n",
    "plt.xlabel(\"x\")\n",
    "plt.ylabel(\"y\")\n",
    "plt.axhline(0, color = \"green\", linewidth = 2, linestyle = \"solid\")\n",
    "plt.axvline(0, color = \"green\", linewidth = 2, linestyle = \"solid\")\n",
    "plt.xlim(-10, 50)\n",
    "plt.ylim(-1, 5)\n",
    "plt.plot(xord, yord, color=\"b\", label=\"Datos\", marker =\"o\")\n",
    "plt.plot(xord, y2, color=\"m\", label=\"Regresión Lineal:  $y = 1.783 -0.027x$\", marker =\"o\")\n",
    "plt.legend()\n",
    "plt.grid()\n",
    "plt.show()"
   ]
  }
 ],
 "metadata": {
  "kernelspec": {
   "display_name": "Python 3",
   "language": "python",
   "name": "python3"
  },
  "language_info": {
   "codemirror_mode": {
    "name": "ipython",
    "version": 3
   },
   "file_extension": ".py",
   "mimetype": "text/x-python",
   "name": "python",
   "nbconvert_exporter": "python",
   "pygments_lexer": "ipython3",
   "version": "3.8.3"
  }
 },
 "nbformat": 4,
 "nbformat_minor": 4
}
