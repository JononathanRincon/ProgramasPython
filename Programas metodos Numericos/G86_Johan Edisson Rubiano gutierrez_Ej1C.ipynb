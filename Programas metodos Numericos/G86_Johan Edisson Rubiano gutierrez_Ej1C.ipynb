{
 "cells": [
  {
   "cell_type": "markdown",
   "metadata": {},
   "source": [
    "**Ejercicio 1: \tFundamentos de Programación.**\n",
    "\n",
    "**C:** A usted lo contrata una entidad financiera para que elabore un programa que calcule la amortización de un préstamo a cuota fija. La fórmula para determinar el valor de la cuota a \n",
    "\n"
   ]
  },
  {
   "cell_type": "markdown",
   "metadata": {},
   "source": [
    "![](formula.png)"
   ]
  },
  {
   "cell_type": "markdown",
   "metadata": {},
   "source": [
    "pagar está dada por:\n",
    "\n",
    "En donde\n",
    "𝑅, valor de la cuota mensual fija a pagar\n",
    "𝑃, es el valor del préstamo\n",
    "𝑖, es la tasa de interés (Efectiva Anual)\n",
    "𝑛, número de cuotas (meses)\n",
    "\n",
    "**Realice un programa en Python, empleando el Jupyter Notebook, que:**\n",
    "\n",
    "* Defina un módulo llamado entrada.py que contenga una función llamada entrada empleada para el ingreso de los datos 𝑃, 𝑖 (EA) y 𝑛 (meses) por teclado. Deberá devolver esos valores como argumentos.\n",
    "\n",
    "\n",
    "* Defina un módulo llamado calculos.py que contenga:\n",
    "\n",
    "    * una función llamada mesVencido que calcule el valor del interés dado como Efectivo anual a Mes Vencido de la siguiente manera: 𝑖𝑀𝑉=𝑖𝐸𝐴/12.\n",
    "    * Una función llamada cuota que calcule la cuota mensual fija (para todos los 𝑛 meses de duración del préstamo).    \n",
    "    * Una función llamada amortización que calcule el valor de la amortización al capital para el mes 𝑗, dado por 𝐴𝑚𝑜𝑟𝑡𝑖𝑧𝑎𝑐𝑖ó𝑛 𝑗=𝑐𝑢𝑜𝑡𝑎 𝑚𝑒𝑠 (𝑓𝑖𝑗𝑎)−𝑖𝑛𝑡𝑒𝑟é𝑠𝑗\n",
    "    * Una función llamada saldo que calcule el saldo a deber en el mes 𝑗, dado por: 𝑆𝑎𝑙𝑑𝑜𝑗=𝑆𝑎𝑙𝑑𝑜𝑗−1−𝐴𝑚𝑜𝑟𝑡𝑖𝑧𝑎𝑐𝑖ó𝑛 𝑗\n",
    "    \n",
    "\n",
    "Deberá crear una lista para cada una de las variables calculadas conteniendo los cálculos para cada periodo.\n",
    "Deberá efectuar una verificación de que el saldo al final de los periodos del préstamo deberá ser cero (0.0) y la suma de los valores de la amortización a capital deberá ser igual al valor del préstamo solicitado.\n",
    "\n",
    "\n",
    "* Defina un módulo llamado resultados.py que contenga una función que muestre el valor de la cuota fija mensual y generar una tabla que contenga el siguiente encabezado\n",
    "\n"
   ]
  },
  {
   "cell_type": "markdown",
   "metadata": {},
   "source": [
    "![](tabla_resultados.png)"
   ]
  },
  {
   "cell_type": "markdown",
   "metadata": {},
   "source": [
    "he indique cuánto pagó en total y cuánto pagó en intereses.\n",
    "\n",
    "   * El archivo *main.py* deberá contener únicamente el llamado a cada una de las funciones solicitadas arriba y una breve descripción de lo que hace el programa, definiendo cada uno de los datos de entrada y salida empleando docstring.\n"
   ]
  },
  {
   "cell_type": "markdown",
   "metadata": {},
   "source": [
    "**Desarrollo de la actividad**\n",
    "\n",
    "Para poder ingresar al Jupyter Notebook, primero estableceremos contacto directo mediante el llamado por CDM.\n"
   ]
  },
  {
   "cell_type": "markdown",
   "metadata": {},
   "source": [
    "![](CMD.png)"
   ]
  },
  {
   "cell_type": "markdown",
   "metadata": {},
   "source": [
    "Una vez realizada esta acción, podremos visualizar la interfaz de nuestro Jupyter Notebook"
   ]
  },
  {
   "cell_type": "markdown",
   "metadata": {},
   "source": [
    "![](interfaz_desarrollo.png)"
   ]
  },
  {
   "cell_type": "markdown",
   "metadata": {},
   "source": [
    "![](INTERFAZDESARROLLO.png)"
   ]
  },
  {
   "cell_type": "markdown",
   "metadata": {},
   "source": [
    "Ahora, para este desarrollo se deben tener diversos aspectos en cuenta lo siguiente:\n",
    "\n",
    "    𝑅, valor de la cuota mensual fija a pagar\n",
    "    𝑃, es el valor del préstamo\n",
    "    𝑖, es la tasa de interés (Efectiva Anual)\n",
    "    𝑛, número de cuotas (meses)\n",
    "\n",
    "Por tal motivo se creo el modulo llamado *entrada.py*\n"
   ]
  },
  {
   "cell_type": "markdown",
   "metadata": {},
   "source": [
    "![](MENTRADA.png)"
   ]
  },
  {
   "cell_type": "markdown",
   "metadata": {},
   "source": [
    "En él se encuentra la función llamada entrada, la cual será utilizada para el ingreso de los datos provenientes de:\n",
    "    p (préstamo)\n",
    "    i (efectiva anual)\n",
    "    n (meses)\n",
    "    \n",
    "Estos datos serán insertados por el usuario, una vez realizado esto los valores serán convertidos en argumentos.\n",
    "Para tal fin se han creado estas:\n",
    "\n",
    "    valor_prestamo = int(input(\"Ingrese el valor del préstamo: \"))\n",
    "    tasa_interes = int(input(\"Ingrese la tasa de interes: \"))\n",
    "    numero_coutas = int(input(\"Ingrese el numero de cuotas: \"))\n",
    "    \n",
    "La finalidad es poder capturar los datos ingresados para poder realizar os cálculos pertinentes.\n",
    "\n",
    "Ahora debemos definir el módulo denominado *cálculos.py*\n"
   ]
  },
  {
   "cell_type": "markdown",
   "metadata": {},
   "source": [
    "![](Mcalculos.png)"
   ]
  },
  {
   "cell_type": "markdown",
   "metadata": {},
   "source": [
    "En el cual se realizará el cálculo del valor del interés dado como efectivo anual a mes vencido aplicando esta operación de la siguiente manera:\n",
    "\t𝑖𝑀𝑉=𝑖𝐸𝐴/12. \n",
    "\n",
    "\n",
    "En el módulo cálculos se le asignas los valores a las diversas funciones para determinar la manera en la cual estos serán realizados, por lo cual cada una de estas cumple una función especifica teniendo en cuenta que deben obtener diversos resultados.\n",
    "\n",
    "  * **Mes vencido:** Calcula el valor del interés dado como Efectivo anual a Mes Vencido.\n",
    "    \n",
    "  * **Cuota:** Calcula la cuota mensual fija (para todos los 𝑛 meses de duración del préstamo).\n",
    "    \n",
    "  * **Amortización:** Calcula el valor de la amortización al capital para el mes 𝑗, dado por 𝐴𝑚𝑜𝑟𝑡𝑖𝑧𝑎𝑐𝑖ó𝑛 𝑗=𝑐𝑢𝑜𝑡𝑎 𝑚𝑒𝑠 (𝑓𝑖𝑗𝑎)−𝑖𝑛𝑡𝑒𝑟é𝑠𝑗\n",
    "    \n",
    "  * **Saldo:** Calcula el saldo a deber en el mes 𝑗, dado por: 𝑆𝑎𝑙𝑑𝑜𝑗=𝑆𝑎𝑙𝑑𝑜𝑗−1−𝐴𝑚𝑜𝑟𝑡𝑖𝑧𝑎𝑐𝑖ó𝑛 𝑗.\n",
    "\n",
    "\n",
    "Ahora contamos con el modulo denominado *resultados.py *\n"
   ]
  },
  {
   "cell_type": "markdown",
   "metadata": {},
   "source": [
    "![](MRESULTADOS.png)"
   ]
  },
  {
   "cell_type": "markdown",
   "metadata": {},
   "source": [
    "El cual contiene la función que muestra el valor de la cuota fina mensual y que realiza los cálculos pertinentes para llegar al resultado solicitado verificando que el saldo al final de los periodos del préstamo sea cero (0.0) y la suma de los valores de la amortización a capital sea igual al valor del préstamo solicitado."
   ]
  },
  {
   "cell_type": "code",
   "execution_count": 2,
   "metadata": {
    "scrolled": true
   },
   "outputs": [
    {
     "name": "stdout",
     "output_type": "stream",
     "text": [
      "Ingrese el valor del préstamo: 10000000\n",
      "Ingrese la tasa de interes: 12\n",
      "Ingrese el numero de cuotas: 12\n"
     ]
    },
    {
     "data": {
      "text/html": [
       "<table>\n",
       "<thead>\n",
       "<tr><th style=\"text-align: right;\">  Periodo</th><th style=\"text-align: right;\">  Cuota fija</th><th style=\"text-align: right;\">  Amortización Capital</th><th style=\"text-align: right;\">  Intereses</th><th style=\"text-align: right;\">      Saldo</th></tr>\n",
       "</thead>\n",
       "<tbody>\n",
       "<tr><td style=\"text-align: right;\">        1</td><td style=\"text-align: right;\">   888487.89</td><td style=\"text-align: right;\">             879603.01</td><td style=\"text-align: right;\">       1.00</td><td style=\"text-align: right;\">10000000.00</td></tr>\n",
       "<tr><td style=\"text-align: right;\">        2</td><td style=\"text-align: right;\">   888487.89</td><td style=\"text-align: right;\">             879603.01</td><td style=\"text-align: right;\">       1.00</td><td style=\"text-align: right;\"> 9120396.99</td></tr>\n",
       "<tr><td style=\"text-align: right;\">        3</td><td style=\"text-align: right;\">   888487.89</td><td style=\"text-align: right;\">             879603.01</td><td style=\"text-align: right;\">       1.00</td><td style=\"text-align: right;\"> 8240793.98</td></tr>\n",
       "<tr><td style=\"text-align: right;\">        4</td><td style=\"text-align: right;\">   888487.89</td><td style=\"text-align: right;\">             879603.01</td><td style=\"text-align: right;\">       1.00</td><td style=\"text-align: right;\"> 7361190.98</td></tr>\n",
       "<tr><td style=\"text-align: right;\">        5</td><td style=\"text-align: right;\">   888487.89</td><td style=\"text-align: right;\">             879603.01</td><td style=\"text-align: right;\">       1.00</td><td style=\"text-align: right;\"> 6481587.97</td></tr>\n",
       "<tr><td style=\"text-align: right;\">        6</td><td style=\"text-align: right;\">   888487.89</td><td style=\"text-align: right;\">             879603.01</td><td style=\"text-align: right;\">       1.00</td><td style=\"text-align: right;\"> 5601984.96</td></tr>\n",
       "<tr><td style=\"text-align: right;\">        7</td><td style=\"text-align: right;\">   888487.89</td><td style=\"text-align: right;\">             879603.01</td><td style=\"text-align: right;\">       1.00</td><td style=\"text-align: right;\"> 4722381.95</td></tr>\n",
       "<tr><td style=\"text-align: right;\">        8</td><td style=\"text-align: right;\">   888487.89</td><td style=\"text-align: right;\">             879603.01</td><td style=\"text-align: right;\">       1.00</td><td style=\"text-align: right;\"> 3842778.94</td></tr>\n",
       "<tr><td style=\"text-align: right;\">        9</td><td style=\"text-align: right;\">   888487.89</td><td style=\"text-align: right;\">             879603.01</td><td style=\"text-align: right;\">       1.00</td><td style=\"text-align: right;\"> 2963175.94</td></tr>\n",
       "<tr><td style=\"text-align: right;\">       10</td><td style=\"text-align: right;\">   888487.89</td><td style=\"text-align: right;\">             879603.01</td><td style=\"text-align: right;\">       1.00</td><td style=\"text-align: right;\"> 2083572.93</td></tr>\n",
       "<tr><td style=\"text-align: right;\">       11</td><td style=\"text-align: right;\">   888487.89</td><td style=\"text-align: right;\">             879603.01</td><td style=\"text-align: right;\">       1.00</td><td style=\"text-align: right;\"> 1203969.92</td></tr>\n",
       "<tr><td style=\"text-align: right;\">       12</td><td style=\"text-align: right;\">   888487.89</td><td style=\"text-align: right;\">             879603.01</td><td style=\"text-align: right;\">       1.00</td><td style=\"text-align: right;\">       0.00</td></tr>\n",
       "</tbody>\n",
       "</table>"
      ],
      "text/plain": [
       "<IPython.core.display.HTML object>"
      ]
     },
     "metadata": {},
     "output_type": "display_data"
    }
   ],
   "source": [
    "import main\n",
    "main.main()"
   ]
  },
  {
   "cell_type": "markdown",
   "metadata": {},
   "source": [
    "Posteriormente este es visualizado en una tabla en donde se indique cuánto pagó en total y cuánto pagó en intereses.\n",
    "\n",
    "Por ultimo se encuentra el archivo main.py en el cual cuanta únicamente con los llamados a cada una de las funciones solicitadas así como una breve descripción de lo que hace el programa."
   ]
  },
  {
   "cell_type": "markdown",
   "metadata": {},
   "source": [
    "![](MMAIN.png)"
   ]
  },
  {
   "cell_type": "markdown",
   "metadata": {},
   "source": [
    "**Link del vídeo**"
   ]
  },
  {
   "cell_type": "markdown",
   "metadata": {},
   "source": [
    "[Este es el link hacia el Vídeo del ejercicio](https://www.youtube.com/watch?v=RFp_E-dBnT4)"
   ]
  },
  {
   "cell_type": "code",
   "execution_count": null,
   "metadata": {},
   "outputs": [],
   "source": []
  },
  {
   "cell_type": "code",
   "execution_count": null,
   "metadata": {},
   "outputs": [],
   "source": []
  },
  {
   "cell_type": "code",
   "execution_count": null,
   "metadata": {},
   "outputs": [],
   "source": []
  }
 ],
 "metadata": {
  "kernelspec": {
   "display_name": "Python 3",
   "language": "python",
   "name": "python3"
  },
  "language_info": {
   "codemirror_mode": {
    "name": "ipython",
    "version": 3
   },
   "file_extension": ".py",
   "mimetype": "text/x-python",
   "name": "python",
   "nbconvert_exporter": "python",
   "pygments_lexer": "ipython3",
   "version": "3.8.5"
  }
 },
 "nbformat": 4,
 "nbformat_minor": 4
}
