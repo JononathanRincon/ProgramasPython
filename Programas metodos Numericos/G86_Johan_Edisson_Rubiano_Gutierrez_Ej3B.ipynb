{
 "cells": [
  {
   "cell_type": "markdown",
   "metadata": {},
   "source": [
    "# Ejercicio 3B\n",
    "## Interpolación. \n",
    "En este archivo solo se compila el código y se brindan las ecuaciones principales, el análisis de los resultados, la explicación de los métodos y de su implementación se lleva en paralelo en el presentable en WORD.\n",
    "\n",
    "Para el desarrollo de este punto se solicitan implementar lo métodos de:\n",
    "* Newton\n",
    "* Lagrange\n",
    "* Trazadores Cúbicos\n",
    "\n",
    "Los datos brindados son los del estudiante B.\n",
    "$$\n",
    "X= 0, 1,  2, 3, 4, 5, 6, 7, 8, 9, 10\n",
    "$$\n",
    "$$\n",
    "f(x)= 1, 0.5430 , -0.41615  , -0.98999, -0.65364, 0.28366, 0.96017, ¿?, -0.14550, -0.91113, -0.83907\n",
    "$$\n",
    "\n",
    "Basicamente en el trabajo se va a hallar los valores para $x=7$ con cada iterpolación.\n"
   ]
  },
  {
   "cell_type": "markdown",
   "metadata": {},
   "source": [
    "\n",
    "## Método de Newton\n",
    "Se parte con el hecho de que el polinomio esta compuesto por\n",
    "$$\n",
    "f(x)=a_0+a_1(x-x_0)  +a_2 (x-x_0)(x-x_1) +...+a_n(x-x_0)(x-x_1)..(x-x_n)\n",
    "$$\n",
    "en cada método, lo que se busca es determinar los coeficientes $a_n$ para armar una curva que pase por fotos los puntos brindados\n",
    "\n",
    "Para este método, se tiene que:\n",
    "$$\n",
    "a_0=f_0(x_0)= (x=0,y=1)\n",
    "$$\n",
    "Según los datos que se dan\n",
    "$$\n",
    "a_1=f_1(x_0,x_1)= \\frac{f_0(x_1)-f_0(x_0)}{x_1-x_0}\n",
    "$$\n",
    "$$\n",
    "a_n=f_n(x_0,x_1,..,x_n)= \\frac{f_{n-1}(x1,x_2,..,x_n)-f_{n-1}(x_0,x_1,...,x_n)}{x_n-x_0}\n",
    "$$\n",
    "\n",
    "y así sucesivamente se van armando las expresiones para hallar los coeficientes"
   ]
  },
  {
   "cell_type": "markdown",
   "metadata": {},
   "source": [
    "El método de newton se conoce como diferencias divididas, en donde se requiere implementar un código que se basa en un ciclo dentro de otro ciclo:\n",
    "\n",
    "•\tEl ciclo exterior es para calculas cada fila y se almacenando solamente el primer número en la fila, ya que este corresponde al primer coeficiente.\n",
    "\n",
    "•\tEl ciclo interno va hallando las diferencias dividas en cada n, y en el ciclo interior, se va haciendo la diferencia dividida.\n"
   ]
  },
  {
   "cell_type": "code",
   "execution_count": 1,
   "metadata": {},
   "outputs": [
    {
     "name": "stdout",
     "output_type": "stream",
     "text": [
      "\n",
      " Los coeficientes en método de Newton son: \n",
      "[1, -0.45699999999999996, -0.25107500000000005, 0.14791, -0.015107500000000003, -0.0039295, 0.0010460555555555555, -6.0235615079365026e-05, -8.292217813051166e-06, 1.7357197971781356e-06]\n",
      "la funcion en x= 0  es 1.0\n",
      "la funcion en x= 1  es 0.543\n",
      "la funcion en x= 2  es -0.41615\n",
      "la funcion en x= 3  es -0.9899900000000001\n",
      "la funcion en x= 4  es -0.65364\n",
      "la funcion en x= 5  es 0.28365999999999925\n",
      "la funcion en x= 6  es 0.9601699999999991\n",
      "la funcion en x= 7  es 0.7521313333333322\n",
      "la funcion en x= 8  es -0.14550000000000374\n",
      "la funcion en x= 9  es -0.9111299999999942\n",
      "la funcion en x= 10  es -0.8390700000000035\n"
     ]
    }
   ],
   "source": [
    "def funcion_diferencias(x_datos_newton, y_datos_newton):\n",
    "    longitud_x=len(x_datos_newton)\n",
    "    longitud_y=len(y_datos_newton)\n",
    "    auxliar=longitud_x-longitud_y\n",
    "    n_dif=[]\n",
    "    i=0\n",
    "    while i<(longitud_y-1):\n",
    "        aux=(y_datos_newton[i+1]-y_datos_newton[i])/(x_datos_newton[i+1+auxliar]-x_datos_newton[i])\n",
    "        n_dif.insert(i,aux)\n",
    "        i=i+1\n",
    "    return n_dif\n",
    "\n",
    "def principal(x_datos_dados,y_datos_dados):\n",
    "    n_puntos=len(x_datos_dados)    \n",
    "    enesima=y_datos_dados\n",
    "    a_n=y_datos_dados\n",
    "    i=1\n",
    "    while i<n_puntos:\n",
    "        n_diferencia=funcion_diferencias(x_datos_dados,enesima)\n",
    "        enesima=[]\n",
    "        enesima=n_diferencia\n",
    "        a_n[i]=enesima[0]\n",
    "        i=i+1\n",
    "    return a_n\n",
    "x=[0,1,2,3,4,5,6,8,9,10] \n",
    "y=[ 1, 0.5430 , -0.41615  , -0.98999, -0.65364, 0.28366, 0.96017, -0.14550, -0.91113, -0.83907]\n",
    "c_new=principal(x,y)\n",
    "print(\"\\n Los coeficientes en método de Newton son: \")\n",
    "print(c_new)\n",
    "def funcion(x_in):\n",
    "    fun=c_new[0] + c_new[1]*(x_in-x[0]) + c_new[2]*(x_in-x[0])*(x_in-x[1]) + c_new[3]*(x_in-x[0])*(x_in-x[1])*(x_in-x[2]) + c_new[4]*(x_in-x[0])*(x_in-x[1])*(x_in-x[2])*(x_in-x[3])+ c_new[5]*(x_in-x[0])*(x_in-x[1])*(x_in-x[2])*(x_in-x[3])*(x_in-x[4])+ c_new[6]*(x_in-x[0])*(x_in-x[1])*(x_in-x[2])*(x_in-x[3])*(x_in-x[4])*(x_in-x[5])+ c_new[7]*(x_in-x[0])*(x_in-x[1])*(x_in-x[2])*(x_in-x[3])*(x_in-x[4])*(x_in-x[5])*(x_in-x[6])   + c_new[8]*(x_in-x[0])*(x_in-x[1])*(x_in-x[2])*(x_in-x[3])*(x_in-x[4])*(x_in-x[5])*(x_in-x[6])*(x_in-x[7])   + c_new[9]*(x_in-x[0])*(x_in-x[1])*(x_in-x[2])*(x_in-x[3])*(x_in-x[4])*(x_in-x[5])*(x_in-x[6])*(x_in-x[7])*(x_in-x[8])\n",
    "    return fun\n",
    "for ite in range(0,11): \n",
    "    funcionenx=funcion(ite)\n",
    "    print(\"la funcion en x=\",ite,\" es\",funcionenx)"
   ]
  },
  {
   "cell_type": "markdown",
   "metadata": {},
   "source": [
    "La funcion_diferencias hace los cálculos en cada iteración. El volumen de los datos de x_datos_newton  no cambia, pero el y_datos_newton  si cambia, por lo cual se calcula el tamaño de 2 listas de entrada y  se define una variable auxiliar con la diferencia en tamaño de uno con el otro, luego se crea una lista vacía que se va a ir llena dentro de un ciclo, que solamente hace los cálculos la cantidad de veces de la lista más pequeña.\n",
    "A medida que se avanza en el método de newton este requiere menos cálculos, ahora dentro del ciclo se utiliza la variable auxiliar de la diferencia de tamaño para indicar bien la diferencia entre el dato actual y el dato inicial de la variable independiente, posteriormente se va rellenando la lista, y esta lista es la que se devuelve.\n",
    "\n",
    "principal llama de forma reiterada a funcion_diferencias y pues, solamente toma el primer dato de la lista, que es en donde está la contante del polinomio, pero, varia los datos de y_datos_newton que son necesarios para la siguiente iteración. \n",
    "Luego se definen los datos de entrada, se llama a función y se almacena los coeficientes en una nueva lista, se crea una función tal como se ve en esta forma\n",
    "f(x)=a_0+a_1 (x-x_0 )+a_2 (x-x_0 )(x-x_1 )+..+a_n (x-x_0 )(x-x_1 )..(x-x_n)\n",
    "Se utiliza la función dentro de un for que va de 1 en 1 desde 0 hasta 10, para así, validar los datos de entrada y encontrar el dato para x=7, por lo que se encuentra:\n"
   ]
  },
  {
   "cell_type": "markdown",
   "metadata": {},
   "source": [
    "Se utiliza la función dentro de un for que va de 1 en 1 desde 0 hasta 10, para así, validar los datos de entrada y encontrar el dato para x=7, por lo que se encuentra:\n",
    "##### Para x=7 y=0.752131"
   ]
  },
  {
   "cell_type": "markdown",
   "metadata": {},
   "source": [
    "# Método de Lagrange\n",
    "$$\n",
    "\\begin{aligned}\n",
    "f_{2}(x)=& \\frac{\\left(x-x_{1}\\right)\\left(x-x_{2}\\right)}{\\left(x_{0}-x_{1}\\right)\\left(x_{0}-x_{2}\\right)} f\\left(x_{0}\\right)+\\frac{\\left(x-x_{0}\\right)\\left(x-x_{2}\\right)}{\\left(x_{1}-x_{0}\\right)\\left(x_{1}-x_{2}\\right)} f\\left(x_{1}\\right) \\\\\n",
    "&+\\frac{\\left(x-x_{0}\\right)\\left(x-x_{1}\\right)}{\\left(x_{2}-x_{0}\\right)\\left(x_{2}-x_{1}\\right)} f\\left(x_{2}\\right)\n",
    "\\end{aligned}\n",
    "$$\n",
    "En la anterior ecuación se puede ver los cálculos que se tiene que hacer si se dan $3$ puntos, o sea $n=2$, de ahí se abstrae que, para $n$ datos dados, se tienen $n$ sumas con $n-1$ multiplicaciones, por lo que se propone el siguiente código:\n",
    "\n"
   ]
  },
  {
   "cell_type": "markdown",
   "metadata": {},
   "source": [
    "El método de Lagrange fue desarrollado tal como lo indica el seudocódigo de la referencia (Chapra, S, 2007) en la página 518."
   ]
  },
  {
   "cell_type": "code",
   "execution_count": 17,
   "metadata": {},
   "outputs": [
    {
     "data": {
      "image/png": "[encoded data removed]",
      "text/plain": [
       "<IPython.core.display.Image object>"
      ]
     },
     "execution_count": 17,
     "metadata": {},
     "output_type": "execute_result"
    }
   ],
   "source": [
    "Image (filename=\"figura1.png\")"
   ]
  },
  {
   "cell_type": "code",
   "execution_count": 2,
   "metadata": {},
   "outputs": [
    {
     "name": "stdout",
     "output_type": "stream",
     "text": [
      "\n",
      " en F(x= 0 ) se tiene 1.0\n",
      "\n",
      " en F(x= 1 ) se tiene 0.543\n",
      "\n",
      " en F(x= 2 ) se tiene -0.41615\n",
      "\n",
      " en F(x= 3 ) se tiene -0.98999\n",
      "\n",
      " en F(x= 4 ) se tiene -0.65364\n",
      "\n",
      " en F(x= 5 ) se tiene 0.28366\n",
      "\n",
      " en F(x= 6 ) se tiene 0.9601700000000001\n",
      "\n",
      " en F(x= 7 ) se tiene 0.7521313333333335\n",
      "\n",
      " en F(x= 8 ) se tiene -0.1455\n",
      "\n",
      " en F(x= 9 ) se tiene -0.91113\n",
      "\n",
      " en F(x= 10 ) se tiene -0.8390699999999999\n"
     ]
    }
   ],
   "source": [
    "def lagrng(x_dataa,y_data,x_especifico):\n",
    "    en=len(x_dataa)\n",
    "    suma=0\n",
    "    i=0\n",
    "    while i<en:\n",
    "        fx_n=y_data[i]\n",
    "        j=0\n",
    "        while j<en:\n",
    "            if (i!=j):\n",
    "                fx_n=fx_n*(x_especifico-x_dataa[j])/(x_dataa[i]-x_dataa[j])\n",
    "            j=j+1\n",
    "        suma=suma+fx_n\n",
    "        i=i+1\n",
    "    return(suma)\n",
    "x=[0,1,2,3,4,5,6,8,9,10] \n",
    "y=[ 1, 0.5430 , -0.41615  , -0.98999, -0.65364, 0.28366, 0.96017, -0.14550, -0.91113, -0.83907]\n",
    "for ite in range(0,11): \n",
    "    x_7=lagrng(x,y,ite)\n",
    "    print(\"\\n en F(x=\",ite,\") se tiene\",x_7)"
   ]
  },
  {
   "cell_type": "markdown",
   "metadata": {},
   "source": [
    "De acuerdo con los resultados se puede determinar lo siguiente: \n",
    "##### Para x=7 y=0.752131\n",
    "Los datos que se obtienen corresponden a los mismos datos de entrada, por lo que la interpolación es confiable\n",
    "Siguiendo tal cual el seudocódigo se ha logrado una implementación con menos líneas de código. \n"
   ]
  },
  {
   "cell_type": "markdown",
   "metadata": {},
   "source": [
    "# Trazador cúbico"
   ]
  },
  {
   "cell_type": "markdown",
   "metadata": {},
   "source": [
    "El método de trazadores cúbicos es comparablemente mucho más complejo que los anteriores 2, ya que, define una función a trozos, donde, si se tiene x datos de entrada, se definen x-1 trozos, por lo que, se maneja mucha más información, por lo que, para este caso, simplemente se sigue al pie de la letra la referencia (Minishow,2019),  y se implementa pensando en un caso específico y no en uno general. "
   ]
  },
  {
   "cell_type": "code",
   "execution_count": 1,
   "metadata": {},
   "outputs": [
    {
     "name": "stdout",
     "output_type": "stream",
     "text": [
      "con el método de trazas cubicas en x=7 se obtiene 0.9601699999999999\n"
     ]
    }
   ],
   "source": [
    "import numpy as np\n",
    "x=[0,1,2,3,4,5,6,8,9,10] \n",
    "y=[ 1, 0.5430 , -0.41615  , -0.98999, -0.65364, 0.28366, 0.96017, -0.14550, -0.91113, -0.83907]\n",
    "n=len(x)\n",
    "i=1\n",
    "h_i=[]\n",
    "m_i=[]\n",
    "\n",
    "for i in range(0,n):\n",
    "    h_i.insert(i,x[i]-x[i-1])\n",
    "    m_i.insert(i,(y[i]-y[i-1])/(x[i]-x[i-1]))    \n",
    "c_i1=[1,0,0,0,0,0,0,0,0,0] #calculo de c\n",
    "c_i2=[h_i[0],2*(h_i[0]+h_i[1]),h_i[1],0,0,0,0,0,0,0]   \n",
    "c_i3=[0,h_i[1],2*(h_i[1]+h_i[2]),h_i[2],0,0,0,0,0,0]  \n",
    "c_i4=[0,0,h_i[2],2*(h_i[2]+h_i[3]),h_i[3],0,0,0,0,0]\n",
    "c_i5=[0,0,0,h_i[3],2*(h_i[3]+h_i[4]),h_i[4],0,0,0,0]\n",
    "c_i6=[0,0,0,0,h_i[4],2*(h_i[4]+h_i[5]),h_i[5],0,0,0]\n",
    "c_i7=[0,0,0,0,0,h_i[5],2*(h_i[5]+h_i[6]),h_i[6],0,0]\n",
    "c_i8=[0,0,0,0,0,0,h_i[6],2*(h_i[6]+h_i[7]),h_i[7],0]\n",
    "c_i9=[0,0,0,0,0,0,0,h_i[7],2*(h_i[7]+h_i[8]),h_i[8]]\n",
    "c_i10=[0,0,0,0,0,0,0,0,0,1]\n",
    "matriss=np.array([c_i1,c_i2,c_i3,c_i4,c_i5,c_i6,c_i7,c_i8,c_i9,c_i10])\n",
    "m_sol=np.array([0,3*(m_i[1]-m_i[0]),3*(m_i[2]-m_i[1]),3*(m_i[3]-m_i[2]),3*(m_i[4]-m_i[3]),3*(m_i[5]-m_i[4]),3*(m_i[6]-m_i[5]),3*(m_i[7]-m_i[6]),3*(m_i[8]-m_i[7]),0])\n",
    "c = np.linalg.solve(matriss, m_sol)\n",
    "b_i=[]\n",
    "d_i=[]\n",
    "a_i=[0,0,0,0,0,0,0,0,0]\n",
    "i=0\n",
    "for i in range (0,n-1):\n",
    "    b_i.insert(i,m_i[i]-(1/3)*h_i[i]*(2*c[i]+c[i+1]))\n",
    "    d_i.insert(i,(c[i+1]-c[i]) / (3*h_i[i]))\n",
    "i=1\n",
    "while i<(n-1):\n",
    "    a_i[i]=y[i-1]\n",
    "    i=i+1\n",
    "A=a_i[6]\n",
    "B=b_i[6]\n",
    "C=c[6]\n",
    "D=d_i[6]\n",
    "X0=x[6]\n",
    "def fx_trazas(x_cal):\n",
    "    aux=A+B*(x_cal-X0)+C*((x_cal-X0)**2)+D*((x_cal-X0)**3)\n",
    "    return aux\n",
    "x_7_trazas=fx_trazas(7)\n",
    "print(\"con el método de trazas cubicas en x=7 se obtiene\", x_7_trazas)\n"
   ]
  },
  {
   "cell_type": "markdown",
   "metadata": {},
   "source": [
    "Es por ello que es necesario resolver un sistema de ecuaciones de 10x10 para hallar todos los coeficientes necesarios, (cosa que dista de los anteriores dos métodos), de tal manera que no se ha llegado a la misma respuesta que con los anteriores métodos. "
   ]
  },
  {
   "cell_type": "code",
   "execution_count": null,
   "metadata": {},
   "outputs": [],
   "source": []
  }
 ],
 "metadata": {
  "kernelspec": {
   "display_name": "Python 3",
   "language": "python",
   "name": "python3"
  },
  "language_info": {
   "codemirror_mode": {
    "name": "ipython",
    "version": 3
   },
   "file_extension": ".py",
   "mimetype": "text/x-python",
   "name": "python",
   "nbconvert_exporter": "python",
   "pygments_lexer": "ipython3",
   "version": "3.8.5"
  }
 },
 "nbformat": 4,
 "nbformat_minor": 4
}
