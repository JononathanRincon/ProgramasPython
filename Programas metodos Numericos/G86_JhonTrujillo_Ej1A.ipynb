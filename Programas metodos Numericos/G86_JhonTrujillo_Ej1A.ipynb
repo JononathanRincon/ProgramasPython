{
 "cells": [
  {
   "cell_type": "markdown",
   "metadata": {},
   "source": [
    "# Fundamentos de programación"
   ]
  },
  {
   "cell_type": "markdown",
   "metadata": {},
   "source": [
    "En Trigonometría, el coseno de un ángulo $\\alpha$ en un triángulo rectángulo se define como la razón entre el cateto adyacente al ángulo y la hipotenusa.\n",
    "\n",
    "![Imagen_1](https://upload.wikimedia.org/wikipedia/commons/thumb/5/5f/Trigono_b00.svg/213px-Trigono_b00.svg.png) \n",
    "Figura 1. coseno del ángulo 𝛼 en un triángulo rectángulo. Recuperado de https://upload.wikimedia.org/wikipedia/commons/thumb/5/5f/Trigono_b00.svg/213px-Trigono_b00.svg.png\n",
    "\n",
    "En el caso de las matemáticas, se le define como una función par y continua, con período $2\\pi$.\n",
    "\n",
    "![Imagen_1](https://upload.wikimedia.org/wikipedia/commons/thumb/0/06/Cosine.svg/350px-Cosine.svg.png) \n",
    "Figura 2. Función coseno en matemáticas. Recuperado de https://upload.wikimedia.org/wikipedia/commons/thumb/0/06/Cosine.svg/350px-Cosine.svg.png\n",
    "\n",
    "Los lenguajes de programación la incluyen normalmente dentro de sus comandos, sin embargo, en este ejercicio el objetivo es construirlo con una fórmula matemática basada la aproximación por Series de Taylor, la cual usa el número del ángulo expresado en radianes y está definida por la siguiente fórmula:\n",
    "\n",
    "$$\n",
    "\\cos(x) = \\sum_{i=0}^{n}\\dfrac{(-1)^n}{2i!}\\cdot x^{2i}\n",
    "$$\n",
    "\n",
    "El ángulo $x$ se convierte en radianes de la siguiente forma:\n",
    "\n",
    "$$\n",
    "Ángulo en radianes = Ángulo en grados \\cdot \\dfrac{\\pi}{180}\n",
    "$$\n",
    "\n",
    "La ecuación incluye el cálculo del factorial de un número. El factorial de un número $n$ se define como el producto de todos los números enteros positivos desde 1 hasta $n$ inclusive. Por ejemplo:\n",
    "$$\n",
    "5!=1×2×3×4×5=120\n",
    "$$"
   ]
  },
  {
   "cell_type": "markdown",
   "metadata": {},
   "source": [
    "## 1. Ejercicio A1"
   ]
  },
  {
   "cell_type": "markdown",
   "metadata": {
    "colab_type": "text",
    "id": "gaZJmUJ7DmBF"
   },
   "source": [
    "<justify>• Construya la función factorial, que realice el cálculo del factorial de un número 𝑛 que se le envía como parámetro a la función. El método debe retornar uno de los siguientes resultados:<justify>\n",
    "    \n",
    "<center> si $n < 0$, $\\text{retornar}$ $0$ <center>\n",
    "    \n",
    "<center> si $n = 0$, $\\text{retornar}$ $1$ <center>\n",
    "    \n",
    "<center> si $n > 0$, $\\text{retornar el resultado de la multiplicación  de enteros desde}$ $1$ $\\text{hasta}$ $n$<center>\n",
    "\n"
   ]
  },
  {
   "cell_type": "markdown",
   "metadata": {},
   "source": [
    "El factorial de un número entero positivo, expresado $n!$, se define como el producto de todos los números enteros positivos menores o iguales que n."
   ]
  },
  {
   "cell_type": "code",
   "execution_count": 1,
   "metadata": {
    "colab": {
     "base_uri": "https://localhost:8080/",
     "height": 68
    },
    "colab_type": "code",
    "id": "0mTbBf40C2Tz",
    "outputId": "4e463df3-08df-45b2-bbd2-dea79bc2663d"
   },
   "outputs": [
    {
     "name": "stdout",
     "output_type": "stream",
     "text": [
      "Cálculo del factorial de: 5\n",
      "El factorial es: \n",
      "120\n"
     ]
    }
   ],
   "source": [
    "# EJERCICIO A1. \n",
    "# Jhon Jairo Trujillo\n",
    "\n",
    "y = input(\"Cálculo del factorial de: \")\n",
    "x = int(y)\n",
    "\n",
    "def factorial(x) :\n",
    "    factorial = 1\n",
    "    while (x >= 1):\n",
    "        factorial = factorial * x\n",
    "        x = x - 1\n",
    "    while (x < 0):\n",
    "        factorial = 0 * x\n",
    "        x = x + 1\n",
    "    return factorial\n",
    "\n",
    "print(\"El factorial es: \"),\n",
    "print(factorial(x))\n"
   ]
  },
  {
   "cell_type": "markdown",
   "metadata": {},
   "source": [
    "## 2. Ejercicio A2"
   ]
  },
  {
   "cell_type": "markdown",
   "metadata": {
    "colab_type": "text",
    "id": "30e8hxaMVCI4"
   },
   "source": [
    "<justify>•\tConstruya la función elevarNumero, que realice el cálculo de elevar un número 𝑥 que llega como parámetro a la 𝑦, que es otro número que llega como parámetro al método. El método debe retornar:<justify>\n",
    "\n",
    "<center> si $y < 0$, $\\text{retornar}$ $0$ <center>\n",
    "    \n",
    "<center> si $y = 0$, $\\text{retornar}$ $1$ <center>\n",
    "    \n",
    "<center> si $y > 0$, $\\text{retornar la multiplicación de}$ $x$ $\\text{por sí mismo}$ $y$ $\\text{veces}$<center>\n",
    "    "
   ]
  },
  {
   "cell_type": "markdown",
   "metadata": {},
   "source": [
    "La potenciación es una operación entre 2 números que se define como :\n",
    "\n",
    "&nbsp;\n",
    "\n",
    "<center>$a^n = a * a * ... * a, n$ veces<center"
   ]
  },
  {
   "cell_type": "code",
   "execution_count": 3,
   "metadata": {
    "colab": {
     "base_uri": "https://localhost:8080/",
     "height": 68
    },
    "colab_type": "code",
    "id": "KXCGYs_bEHjd",
    "outputId": "e06f8928-474c-44e0-b56a-82b3b6dbf6f4"
   },
   "outputs": [
    {
     "name": "stdout",
     "output_type": "stream",
     "text": [
      "Ingrese la base: 5\n",
      "Ingrese el exponente: 5\n",
      "5 elevado a la 5 tiene como resultado: \n",
      "3125\n"
     ]
    }
   ],
   "source": [
    "# EJERCICIO A2.\n",
    "# Jhon Jairo Trujillo\n",
    "\n",
    "x = input(\"Ingrese la base: \")\n",
    "y = input(\"Ingrese el exponente: \")\n",
    "w = int(x)\n",
    "z = int(y)\n",
    "\n",
    "\n",
    "def elevarNumero(w, z) : \n",
    "    elevarNumero = 1\n",
    "    while (z >= 1):\n",
    "        elevarNumero = elevarNumero * w\n",
    "        z = z - 1\n",
    "    while (z < 0):\n",
    "        elevarNumero = w * 0\n",
    "        z = z + 1\n",
    "    return elevarNumero\n",
    "    \n",
    "print(x,\"elevado a la\",y,\"tiene como resultado: \")\n",
    "print(elevarNumero(w,z))"
   ]
  },
  {
   "cell_type": "markdown",
   "metadata": {
    "colab_type": "text",
    "id": "IdejmwSnEOPj"
   },
   "source": [
    "<justify>•\tConstruya la función convertir Radianes, que convierta el ángulo $x$ que llega como parámetro a radianes, de acuerdo con la fórmula definida antes.<justify>\n"
   ]
  },
  {
   "cell_type": "markdown",
   "metadata": {},
   "source": [
    "Para pasar un ángulo de grados a radianes $g$ a radianes $rad$:\n",
    "\n",
    "$$\n",
    "rad = g * \\frac{180}{\\pi}\n",
    "$$ \n"
   ]
  },
  {
   "cell_type": "code",
   "execution_count": 4,
   "metadata": {
    "colab": {
     "base_uri": "https://localhost:8080/",
     "height": 51
    },
    "colab_type": "code",
    "id": "Atai9rstEZHp",
    "outputId": "b14a1116-e3c7-4e51-96f2-bbd8bf963749"
   },
   "outputs": [
    {
     "name": "stdout",
     "output_type": "stream",
     "text": [
      "ingrese los grados: 180\n",
      "180 grados equivalen a\n",
      "3.141592653589793 radianes\n"
     ]
    }
   ],
   "source": [
    "# EJERCICIO A3. \n",
    "# Jhon Jairo Trujillo\n",
    "\n",
    "from math import pi\n",
    "\n",
    "y = input(\"ingrese los grados: \")\n",
    "x = float(y)\n",
    "\n",
    "def convertirRadianes(x) :\n",
    "    rad = pi * x / 180\n",
    "    return rad\n",
    "\n",
    "print(y,\"grados equivalen a\") \n",
    "print(convertirRadianes(x), \"radianes\")\n",
    "\n"
   ]
  },
  {
   "cell_type": "markdown",
   "metadata": {
    "colab_type": "text",
    "id": "bsshYoIiEhXl"
   },
   "source": [
    "<justify>•\tConstruya la función coseno, que recibe el ángulo en radianes y el número 𝑛 de veces que realizará el cálculo de un elemento de la sumatoria.<justify>\n"
   ]
  },
  {
   "cell_type": "markdown",
   "metadata": {},
   "source": [
    "La aproximación por medio de las sumas de Taylor de la función coseno, con una entrada definida en radianes es:\n",
    "\n",
    "$$\n",
    "\\cos(x) = \\sum_{i=0}^{n}\\dfrac{(-1)^n}{2i!}\\cdot x^{2i}\n",
    "$$"
   ]
  },
  {
   "cell_type": "code",
   "execution_count": 5,
   "metadata": {
    "colab": {
     "base_uri": "https://localhost:8080/",
     "height": 255
    },
    "colab_type": "code",
    "id": "KsJTq_dWEg09",
    "outputId": "7291a512-0c3c-4c13-e90a-3a738db634be"
   },
   "outputs": [
    {
     "name": "stdout",
     "output_type": "stream",
     "text": [
      "ingrese el ángulo en radianes: 180\n",
      "ingrese el número de iteracciones: 5\n",
      "        cos(x)                Error verdadero             Error porcentual \n",
      "                   0        -0.5984600690578581                      100.0\n",
      "                 1.0         -1.598460069057858         267.09552595117617\n",
      "            -16199.0         16198.401539930943        -2706680.4248831025\n",
      "          43723801.0         -43723801.59846007          7306051624.679563\n",
      "      -47195476199.0          47195476198.40154         -7886152917888.121\n",
      "None\n"
     ]
    }
   ],
   "source": [
    "# EJERCICIO A4. \n",
    "# Jhon Jairo Trujillo\n",
    "\n",
    "from math import cos as cos\n",
    "\n",
    "x = input(\"ingrese el ángulo en radianes: \")\n",
    "p = input(\"ingrese el número de iteracciones: \")\n",
    "y = float(x)\n",
    "q = int(p)\n",
    "\n",
    "def coseno(y, q) :\n",
    "    sum_coseno = 0\n",
    "    n = 0\n",
    "    termino = 1\n",
    "    while (n < q):\n",
    "        termino = ((y ** (2 * n))) / (factorial(2*n))\n",
    "        if (n % 2 == 0) :\n",
    "            sum_coseno = sum_coseno + termino\n",
    "        else:\n",
    "            sum_coseno = sum_coseno - termino\n",
    "        n = n + 1\n",
    "    return sum_coseno\n",
    "\n",
    "def Error_coseno(y, q):\n",
    "    a = 0\n",
    "    print (\"cos(x) \".rjust(15) + \" Error verdadero\".rjust(30) + \" Error porcentual \".rjust(30)) \n",
    "    while (a < q):\n",
    "        sum_coseno = coseno(y, a)\n",
    "        error = cos(y) - sum_coseno\n",
    "        error_porcentual = error / cos(y) * 100\n",
    "        print (str(sum_coseno).rjust(20)+ \"  \" + str(error).rjust(25) + \"  \" + str(error_porcentual).rjust(25))\n",
    "        a = a + 1\n",
    "\n",
    "print (Error_coseno(y, q))\n"
   ]
  },
  {
   "cell_type": "markdown",
   "metadata": {
    "colab_type": "text",
    "id": "yruMTQfJE-Fb"
   },
   "source": [
    "<justify>•\tConstruya un programa que lea desde el teclado un ángulo en grados y que calcule el resultado llamando la función coseno, con el ángulo en radianes y la 𝑛 variando entre 1 y 5.<justify>"
   ]
  },
  {
   "cell_type": "markdown",
   "metadata": {},
   "source": [
    "Para la siguiente función se construye a partir de las funciones construidas anteriormente:"
   ]
  },
  {
   "cell_type": "code",
   "execution_count": 6,
   "metadata": {
    "colab": {},
    "colab_type": "code",
    "id": "AdWLs36MFDSt"
   },
   "outputs": [
    {
     "name": "stdout",
     "output_type": "stream",
     "text": [
      "ingrese el ángulo en grados: 90\n",
      "        cos(x)                Error verdadero             Error porcentual \n",
      "                   0      6.123233995736766e-17                      100.0\n",
      "                 1.0        -0.9999999999999999     -1.633123935319537e+18\n",
      "-0.23370055013616975         0.2337005501361698     3.8166196212472237e+17\n",
      "0.019968957764878226      -0.019968957764878163     -3.261178288920745e+16\n",
      "-0.0008945229984747317       0.000894522998474793         1460866919502986.2\n",
      "None\n"
     ]
    }
   ],
   "source": [
    "# EJERCICIO A5. \n",
    "# Jhon Jairo Trujillo\n",
    "\n",
    "x = input(\"ingrese el ángulo en grados: \")\n",
    "y = float(x)\n",
    "q = 5\n",
    "\n",
    "y = convertirRadianes(y)\n",
    "sum_coseno = coseno(y, q)\n",
    "print (Error_coseno(y, q))"
   ]
  },
  {
   "cell_type": "markdown",
   "metadata": {
    "colab_type": "text",
    "id": "-WiMQk74FdvU"
   },
   "source": [
    "<justify>Cada estudiante deberá:<justify>\n",
    "&nbsp;\n",
    "\n",
    "<justify>•\tRealizar un vídeo donde explique la forma como fue desarrollado el ejercicio 1 seleccionado. La realización del vídeo puede ser con la cámara del celular, cámara del pc u otra alternativa que se le facilite. El estudiante debe aparecer en la grabación de frente y mostrar a la cámara su documento de identificación, ocultando el número de este (En la imagen se debe ver claramente el nombre y apellidos del estudiante).<justify>\n",
    "&nbsp;\n",
    "\n",
    "<justify>Deberá compartir el enlace del vídeo a YouTube, u otra plataforma de vídeos, y adjuntar el enlace debajo de la solución del ejercicio en el documento final a entregar. El vídeo no debe superar los 5 minutos de duración\n",
    "<justify>\n",
    "&nbsp;\n"
   ]
  },
  {
   "cell_type": "code",
   "execution_count": null,
   "metadata": {
    "colab": {},
    "colab_type": "code",
    "id": "o5-EhilYVCI9"
   },
   "outputs": [],
   "source": []
  }
 ],
 "metadata": {
  "colab": {
   "collapsed_sections": [],
   "name": "G85_CristiamEdwinBarreto_1A.ipynb",
   "provenance": []
  },
  "kernelspec": {
   "display_name": "Python 3",
   "language": "python",
   "name": "python3"
  },
  "language_info": {
   "codemirror_mode": {
    "name": "ipython",
    "version": 3
   },
   "file_extension": ".py",
   "mimetype": "text/x-python",
   "name": "python",
   "nbconvert_exporter": "python",
   "pygments_lexer": "ipython3",
   "version": "3.8.3"
  }
 },
 "nbformat": 4,
 "nbformat_minor": 1
}
