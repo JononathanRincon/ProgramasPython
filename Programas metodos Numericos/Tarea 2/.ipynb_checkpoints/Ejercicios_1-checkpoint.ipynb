{
 "cells": [
  {
   "cell_type": "markdown",
   "metadata": {},
   "source": [
    "# Calculo del coseno de un ángulo empleando series"
   ]
  },
  {
   "cell_type": "markdown",
   "metadata": {},
   "source": [
    "Para calcular el coseno de un ángulo empleando series debo emplear la siguiente ecuación:\n",
    "\n",
    "$$cos(x)=\\sum \\limits_{i=0}^{n} \\frac{(-1)^i}{(2i)!}x^{2i}$$\n",
    "\n",
    "creo más texto..."
   ]
  },
  {
   "cell_type": "code",
   "execution_count": 1,
   "metadata": {},
   "outputs": [],
   "source": [
    "def factorial(n):\n",
    "    res = 1\n",
    "    for i in range(0, n+1, 1):\n",
    "        if i < 0:\n",
    "            res = 0\n",
    "        elif i == 0:\n",
    "            res = 1\n",
    "        else:\n",
    "            res = res * i\n",
    "    return res"
   ]
  },
  {
   "cell_type": "code",
   "execution_count": 2,
   "metadata": {},
   "outputs": [],
   "source": [
    "def elevarNumero(x,y):\n",
    "    p = 1\n",
    "    if y < 0:\n",
    "        return 0\n",
    "    elif y == 0:\n",
    "        return 1\n",
    "    else:\n",
    "        for i in range(0, y):\n",
    "            p *= x\n",
    "        return p\n"
   ]
  },
  {
   "cell_type": "code",
   "execution_count": 3,
   "metadata": {},
   "outputs": [],
   "source": [
    "def grad2rad(anguloGrad):\n",
    "    pi = 3.14159265359\n",
    "    return anguloGrad * pi / 180"
   ]
  },
  {
   "cell_type": "code",
   "execution_count": 4,
   "metadata": {},
   "outputs": [],
   "source": [
    "def coseno(anguloRad, n):\n",
    "    cos = 0\n",
    "    for i in range(n):\n",
    "        cos += elevarNumero(-1, i) * elevarNumero(anguloRad, 2 * i) / factorial(2 * i)\n",
    "    return cos"
   ]
  },
  {
   "cell_type": "code",
   "execution_count": 5,
   "metadata": {},
   "outputs": [
    {
     "name": "stdout",
     "output_type": "stream",
     "text": [
      "Ingrese el ángulo en grados: 30\n",
      "ingrese la cantidad de términos de la sumatoria:5\n",
      "el valor de cos( 30.0 ) =  0 con  0 términos\n",
      "el valor de cos( 30.0 ) =  1.0 con  1 términos\n",
      "el valor de cos( 30.0 ) =  0.8629221610959631 con  2 términos\n",
      "el valor de cos( 30.0 ) =  0.86605388341573 con  3 términos\n",
      "el valor de cos( 30.0 ) =  0.8660252641005539 con  4 términos\n"
     ]
    }
   ],
   "source": [
    "anguloGrad = float(input(\"Ingrese el ángulo en grados: \"))\n",
    "n = int(input(\"ingrese la cantidad de términos de la sumatoria:\" ))\n",
    "\n",
    "\n",
    "for i in range(n):\n",
    "    cosenoX = coseno(grad2rad(anguloGrad),i)\n",
    "    print(\"el valor de cos(\",anguloGrad,\") = \", cosenoX, \"con \", i, \"términos\")"
   ]
  },
  {
   "cell_type": "markdown",
   "metadata": {},
   "source": [
    "# Fórmula del área de Gauss"
   ]
  },
  {
   "cell_type": "markdown",
   "metadata": {},
   "source": [
    "La Fórmula del área de Gauss, es un algoritmo matemático usado para calcular el área de un polígono simple cuyos vértices están descritos como pares de coordenadas en el plano. La fórmula puede representarse mediante la expresión:\n",
    "\n",
    "$$A = \\frac{1}{2} \\left | \\sum_{i=1}^{n}x_i(y_{i+1}-y_{i-1}) \\right |$$"
   ]
  },
  {
   "cell_type": "code",
   "execution_count": null,
   "metadata": {},
   "outputs": [],
   "source": [
    "def entrada():\n",
    "    n = int(input(\"Ingrese la cantidad de lados del polígono: \"))\n",
    "    x = []\n",
    "    y = []\n",
    "    \n",
    "    for i in range(n):\n",
    "        xi = float(input(\"Ingrese el valor de la coordenada x\" + str(i) + \": \"))\n",
    "        x.append(xi)\n",
    "        yi = float(input(\"Ingrese el valor de la coordenada y\" + str(i) + \": \"))\n",
    "        y.append(yi)\n",
    "    x.append(x[0])\n",
    "    y.append(y[0])\n",
    "    return x, y\n"
   ]
  },
  {
   "cell_type": "code",
   "execution_count": null,
   "metadata": {},
   "outputs": [],
   "source": [
    "def areaPoligono(x, y):\n",
    "    area = 0\n",
    "    for i in range(len(x) - 1):\n",
    "        area += x[i] * (y[i + 1] - y[i - 1])\n",
    "    return area / 2\n"
   ]
  },
  {
   "cell_type": "code",
   "execution_count": null,
   "metadata": {},
   "outputs": [],
   "source": [
    "def pares(x, y):\n",
    "    for i in range(len(x)):\n",
    "        print(\"(\", x[i], \", \", y[i], \")\")"
   ]
  },
  {
   "cell_type": "code",
   "execution_count": null,
   "metadata": {},
   "outputs": [],
   "source": [
    "def areaCalculada(area):\n",
    "    print(\"El área del polígono es: \", area, \"unidades cuadradas\")"
   ]
  },
  {
   "cell_type": "code",
   "execution_count": null,
   "metadata": {},
   "outputs": [],
   "source": [
    "# main\n",
    "x, y = entrada() # llama a la función que pide los datos de entrada\n",
    "area = areaPoligono(x, y) # cálculo del área del polígono\n",
    "pares(x,y)\n",
    "areaCalculada(area)"
   ]
  },
  {
   "cell_type": "markdown",
   "metadata": {},
   "source": [
    "# Cálculo de la amortización de un préstamo"
   ]
  },
  {
   "cell_type": "markdown",
   "metadata": {},
   "source": [
    "A usted lo contrata una entidad financiera para que elabore un programa que calcule la amortización de un préstamo a cuota fija. La fórmula para determinar el valor de la cuota a pagar está dada por:\n",
    "\n",
    "$$R = P \\frac{i(i+1)^n}{(i+1)^n-1}$$"
   ]
  },
  {
   "cell_type": "code",
   "execution_count": null,
   "metadata": {},
   "outputs": [],
   "source": [
    "def entrada():\n",
    "    P = float(input(\"Ingrese el monto del préstamo: \"))\n",
    "    i = float(input(\"Ingrese el valor de la tasa Efectiva Anual (en porcentaje): \"))\n",
    "    n = int(input(\"Ingrese el número de periodos: \"))\n",
    "    return P, i, n\n"
   ]
  },
  {
   "cell_type": "code",
   "execution_count": null,
   "metadata": {},
   "outputs": [],
   "source": [
    "def cuota(P, imv, n):\n",
    "    return P * imv * (imv + 1)** n / ((imv + 1)**n - 1)\n"
   ]
  },
  {
   "cell_type": "code",
   "execution_count": null,
   "metadata": {},
   "outputs": [],
   "source": [
    "def amortizacion(cuota, abonoi):\n",
    "    return cuota - abonoi\n"
   ]
  },
  {
   "cell_type": "code",
   "execution_count": null,
   "metadata": {},
   "outputs": [],
   "source": [
    "def saldof(saldo, amortiz):\n",
    "    return saldo - amortiz\n"
   ]
  },
  {
   "cell_type": "code",
   "execution_count": null,
   "metadata": {},
   "outputs": [],
   "source": [
    "def resultados(n, P, i):\n",
    "    abonoi = []       # almacena los abonos a intereses en cada periodo i\n",
    "    amortiz = []      # almacena los abonos a capital en cada periodo i, o amortización\n",
    "    saldo = []        # almacena saldo en cada periodo i\n",
    "    saldo.append(P)   # primer saldo = Préstamo\n",
    "    abonoi.append(0)\n",
    "    amortiz.append(0)\n",
    "    \n",
    "    cuotai =  cuota(P, i, n)\n",
    "    print(\"#cuota \\t\\t vlr cuota \\t\\t Ab. Capital \\t\\t Ab. Int. \\t\\t Saldo\")\n",
    "    \n",
    "    for j in range(1, n+1):\n",
    "        abonoi.append(saldo[j-1] * i)\n",
    "        amortiz.append(amortizacion(cuotai, abonoi[j]))\n",
    "        saldo.append(saldof(saldo[j-1], amortiz[j]))\n",
    "        print(\"{0} \\t\\t {1:.2f} \\t\\t {2:.2f} \\t\\t {3:.2f} \\t\\t {4:.2f}\".format(j,cuotai,amortiz[j],abonoi[j],saldo[j]))\n"
   ]
  },
  {
   "cell_type": "code",
   "execution_count": null,
   "metadata": {},
   "outputs": [],
   "source": [
    "# Ingreso de los datos\n",
    "P, i, n = entrada()\n",
    "\n",
    "resultados(n, P, i)\n"
   ]
  },
  {
   "cell_type": "markdown",
   "metadata": {},
   "source": [
    "# Conversor Números romanos"
   ]
  },
  {
   "cell_type": "code",
   "execution_count": null,
   "metadata": {},
   "outputs": [],
   "source": [
    "# Versión 1 - Listas\n",
    "\n",
    "import math\n",
    "Unidad=[\"\", \"I\", \"II\", \"III\", \"IV\", \"V\", \"VI\", \"VII\", \"VIII\", \"IX\"]\n",
    "Decena=[\"\", \"X\", \"XX\", \"XXX\", \"XL\", \"L\", \"LX\", \"LXX\", \"LXXX\", \"XC\"]\n",
    "Centena=[\"\", \"C\", \"CC\", \"CCC\", \"CD\", \"D\", \"DC\", \"DCC\", \"DCCC\", \"CM\"]\n",
    "N=int(input(\"Ingresa numero entero\\n\"))\n",
    "u= N % 10\n",
    "d=int(math.floor(N/10))%10\n",
    "c=int(math.floor(N/100))\n",
    "if(N>=100):\n",
    "    print(Centena[c]+Decena[d]+Unidad[u])\n",
    "else:\n",
    "    if(N>=10):\n",
    "        print(Decena[d]+Unidad[u])\n",
    "    else:\n",
    "        print(Unidad[N])"
   ]
  },
  {
   "cell_type": "code",
   "execution_count": null,
   "metadata": {},
   "outputs": [],
   "source": [
    "# Versión 2 - Listas\n",
    "Vn = [1000, 900 , 500, 400 , 100,  90 ,  50,   40,  10,   9 ,  5 ,    4,  1 ]\n",
    "Vc = [\"M\" , \"CM\", \"D\", \"CD\", \"C\", \"XC\", \"L\", \"XL\", \"X\", \"IX\", \"V\", \"IV\", \"I\"]\n",
    "\n",
    "while True:\n",
    "    x = int(input(\"Ingrese un número decimal o 0 para terminar: \"))\n",
    "    \n",
    "    if x == 0:\n",
    "        break\n",
    "    print(str(x) + \":\")\n",
    "    \n",
    "    i = 0\n",
    "    \n",
    "    while x > 0:\n",
    "        if(x>= Vn[i]):\n",
    "            print(str(Vc[i]))\n",
    "            x -= Vn[i]\n",
    "        else:\n",
    "            i += 1"
   ]
  },
  {
   "cell_type": "code",
   "execution_count": null,
   "metadata": {},
   "outputs": [],
   "source": [
    "# Versiom 3 - Diccionarios\n",
    "\n",
    "import math\n",
    "\n",
    "UnidadR=[\"\", \"I\", \"II\", \"III\", \"IV\", \"V\", \"VI\", \"VII\", \"VIII\", \"IX\"]\n",
    "UnidadA=[\"\",  1,    2,    3,     4,   5,    6,    7,      8,     9 ]\n",
    "UnidadD=dict(zip(UnidadA,UnidadR))\n",
    "\n",
    "DecenaR=[\"\", \"X\", \"XX\", \"XXX\", \"XL\", \"L\", \"LX\", \"LXX\", \"LXXX\", \"XC\"]\n",
    "DecenaA=[\"\",  10,  20,   30,    40,   50,  60,    70,   80,     90 ]\n",
    "DecenaD=dict(zip(DecenaA,DecenaR))\n",
    "\n",
    "CentenaR=[\"\", \"C\", \"CC\", \"CCC\", \"CD\", \"D\", \"DC\", \"DCC\", \"DCCC\", \"CM\"]\n",
    "CentenaA=[\"\",  100, 200,  300,   400, 500,  600,  700,   800,    900 ]\n",
    "CentenaD=dict(zip(CentenaA,CentenaR))\n",
    "\n",
    "N = int(input(\"Ingresa numero entero o 0 para terminar: \"))\n",
    "    \n",
    "while N > 0:\n",
    "    \n",
    "    u = N % 10\n",
    "    d = (int(math.floor(N/10))%10) * 10\n",
    "    c = int(math.floor(N/100)) * 100\n",
    "\n",
    "    valorC = CentenaD.get(c)\n",
    "    valorD = DecenaD.get(d)\n",
    "    valorU = UnidadD.get(u)\n",
    "\n",
    "    mod10 = N % 10\n",
    "#    print(mod10)\n",
    "    mod100 = N % 100\n",
    "#    print(mod100)\n",
    "#    print(str(valorC))\n",
    "\n",
    "    if N < 10:\n",
    "        print(str(valorU))\n",
    "    elif mod10 == 0:\n",
    "        print(str(valorD))\n",
    "    elif N > 10 and N <100:\n",
    "        print(str(valorD) + str(valorU))\n",
    "    elif mod100 == 0:\n",
    "        print(str(valorC))\n",
    "    else:\n",
    "        print(str(valorC) + str(valorD) + str(valorU))\n",
    "\n",
    "    N = int(input(\"Ingresa numero entero o 0 para terminar: \"))\n",
    "\n",
    "    if N == 0:\n",
    "        break   "
   ]
  },
  {
   "cell_type": "markdown",
   "metadata": {},
   "source": [
    "# Calculo del seno de un ángulo empleando series"
   ]
  },
  {
   "cell_type": "markdown",
   "metadata": {},
   "source": [
    "Para calcular el coseno de un ángulo empleando series debo emplear la siguiente ecuación:\n",
    "\n",
    "$$sin(x)=\\sum \\limits_{i=0}^{n} \\frac{(-1)^i}{(2i+1)!}x^{2i+1}$$\n",
    "\n",
    "Haciendo uso de las funciones previamente creadas...."
   ]
  },
  {
   "cell_type": "code",
   "execution_count": null,
   "metadata": {},
   "outputs": [],
   "source": [
    "def seno(anguloRad, n):\n",
    "    sin = 0\n",
    "    for i in range(n):\n",
    "        sin += elevarNumero(-1, i) * elevarNumero(anguloRad, 2 * i + 1) / factorial(2 * i + 1)\n",
    "    return sin"
   ]
  },
  {
   "cell_type": "code",
   "execution_count": null,
   "metadata": {},
   "outputs": [],
   "source": [
    "anguloGrad = float(input(\"Ingrese el ángulo en grados: \"))\n",
    "n = int(input(\"ingrese la cantidad de términos de la sumatoria:\" ))\n",
    "\n",
    "senoX = seno(grad2rad(anguloGrad),n)\n",
    "print(\"el valor de cos(\",anguloGrad,\") = \", senoX)"
   ]
  },
  {
   "cell_type": "code",
   "execution_count": null,
   "metadata": {},
   "outputs": [],
   "source": []
  }
 ],
 "metadata": {
  "kernelspec": {
   "display_name": "Python 3",
   "language": "python",
   "name": "python3"
  },
  "language_info": {
   "codemirror_mode": {
    "name": "ipython",
    "version": 3
   },
   "file_extension": ".py",
   "mimetype": "text/x-python",
   "name": "python",
   "nbconvert_exporter": "python",
   "pygments_lexer": "ipython3",
   "version": "3.8.3"
  },
  "toc": {
   "base_numbering": 1,
   "nav_menu": {},
   "number_sections": true,
   "sideBar": true,
   "skip_h1_title": false,
   "title_cell": "Table of Contents",
   "title_sidebar": "Contents",
   "toc_cell": false,
   "toc_position": {},
   "toc_section_display": true,
   "toc_window_display": false
  }
 },
 "nbformat": 4,
 "nbformat_minor": 4
}
