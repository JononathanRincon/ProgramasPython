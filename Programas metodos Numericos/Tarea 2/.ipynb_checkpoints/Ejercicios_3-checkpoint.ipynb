{
 "cells": [
  {
   "cell_type": "code",
   "execution_count": 1,
   "metadata": {},
   "outputs": [],
   "source": [
    "import numpy as np               # import the array library\n",
    "import matplotlib.pyplot as plt  # import plotting library"
   ]
  },
  {
   "cell_type": "code",
   "execution_count": 39,
   "metadata": {},
   "outputs": [],
   "source": [
    "# definición de las funciones\n",
    "\n",
    "# Ejercicio A: Cono\n",
    "\"\"\"def f(r):\n",
    "    h = 9\n",
    "    sr = 750\n",
    "    return np.pi * r * np.sqrt(h**2 + r**2) - sr # Ejercicio A: Cono\"\"\"\n",
    "\n",
    "def f(x):\n",
    "    T = 300\n",
    "    P = 1\n",
    "    R = 0.082054\n",
    "    a = 3.592\n",
    "    b = 0.04267\n",
    "    \n",
    "    V0 = R * T / P\n",
    "   \n",
    "    #return (P + a / V**2) * (V - b) - R * T\n",
    "    return x**0.5 - 5\n",
    "    "
   ]
  },
  {
   "cell_type": "code",
   "execution_count": 60,
   "metadata": {},
   "outputs": [],
   "source": [
    "# definición de las derivadas\n",
    "\n",
    "def fp(V):\n",
    "    return (V**3 - 3.592 * V + 0.306541) / V**3 \n",
    "    "
   ]
  },
  {
   "cell_type": "code",
   "execution_count": 20,
   "metadata": {},
   "outputs": [
    {
     "name": "stdout",
     "output_type": "stream",
     "text": [
      "24.6162\n"
     ]
    },
    {
     "name": "stderr",
     "output_type": "stream",
     "text": [
      "C:\\Users\\Lenovo\\Anaconda3\\lib\\site-packages\\ipykernel_launcher.py:17: RuntimeWarning: divide by zero encountered in true_divide\n"
     ]
    },
    {
     "data": {
      "image/png": "[encoded data removed]",
      "text/plain": [
       "<Figure size 432x288 with 1 Axes>"
      ]
     },
     "metadata": {
      "needs_background": "light"
     },
     "output_type": "display_data"
    }
   ],
   "source": [
    "# Gráfica para determinar el intervalo a ser escogido\n",
    "\n",
    "dt = 1.0\n",
    "\n",
    "x = np.arange(0, 30, dt)\n",
    "\n",
    "plt.xlabel (r\"r\")\n",
    "plt.ylabel (r'$f(r)$')\n",
    "plt.title (r'$r$ vs $f(r)$')\n",
    "\n",
    "plt.plot(x, f(x))\n",
    "plt.grid(True)\n",
    "plt.show()"
   ]
  },
  {
   "cell_type": "markdown",
   "metadata": {},
   "source": [
    "# Bisección"
   ]
  },
  {
   "cell_type": "code",
   "execution_count": 21,
   "metadata": {},
   "outputs": [],
   "source": [
    "# Datos de entrada\n",
    "\n",
    "a = 20\n",
    "b = 25\n",
    "tol = 0.000001\n",
    "nmaxiter = 100"
   ]
  },
  {
   "cell_type": "code",
   "execution_count": 22,
   "metadata": {},
   "outputs": [],
   "source": [
    "def biseccion(a,b,tol,maxiter):\n",
    "\n",
    "    icount = 0\n",
    "    errorbis = [abs(b-a)]\n",
    "\n",
    "    print(\"# iter \\t     a \\t\\t     f(a) \\t    b \\t\\t   f(b) \\t     m \\t\\t   f(m) \\t   Error\")\n",
    "\n",
    "    fa = f(a)\n",
    "    fb = f(b)\n",
    "\n",
    "    while errorbis[icount] > tol and icount < nmaxiter:\n",
    "        xm = a + (b-a) / 2\n",
    "        fm = f(xm)\n",
    "        if fa * fm > 0:\n",
    "            a = xm\n",
    "            fa = f(a)\n",
    "        else:\n",
    "            b = xm\n",
    "            fb = f(b)\n",
    "\n",
    "        errorbis.append(abs(b-a))\n",
    "        print(\"{0} \\t {1:.7f} \\t {2:.7f} \\t {3:.7f} \\t {4:.7f} \\t {5:.7f} \\t {6:.7f} \\t {7:.7f}\".format(icount,a,fa,b,fb,xm,fm,errorbis[icount]))\n",
    "\n",
    "        icount += 1\n",
    "\n",
    "    print(\"\")\n",
    "    print(\"El valor aproximado de la raíz, con una tolerancia de {4}, es xm = {0:0.7f}. La función evaluada en ese valor es f({0:0.7f}) = {1:0.7f}, con un Ea = {2:0.7f} y se alcanzó en {3} iteraciones.\".format(xm,fm,errorbis[icount],icount,tol))\n",
    "    print(\"\")\n",
    "    return icount, errorbis\n",
    "        "
   ]
  },
  {
   "cell_type": "code",
   "execution_count": 61,
   "metadata": {
    "scrolled": true
   },
   "outputs": [
    {
     "name": "stdout",
     "output_type": "stream",
     "text": [
      "# iter \t     a \t\t     f(a) \t    b \t\t   f(b) \t     m \t\t   f(m) \t   Error\n",
      "0 \t 22.5000000 \t -1.9995283 \t 25.0000000 \t 0.4845648 \t 22.5000000 \t -1.9995283 \t 5.0000000\n",
      "1 \t 23.7500000 \t -0.7578996 \t 25.0000000 \t 0.4845648 \t 23.7500000 \t -0.7578996 \t 2.5000000\n",
      "2 \t 24.3750000 \t -0.1367639 \t 25.0000000 \t 0.4845648 \t 24.3750000 \t -0.1367639 \t 1.2500000\n",
      "3 \t 24.3750000 \t -0.1367639 \t 24.6875000 \t 0.1738773 \t 24.6875000 \t 0.1738773 \t 0.6250000\n",
      "4 \t 24.3750000 \t -0.1367639 \t 24.5312500 \t 0.0185508 \t 24.5312500 \t 0.0185508 \t 0.3125000\n",
      "5 \t 24.4531250 \t -0.0591080 \t 24.5312500 \t 0.0185508 \t 24.4531250 \t -0.0591080 \t 0.1562500\n",
      "6 \t 24.4921875 \t -0.0202790 \t 24.5312500 \t 0.0185508 \t 24.4921875 \t -0.0202790 \t 0.0781250\n",
      "7 \t 24.5117188 \t -0.0008642 \t 24.5312500 \t 0.0185508 \t 24.5117188 \t -0.0008642 \t 0.0390625\n",
      "8 \t 24.5117188 \t -0.0008642 \t 24.5214844 \t 0.0088433 \t 24.5214844 \t 0.0088433 \t 0.0195312\n",
      "9 \t 24.5117188 \t -0.0008642 \t 24.5166016 \t 0.0039895 \t 24.5166016 \t 0.0039895 \t 0.0097656\n",
      "10 \t 24.5117188 \t -0.0008642 \t 24.5141602 \t 0.0015627 \t 24.5141602 \t 0.0015627 \t 0.0048828\n",
      "11 \t 24.5117188 \t -0.0008642 \t 24.5129395 \t 0.0003492 \t 24.5129395 \t 0.0003492 \t 0.0024414\n",
      "12 \t 24.5123291 \t -0.0002575 \t 24.5129395 \t 0.0003492 \t 24.5123291 \t -0.0002575 \t 0.0012207\n",
      "13 \t 24.5123291 \t -0.0002575 \t 24.5126343 \t 0.0000459 \t 24.5126343 \t 0.0000459 \t 0.0006104\n",
      "14 \t 24.5124817 \t -0.0001058 \t 24.5126343 \t 0.0000459 \t 24.5124817 \t -0.0001058 \t 0.0003052\n",
      "15 \t 24.5125580 \t -0.0000300 \t 24.5126343 \t 0.0000459 \t 24.5125580 \t -0.0000300 \t 0.0001526\n",
      "16 \t 24.5125580 \t -0.0000300 \t 24.5125961 \t 0.0000080 \t 24.5125961 \t 0.0000080 \t 0.0000763\n",
      "17 \t 24.5125771 \t -0.0000110 \t 24.5125961 \t 0.0000080 \t 24.5125771 \t -0.0000110 \t 0.0000381\n",
      "18 \t 24.5125866 \t -0.0000015 \t 24.5125961 \t 0.0000080 \t 24.5125866 \t -0.0000015 \t 0.0000191\n",
      "19 \t 24.5125866 \t -0.0000015 \t 24.5125914 \t 0.0000032 \t 24.5125914 \t 0.0000032 \t 0.0000095\n",
      "20 \t 24.5125866 \t -0.0000015 \t 24.5125890 \t 0.0000008 \t 24.5125890 \t 0.0000008 \t 0.0000048\n",
      "21 \t 24.5125878 \t -0.0000003 \t 24.5125890 \t 0.0000008 \t 24.5125878 \t -0.0000003 \t 0.0000024\n",
      "22 \t 24.5125878 \t -0.0000003 \t 24.5125884 \t 0.0000003 \t 24.5125884 \t 0.0000003 \t 0.0000012\n",
      "\n",
      "El valor aproximado de la raíz, con una tolerancia de 1e-06, es xm = 24.5125884. La función evaluada en ese valor es f(24.5125884) = 0.0000003, con un Ea = 0.0000006 y se alcanzó en 23 iteraciones.\n",
      "\n"
     ]
    }
   ],
   "source": [
    "# llama a la función Bisección y devuelve los arreglos para graficar el error\n",
    "icountbis, errorbis = biseccion(a,b,tol,nmaxiter)"
   ]
  },
  {
   "cell_type": "markdown",
   "metadata": {},
   "source": [
    "# Regula Falsi"
   ]
  },
  {
   "cell_type": "code",
   "execution_count": 57,
   "metadata": {},
   "outputs": [],
   "source": [
    "def RF(a,b,tol,maxiter):\n",
    "\n",
    "    icount = 0\n",
    "    errorbis = [abs(b-a)]\n",
    "\n",
    "    print(\"# iter \\t     a \\t\\t     f(a) \\t    b \\t\\t   f(b) \\t     m \\t\\t   f(m) \\t   Error\")\n",
    "\n",
    "    fa = f(a)\n",
    "    fb = f(b)\n",
    "\n",
    "    while errorbis[icount] > tol and icount < nmaxiter:\n",
    "        xm = a - fa * (b-a) / (fb - fa)\n",
    "        fm = f(xm)\n",
    "        if fa * fm > 0:\n",
    "            a = xm\n",
    "            fa = f(a)\n",
    "        else:\n",
    "            b = xm\n",
    "            fb = f(b)\n",
    "\n",
    "        errorbis.append(abs(b-a))\n",
    "        print(\"{0} \\t {1:.7f} \\t {2:.7f} \\t {3:.7f} \\t {4:.7f} \\t {5:.7f} \\t {6:.7f} \\t {7:.7f}\".format(icount,a,fa,b,fb,xm,fm,errorbis[icount]))\n",
    "\n",
    "        icount += 1\n",
    "\n",
    "    print(\"\")\n",
    "    print(\"El valor aproximado de la raíz, con una tolerancia de {4}, es xm = {0:0.7f}. La función evaluada en ese valor es f({0:0.7f}) = {1:0.7f}, con un Ea = {2:0.7f} y se alcanzó en {3} iteraciones.\".format(xm,fm,errorbis[icount],icount,tol))\n",
    "    print(\"\")\n",
    "    return icount, errorbis\n",
    "        "
   ]
  },
  {
   "cell_type": "code",
   "execution_count": 59,
   "metadata": {},
   "outputs": [
    {
     "name": "stdout",
     "output_type": "stream",
     "text": [
      "# iter \t     a \t\t     f(a) \t    b \t\t   f(b) \t     m \t\t   f(m) \t   Error\n",
      "0 \t 24.5119425 \t -0.0006418 \t 25.0000000 \t 0.4845648 \t 24.5119425 \t -0.0006418 \t 5.0000000\n",
      "1 \t 24.5125881 \t -0.0000001 \t 25.0000000 \t 0.4845648 \t 24.5125881 \t -0.0000001 \t 0.4880575\n",
      "2 \t 24.5125881 \t -0.0000000 \t 25.0000000 \t 0.4845648 \t 24.5125881 \t -0.0000000 \t 0.4874119\n",
      "3 \t 24.5125881 \t -0.0000000 \t 25.0000000 \t 0.4845648 \t 24.5125881 \t -0.0000000 \t 0.4874119\n",
      "4 \t 24.5125881 \t -0.0000000 \t 24.5125881 \t 0.0000000 \t 24.5125881 \t 0.0000000 \t 0.4874119\n",
      "\n",
      "El valor aproximado de la raíz, con una tolerancia de 1e-06, es xm = 24.5125881. La función evaluada en ese valor es f(24.5125881) = 0.0000000, con un Ea = 0.0000000 y se alcanzó en 5 iteraciones.\n",
      "\n"
     ]
    }
   ],
   "source": [
    "icount, errorNR = RF(a,b,tol,nmaxiter)"
   ]
  },
  {
   "cell_type": "code",
   "execution_count": 24,
   "metadata": {},
   "outputs": [
    {
     "data": {
      "image/png": "[encoded data removed]",
      "text/plain": [
       "<Figure size 432x288 with 1 Axes>"
      ]
     },
     "metadata": {
      "needs_background": "light"
     },
     "output_type": "display_data"
    }
   ],
   "source": [
    "# Error Plot:\n",
    "\n",
    "dt = 1\n",
    "\n",
    "x = np.arange(0, icount+1, dt)\n",
    "\n",
    "plt.xlabel (r\"x\")\n",
    "plt.ylabel (r'$f(x)$')\n",
    "plt.title (r'$x$ vs $f(x)$')\n",
    "\n",
    "plt.plot(x, errorbis)\n",
    "plt.grid(True)\n",
    "plt.show()"
   ]
  },
  {
   "cell_type": "markdown",
   "metadata": {},
   "source": [
    "# Newton - Raphson"
   ]
  },
  {
   "cell_type": "markdown",
   "metadata": {},
   "source": [
    "$$X_{i+1} = x_i - \\frac{f(x_i) }{f'(x_i)}$$"
   ]
  },
  {
   "cell_type": "code",
   "execution_count": 54,
   "metadata": {},
   "outputs": [],
   "source": [
    "def NR(xi):\n",
    "   \n",
    "    icount = 0\n",
    "    nmaxiter = 100\n",
    "    errorNR = [abs(f(xi))]\n",
    "\n",
    "    print(\"# iter \\t xi \\t   Error\")\n",
    "\n",
    "    xl = a\n",
    "\n",
    "    while errorNR[icount] > tol and icount < nmaxiter:\n",
    "\n",
    "        xi1 = xi - f(xi) / fp(xi)\n",
    "        xi = xi1\n",
    "\n",
    "        errorNR.append(abs(f(xi)))\n",
    "\n",
    "        print(\"{0} \\t {1:.6f} \\t {2:.6f}\".format(icount, xi1, errorNR[icount]))\n",
    "\n",
    "        icount += 1\n",
    "\n",
    "    print(\"\")\n",
    "    print(\"El valor aproximado de la raíz, con una tolerancia de {4}, es xm = {0:0.6f}. La función evaluada en ese valor es f({0:0.6f}) = {1:0.6f}, con un Ea = {2:0.6f} y se alcanzó en {3} iteraciones.\".format(xi,f(xi),errorNR[icount],icount,tol))\n",
    "    print(\"\")\n",
    "    return icount, errorNR\n"
   ]
  },
  {
   "cell_type": "code",
   "execution_count": 55,
   "metadata": {},
   "outputs": [
    {
     "name": "stdout",
     "output_type": "stream",
     "text": [
      "# iter \t xi \t   Error\n",
      "0 \t 24.829326 \t 14.301203\n",
      "1 \t 24.512612 \t 0.314875\n",
      "2 \t 24.512588 \t 0.000024\n",
      "\n",
      "El valor aproximado de la raíz, con una tolerancia de 1e-06, es xm = 24.512588. La función evaluada en ese valor es f(24.512588) = 0.000000, con un Ea = 0.000000 y se alcanzó en 3 iteraciones.\n",
      "\n"
     ]
    }
   ],
   "source": [
    "icount, errorNR = NR(10)"
   ]
  },
  {
   "cell_type": "code",
   "execution_count": 56,
   "metadata": {},
   "outputs": [
    {
     "data": {
      "image/png": "[encoded data removed]",
      "text/plain": [
       "<Figure size 432x288 with 1 Axes>"
      ]
     },
     "metadata": {
      "needs_background": "light"
     },
     "output_type": "display_data"
    }
   ],
   "source": [
    "# Error Plot:\n",
    "\n",
    "dt = 1\n",
    "\n",
    "x = np.arange(0, icount+1, dt)\n",
    "\n",
    "plt.xlabel (r\"x\")\n",
    "plt.ylabel (r'$f(x)$')\n",
    "plt.title (r'$x$ vs $f(x)$')\n",
    "\n",
    "plt.plot(x, errorNR)\n",
    "plt.grid(True)\n",
    "plt.show()"
   ]
  },
  {
   "cell_type": "markdown",
   "metadata": {},
   "source": [
    "# Secante"
   ]
  },
  {
   "cell_type": "code",
   "execution_count": null,
   "metadata": {},
   "outputs": [],
   "source": [
    "def secante(xi):\n",
    "   \n",
    "    icount = 0\n",
    "    nmaxiter = 100\n",
    "    errorNR = [abs(f(xi))]\n",
    "\n",
    "    print(\"# iter \\t xi \\t   Error\")\n",
    "\n",
    "    xl = a\n",
    "\n",
    "    while errorNR[icount] > tol and icount < nmaxiter:\n",
    "\n",
    "        xi1 = xi - f(xi) / fp(xi)\n",
    "        xi = xi1\n",
    "\n",
    "        errorNR.append(abs(f(xi)))\n",
    "\n",
    "        print(\"{0} \\t {1:.6f} \\t {2:.6f}\".format(icount, xi1, errorNR[icount]))\n",
    "\n",
    "        icount += 1\n",
    "\n",
    "    print(\"\")\n",
    "    print(\"El valor aproximado de la raíz, con una tolerancia de {4}, es xm = {0:0.6f}. La función evaluada en ese valor es f({0:0.6f}) = {1:0.6f}, con un Ea = {2:0.6f} y se alcanzó en {3} iteraciones.\".format(xi,f(xi),errorNR[icount],icount,tol))\n",
    "    print(\"\")\n",
    "    return icount, errorNR"
   ]
  }
 ],
 "metadata": {
  "kernelspec": {
   "display_name": "Python 3",
   "language": "python",
   "name": "python3"
  },
  "language_info": {
   "codemirror_mode": {
    "name": "ipython",
    "version": 3
   },
   "file_extension": ".py",
   "mimetype": "text/x-python",
   "name": "python",
   "nbconvert_exporter": "python",
   "pygments_lexer": "ipython3",
   "version": "3.8.3"
  },
  "toc": {
   "base_numbering": 1,
   "nav_menu": {},
   "number_sections": true,
   "sideBar": true,
   "skip_h1_title": false,
   "title_cell": "Table of Contents",
   "title_sidebar": "Contents",
   "toc_cell": false,
   "toc_position": {},
   "toc_section_display": true,
   "toc_window_display": false
  }
 },
 "nbformat": 4,
 "nbformat_minor": 4
}
