{
 "cells": [
  {
   "cell_type": "markdown",
   "metadata": {},
   "source": [
    "# Ejercicio 2.A"
   ]
  },
  {
   "cell_type": "markdown",
   "metadata": {},
   "source": [
    "A. $f(x)=sin(x)$, centrado en $x=5 \\pi / 6$\n",
    "\n",
    "B. $f(x) = e^{x^2}$, centrado en $x=0$\n",
    "\n",
    "C. $f(x)=\\sqrt{1+x}$, centrado en $x=0$\n",
    "\n",
    "D. $f(x)=\\frac{1}{2-x}$, centrado en $x=0$\n",
    "\n",
    "E. $f(x)=e^{-2x}$, centrado en $x=0$"
   ]
  },
  {
   "cell_type": "code",
   "execution_count": null,
   "metadata": {},
   "outputs": [],
   "source": [
    "def funcion(x):\n",
    "    funcion = [np.sin(x), np.cos(x), -np.sin(x), -np.cos(x), np.sin(x), np.cos(x)]\n",
    "    return np.sin(x)\n",
    "    # return np.exp(x ** 2)\n",
    "    # return np.sqrt(1 + x)\n",
    "    # return 1/(2 - x)\n",
    "    # return np.exp(-2*x)"
   ]
  },
  {
   "cell_type": "code",
   "execution_count": null,
   "metadata": {},
   "outputs": [],
   "source": [
    "def derivada1(x):\n",
    "    return np.cos(x)\n",
    "    # return 2 * np.exp(x ** 2) * x\n",
    "    # return 1 / (2 * np.sqrt(1 + x))\n",
    "    # return 1 / (2 - x) ** 2\n",
    "    # return -2 * np.exp(-2 * x)\n"
   ]
  },
  {
   "cell_type": "code",
   "execution_count": null,
   "metadata": {},
   "outputs": [],
   "source": [
    "def derivada2(x):\n",
    "    return -np.sin(x)\n",
    "    # return 2 * np.exp(x ** 2) * (2 * x ** 2 +1)\n",
    "    # return 1 / (2 * np.sqrt(1 + x))\n",
    "    # return 1 / (2 - x) ** 2\n",
    "    # return -2 * np.exp(-2 * x)\n"
   ]
  },
  {
   "cell_type": "code",
   "execution_count": null,
   "metadata": {},
   "outputs": [],
   "source": [
    "def derivada3(x):\n",
    "    #return -np.cos(x)\n",
    "    # return 4 * np.exp(x ** 2) * x * (2 * x**2 + 3)\n",
    "     return 1 / (2 * np.sqrt(1 + x))\n",
    "    # return 1 / (2 - x) ** 2\n",
    "    # return -2 * np.exp(-2 * x)\n"
   ]
  },
  {
   "cell_type": "code",
   "execution_count": null,
   "metadata": {},
   "outputs": [],
   "source": [
    "def derivada4(x):\n",
    "    return np.sin(x)\n",
    "    # return 4 * np.exp(x ** 2) * (4 * x**4 + 12 * x**2 + 3)\n",
    "    # return 1 / (2 * np.sqrt(1 + x))\n",
    "    # return 1 / (2 - x) ** 2\n",
    "    # return -2 * np.exp(-2 * x)\n"
   ]
  },
  {
   "cell_type": "code",
   "execution_count": null,
   "metadata": {},
   "outputs": [],
   "source": [
    "\n",
    "def derivada5(x):\n",
    "    return np.cos(x)\n",
    "    # return 8 * np.exp(x ** 2) * x * (4 * x**4 + 20 * x**2 + 15)\n",
    "    # return 1 / (2 * np.sqrt(1 + x))\n",
    "    # return 1 / (2 - x) ** 2\n",
    "    # return -2 * np.exp(-2 * x)\n"
   ]
  },
  {
   "cell_type": "code",
   "execution_count": null,
   "metadata": {},
   "outputs": [],
   "source": [
    "#funcion = [np.sin(x), np.cos(x), -np.sin(x), -np.cos(x), np.sin(x), np.cos(x)]"
   ]
  },
  {
   "cell_type": "markdown",
   "metadata": {},
   "source": [
    "## Taylor Series:\n",
    "\n",
    "$$f(x_{i+1}) \\approx f(x_i) + \\frac{f'(x_i)}{1!}h+\\frac{f''(x_i)}{2!}h^2+\\frac{f'''(x_i)}{3!}h^3+ \\ldots+\\frac{f^{(n)}(x_i)}{n!}h^n+R_n$$\n",
    "\n",
    "En una notación más compacta (sumatoria)\n",
    "\n",
    "$$\\sum \\limits_{n=0}^{\\infty}\\frac{f^{(n)}(x_i)}{n!}h^n+R_n$$\n",
    "\n",
    "donde $f^{(n)}(x_i)$ denota la $n$-ésima derivada evaluada en el punto $x_i$ y el término residual es:\n",
    "\n",
    "$$R_n=\\frac{f^{(n+1)}(\\xi)}{(n+1)!}h^{(n+1)}$$"
   ]
  },
  {
   "cell_type": "code",
   "execution_count": null,
   "metadata": {},
   "outputs": [],
   "source": [
    "import numpy as np\n",
    "from sympy import *\n",
    "init_printing(use_latex='mathjax')"
   ]
  },
  {
   "cell_type": "code",
   "execution_count": null,
   "metadata": {},
   "outputs": [],
   "source": [
    "# Ingreso de los datos\n",
    "\n",
    "x = 0  #float(input(\"ingrese el punto a evaluar: \"))\n",
    "n = 5  #int(input(\"ingrese la cantidad de términos de la serie: \"))\n",
    "h = 1  #float(input(\"ingrese el valor del tamaño del paso: \"))"
   ]
  },
  {
   "cell_type": "code",
   "execution_count": null,
   "metadata": {},
   "outputs": [],
   "source": [
    "funcion = -0.1 * x**4 - 0.15 * x**3 - 0.5 * x**2 - 0.25 * x + 1.2\n",
    "derivada1 = -0.25 - x - 0.45 * x**2 - 0.4 * x**3\n",
    "derivada2 = -1 - 0.9 * x - 1.2 * x**2\n",
    "derivada3 = -0.9 - 2.4 * x\n",
    "derivada4 = -2.4\n",
    "derivada5 = 0\n",
    "\n",
    "f = [funcion, derivada1, derivada2, derivada3, derivada4, derivada5]\n",
    "\n",
    "terminoi = 0\n",
    "st = []\n",
    "sti = 0\n",
    "\n",
    "for i in range(n):\n",
    "    #print(\"f[{0}] = {1:2.6f}\".format(i,f[i]))\n",
    "    terminoi += f[i] * h**i / np.math.factorial(i)\n",
    "    st.append(sti)\n",
    "    #error.append(f[i+1] * h**(i+1) / np.math.factorial(i+1))\n",
    "    error = f[i+1] * h**(i+1) / np.math.factorial(i+1)\n",
    "    print(\"La aproximación de la serie de Taylor con n = {0} es {1:2.6f} y el error es {2:2.6f}\".format(i, terminoi, error))\n"
   ]
  },
  {
   "cell_type": "code",
   "execution_count": null,
   "metadata": {},
   "outputs": [],
   "source": [
    "import numpy as np\n",
    "\n",
    "# Ingreso de los datos\n",
    "pi = 3.14159265359\n",
    "x = 4 * pi / 6\n",
    "n = 5     \n",
    "h = pi / 6     \n",
    "\n",
    "funcion   =  np.sin(x)\n",
    "derivada1 =  np.cos(x)\n",
    "derivada2 = -np.sin(x)\n",
    "derivada3 = -np.cos(x)\n",
    "derivada4 =  np.sin(x)\n",
    "derivada5 =  np.cos(x)\n",
    "derivadae = -np.sin(x)\n",
    "\n",
    "f = [funcion, derivada1, derivada2, derivada3, derivada4, derivada5, derivadae]\n",
    "\n",
    "terminoi = 0\n",
    "\n",
    "for i in range(n+1):\n",
    "    terminoi += f[i] * h**i / np.math.factorial(i)\n",
    "    error = f[i+1] * h**(i+1) / np.math.factorial(i+1)\n",
    "    print(\"La aproximación de la serie de Taylor con n = {0} es {1:2.6f} y el error es {2:2.6f}\".format(i, terminoi, error))\n"
   ]
  },
  {
   "cell_type": "markdown",
   "metadata": {},
   "source": [
    "Otra forma"
   ]
  },
  {
   "cell_type": "code",
   "execution_count": 11,
   "metadata": {},
   "outputs": [
    {
     "name": "stdout",
     "output_type": "stream",
     "text": [
      "La aproximación de la serie de Taylor con n = 0 es 0.866025 y el error es -0.261799\n",
      "La aproximación de la serie de Taylor con n = 1 es 0.604226 y el error es -0.118713\n",
      "La aproximación de la serie de Taylor con n = 2 es 0.485513 y el error es 0.011962\n",
      "La aproximación de la serie de Taylor con n = 3 es 0.497475 y el error es 0.002712\n",
      "La aproximación de la serie de Taylor con n = 4 es 0.500188 y el error es -0.000164\n",
      "La aproximación de la serie de Taylor con n = 5 es 0.500024 y el error es -0.000025\n"
     ]
    }
   ],
   "source": [
    "import numpy as np\n",
    "\n",
    "# Ingreso de los datos\n",
    "pi = 3.14159265359\n",
    "x = 4 * pi / 6\n",
    "n = 5     \n",
    "h = pi / 6     \n",
    "\n",
    "def funciones(x):\n",
    "    funcion   =  np.sin(x)\n",
    "    derivada1 =  np.cos(x)\n",
    "    derivada2 = -np.sin(x)\n",
    "    derivada3 = -np.cos(x)\n",
    "    derivada4 =  np.sin(x)\n",
    "    derivada5 =  np.cos(x)\n",
    "    derivadae = -np.sin(x)\n",
    "\n",
    "    funcs = [funcion, derivada1, derivada2, derivada3, derivada4, derivada5, derivadae]\n",
    "    \n",
    "    return funcs\n",
    "\n",
    "f = funciones(x)\n",
    "\n",
    "terminoi = 0\n",
    "\n",
    "for i in range(n+1):\n",
    "    terminoi += f[i] * h**i / np.math.factorial(i)\n",
    "    error = f[i+1] * h**(i+1) / np.math.factorial(i+1)\n",
    "    print(\"La aproximación de la serie de Taylor con n = {0} es {1:2.6f} y el error es {2:2.6f}\".format(i, terminoi, error))\n",
    "\n"
   ]
  },
  {
   "cell_type": "code",
   "execution_count": null,
   "metadata": {},
   "outputs": [],
   "source": []
  },
  {
   "cell_type": "code",
   "execution_count": null,
   "metadata": {},
   "outputs": [],
   "source": []
  },
  {
   "cell_type": "code",
   "execution_count": null,
   "metadata": {},
   "outputs": [],
   "source": []
  },
  {
   "cell_type": "code",
   "execution_count": 1,
   "metadata": {},
   "outputs": [],
   "source": [
    "import numpy as np\n",
    "from sympy import *\n",
    "import matplotlib.pyplot as plt"
   ]
  },
  {
   "cell_type": "code",
   "execution_count": 2,
   "metadata": {},
   "outputs": [],
   "source": [
    "# Defino las variables presentes en la Serieexce\n",
    "x, h = symbols('x h')"
   ]
  },
  {
   "cell_type": "code",
   "execution_count": 3,
   "metadata": {},
   "outputs": [],
   "source": [
    "derivada0 = sin(x)"
   ]
  },
  {
   "cell_type": "code",
   "execution_count": 4,
   "metadata": {},
   "outputs": [
    {
     "data": {
      "text/plain": [
       "cos"
      ]
     },
     "execution_count": 4,
     "metadata": {},
     "output_type": "execute_result"
    }
   ],
   "source": [
    "derivada1 = diff(derivada0, x)\n",
    "type(derivada1)"
   ]
  },
  {
   "cell_type": "code",
   "execution_count": 5,
   "metadata": {},
   "outputs": [],
   "source": [
    "derivada2 = diff(derivada1, x)"
   ]
  },
  {
   "cell_type": "code",
   "execution_count": 6,
   "metadata": {},
   "outputs": [],
   "source": [
    "derivada3 = diff(derivada2 , x)"
   ]
  },
  {
   "cell_type": "code",
   "execution_count": 7,
   "metadata": {},
   "outputs": [],
   "source": [
    "derivada4 = diff(derivada3, x)"
   ]
  },
  {
   "cell_type": "code",
   "execution_count": 8,
   "metadata": {},
   "outputs": [],
   "source": [
    "derivada5 = diff(derivada4, x)"
   ]
  },
  {
   "cell_type": "code",
   "execution_count": 9,
   "metadata": {},
   "outputs": [
    {
     "name": "stdout",
     "output_type": "stream",
     "text": [
      "sin(x)\n",
      "derivada0\n",
      "0\n",
      "sin(x)\n",
      "derivada1\n",
      "0\n",
      "sin(x)\n",
      "derivada2\n",
      "0\n",
      "sin(x)\n",
      "derivada3\n",
      "0\n",
      "sin(x)\n",
      "derivada4\n",
      "0\n",
      "sin(x)\n"
     ]
    }
   ],
   "source": [
    "ST = derivada0\n",
    "print(ST)\n",
    "\n",
    "for i in range(0,5):\n",
    "    txt = \"derivada\" + str(i)\n",
    "    print(txt)\n",
    "    derivadai = diff(txt,x)\n",
    "    print(derivadai)\n",
    "    \n",
    "    ST += derivadai\n",
    "    print(ST)\n",
    "\n",
    "#ST = funcion + derivada1*h + derivada2*h**2/np.math.factorial(2) + derivada3*h**3/np.math.factorial(3) + derivada4*h**4/np.math.factorial(4) + derivada5*h**5/np.math.factorial(5)\n",
    "#print(ST)"
   ]
  },
  {
   "cell_type": "code",
   "execution_count": null,
   "metadata": {},
   "outputs": [],
   "source": [
    "ST1 = ST.subs(h,1)\n",
    "print(ST1)"
   ]
  },
  {
   "cell_type": "code",
   "execution_count": null,
   "metadata": {},
   "outputs": [],
   "source": [
    "lista = list(np.arange(0, 5, .1))\n",
    "derivada2i = []\n",
    "\n",
    "for i in lista:\n",
    "    tmp = derivada1.subs(x,i).evalf()\n",
    "    derivada2i.append(tmp)"
   ]
  },
  {
   "cell_type": "code",
   "execution_count": null,
   "metadata": {},
   "outputs": [],
   "source": [
    "plt.xlabel (r\"x\")\n",
    "plt.ylabel (r'$f(x)$')\n",
    "plt.title (r'$x$ vs $f(x)$')\n",
    "\n",
    "plt.plot(lista, derivada2i)\n",
    "plt.grid(True)\n",
    "plt.show()"
   ]
  },
  {
   "cell_type": "code",
   "execution_count": null,
   "metadata": {},
   "outputs": [],
   "source": [
    "derivada1 = \"diff(derivada\" + str(2) + \",x)\"\n",
    "print(derivada1)"
   ]
  },
  {
   "cell_type": "code",
   "execution_count": null,
   "metadata": {},
   "outputs": [],
   "source": []
  }
 ],
 "metadata": {
  "kernelspec": {
   "display_name": "Python 3",
   "language": "python",
   "name": "python3"
  },
  "language_info": {
   "codemirror_mode": {
    "name": "ipython",
    "version": 3
   },
   "file_extension": ".py",
   "mimetype": "text/x-python",
   "name": "python",
   "nbconvert_exporter": "python",
   "pygments_lexer": "ipython3",
   "version": "3.8.3"
  },
  "toc": {
   "base_numbering": 1,
   "nav_menu": {},
   "number_sections": true,
   "sideBar": true,
   "skip_h1_title": false,
   "title_cell": "Table of Contents",
   "title_sidebar": "Contents",
   "toc_cell": false,
   "toc_position": {},
   "toc_section_display": true,
   "toc_window_display": false
  }
 },
 "nbformat": 4,
 "nbformat_minor": 4
}
