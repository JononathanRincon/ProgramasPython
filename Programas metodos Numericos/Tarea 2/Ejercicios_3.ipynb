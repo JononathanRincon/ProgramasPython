{
 "cells": [
  {
   "cell_type": "code",
   "execution_count": 1,
   "metadata": {},
   "outputs": [],
   "source": [
    "import numpy as np               # import the array library\n",
    "import matplotlib.pyplot as plt  # import plotting library"
   ]
  },
  {
   "cell_type": "code",
   "execution_count": 2,
   "metadata": {},
   "outputs": [],
   "source": [
    "# definición de las funciones\n",
    "\n",
    "# Ejercicio A: Cono\n",
    "\"\"\"def f(r):\n",
    "    h = 9\n",
    "    sr = 750\n",
    "    return np.pi * r * np.sqrt(h**2 + r**2) - sr # Ejercicio A: Cono\"\"\"\n",
    "\n",
    "def f(x):\n",
    "    T = 300\n",
    "    P = 1\n",
    "    R = 0.082054\n",
    "    a = 3.592\n",
    "    b = 0.04267\n",
    "    \n",
    "    V0 = R * T / P\n",
    "   \n",
    "    #return (P + a / V**2) * (V - b) - R * T\n",
    "    return x**0.5 - 5\n",
    "    "
   ]
  },
  {
   "cell_type": "code",
   "execution_count": 3,
   "metadata": {},
   "outputs": [],
   "source": [
    "# definición de las derivadas\n",
    "\n",
    "def fp(V):\n",
    "    return (V**3 - 3.592 * V + 0.306541) / V**3 \n",
    "    "
   ]
  },
  {
   "cell_type": "code",
   "execution_count": 4,
   "metadata": {},
   "outputs": [
    {
     "data": {
      "image/png": "[encoded data removed]",
      "text/plain": [
       "<Figure size 432x288 with 1 Axes>"
      ]
     },
     "metadata": {
      "needs_background": "light"
     },
     "output_type": "display_data"
    }
   ],
   "source": [
    "# Gráfica para determinar el intervalo a ser escogido\n",
    "\n",
    "dt = 1.0\n",
    "\n",
    "x = np.arange(0, 30, dt)\n",
    "\n",
    "plt.xlabel (r\"r\")\n",
    "plt.ylabel (r'$f(r)$')\n",
    "plt.title (r'$r$ vs $f(r)$')\n",
    "\n",
    "plt.plot(x, f(x))\n",
    "plt.grid(True)\n",
    "plt.show()"
   ]
  },
  {
   "cell_type": "markdown",
   "metadata": {},
   "source": [
    "# Bisección"
   ]
  },
  {
   "cell_type": "code",
   "execution_count": 5,
   "metadata": {},
   "outputs": [],
   "source": [
    "# Datos de entrada\n",
    "\n",
    "a = 0\n",
    "b = 2\n",
    "tol = 0.000001\n",
    "nmaxiter = 100"
   ]
  },
  {
   "cell_type": "code",
   "execution_count": 12,
   "metadata": {},
   "outputs": [],
   "source": [
    "def biseccion(a,b,tol,maxiter):\n",
    "\n",
    "    icount = 0\n",
    "    errorbis = [abs(b-a)]\n",
    "\n",
    "    print(\"# iter \\t     a \\t\\t     f(a) \\t    b \\t\\t   f(b) \\t     m \\t\\t   f(m) \\t   Error\")\n",
    "\n",
    "    fa = f(a)\n",
    "    fb = f(b)\n",
    "\n",
    "    while errorbis[icount] > tol and icount < nmaxiter:\n",
    "        xm = a + (b-a) / 2\n",
    "        fm = f(xm)\n",
    "        if fa * fm > 0:\n",
    "            a = xm\n",
    "            fa = f(a)\n",
    "        else:\n",
    "            b = xm\n",
    "            fb = f(b)\n",
    "\n",
    "        errorbis.append(abs(b-a))\n",
    "        print(\"{0} \\t {1:.7f} \\t {2:.7f} \\t {3:.7f} \\t {4:.7f} \\t {5:.7f} \\t {6:.7f} \\t {7:.7f}\".format(icount,a,fa,b,fb,xm,fm,errorbis[icount]))\n",
    "\n",
    "        icount += 1\n",
    "\n",
    "    print(\"\")\n",
    "    print(\"El valor aproximado de la raíz, con una tolerancia de {4}, es xm = {0:0.2f}. La función evaluada en ese valor es f({0:0.2f}) = {1:0.2f}, con un Ea = {2:0.2f} y se alcanzó en {3} iteraciones.\".format(xm,fm,errorbis[icount],icount,tol))\n",
    "    print(\"\")\n",
    "    return icount, errorbis\n",
    "    \n",
    "    "
   ]
  },
  {
   "cell_type": "code",
   "execution_count": 14,
   "metadata": {
    "scrolled": true
   },
   "outputs": [
    {
     "name": "stdout",
     "output_type": "stream",
     "text": [
      "# iter \t     a \t\t     f(a) \t    b \t\t   f(b) \t     m \t\t   f(m) \t   Error\n",
      "0 \t 1.0000000 \t -4.0000000 \t 2.0000000 \t -3.5857864 \t 1.0000000 \t -4.0000000 \t 2.0000000\n",
      "1 \t 1.5000000 \t -3.7752551 \t 2.0000000 \t -3.5857864 \t 1.5000000 \t -3.7752551 \t 1.0000000\n",
      "2 \t 1.7500000 \t -3.6771243 \t 2.0000000 \t -3.5857864 \t 1.7500000 \t -3.6771243 \t 0.5000000\n",
      "3 \t 1.8750000 \t -3.6306936 \t 2.0000000 \t -3.5857864 \t 1.8750000 \t -3.6306936 \t 0.2500000\n",
      "4 \t 1.9375000 \t -3.6080589 \t 2.0000000 \t -3.5857864 \t 1.9375000 \t -3.6080589 \t 0.1250000\n",
      "5 \t 1.9687500 \t -3.5968785 \t 2.0000000 \t -3.5857864 \t 1.9687500 \t -3.5968785 \t 0.0625000\n",
      "6 \t 1.9843750 \t -3.5913215 \t 2.0000000 \t -3.5857864 \t 1.9843750 \t -3.5913215 \t 0.0312500\n",
      "7 \t 1.9921875 \t -3.5885513 \t 2.0000000 \t -3.5857864 \t 1.9921875 \t -3.5885513 \t 0.0156250\n",
      "8 \t 1.9960938 \t -3.5871682 \t 2.0000000 \t -3.5857864 \t 1.9960938 \t -3.5871682 \t 0.0078125\n",
      "9 \t 1.9980469 \t -3.5864771 \t 2.0000000 \t -3.5857864 \t 1.9980469 \t -3.5864771 \t 0.0039062\n",
      "10 \t 1.9990234 \t -3.5861317 \t 2.0000000 \t -3.5857864 \t 1.9990234 \t -3.5861317 \t 0.0019531\n",
      "11 \t 1.9995117 \t -3.5859591 \t 2.0000000 \t -3.5857864 \t 1.9995117 \t -3.5859591 \t 0.0009766\n",
      "12 \t 1.9997559 \t -3.5858728 \t 2.0000000 \t -3.5857864 \t 1.9997559 \t -3.5858728 \t 0.0004883\n",
      "13 \t 1.9998779 \t -3.5858296 \t 2.0000000 \t -3.5857864 \t 1.9998779 \t -3.5858296 \t 0.0002441\n",
      "14 \t 1.9999390 \t -3.5858080 \t 2.0000000 \t -3.5857864 \t 1.9999390 \t -3.5858080 \t 0.0001221\n",
      "15 \t 1.9999695 \t -3.5857972 \t 2.0000000 \t -3.5857864 \t 1.9999695 \t -3.5857972 \t 0.0000610\n",
      "16 \t 1.9999847 \t -3.5857918 \t 2.0000000 \t -3.5857864 \t 1.9999847 \t -3.5857918 \t 0.0000305\n",
      "17 \t 1.9999924 \t -3.5857891 \t 2.0000000 \t -3.5857864 \t 1.9999924 \t -3.5857891 \t 0.0000153\n",
      "18 \t 1.9999962 \t -3.5857878 \t 2.0000000 \t -3.5857864 \t 1.9999962 \t -3.5857878 \t 0.0000076\n",
      "19 \t 1.9999981 \t -3.5857871 \t 2.0000000 \t -3.5857864 \t 1.9999981 \t -3.5857871 \t 0.0000038\n",
      "20 \t 1.9999990 \t -3.5857868 \t 2.0000000 \t -3.5857864 \t 1.9999990 \t -3.5857868 \t 0.0000019\n",
      "\n",
      "El valor aproximado de la raíz, con una tolerancia de 1e-06, es xm = 2.00. La función evaluada en ese valor es f(2.00) = -3.59, con un Ea = 0.00 y se alcanzó en 21 iteraciones.\n",
      "\n"
     ]
    }
   ],
   "source": [
    "# llama a la función Bisección y devuelve los arreglos para graficar el error\n",
    "icountbis, errorbis = biseccion(a,b,tol,nmaxiter)"
   ]
  },
  {
   "cell_type": "markdown",
   "metadata": {},
   "source": [
    "# Regula Falsi"
   ]
  },
  {
   "cell_type": "code",
   "execution_count": 8,
   "metadata": {},
   "outputs": [],
   "source": [
    "def RF(a,b,tol,maxiter):\n",
    "\n",
    "    icount = 0\n",
    "    errorbis = [abs(b-a)]\n",
    "\n",
    "    print(\"# iter \\t     a \\t\\t     f(a) \\t    b \\t\\t   f(b) \\t     m \\t\\t   f(m) \\t   Error\")\n",
    "\n",
    "    fa = f(a)\n",
    "    fb = f(b)\n",
    "\n",
    "    while errorbis[icount] > tol and icount < nmaxiter:\n",
    "        xm = a - fa * (b-a) / (fb - fa)\n",
    "        fm = f(xm)\n",
    "        if fa * fm > 0:\n",
    "            a = xm\n",
    "            fa = f(a)\n",
    "        else:\n",
    "            b = xm\n",
    "            fb = f(b)\n",
    "\n",
    "        errorbis.append(abs(b-a))\n",
    "        print(\"{0} \\t {1:.7f} \\t {2:.7f} \\t {3:.7f} \\t {4:.7f} \\t {5:.7f} \\t {6:.7f} \\t {7:.7f}\".format(icount,a,fa,b,fb,xm,fm,errorbis[icount]))\n",
    "\n",
    "        icount += 1\n",
    "\n",
    "    print(\"\")\n",
    "    print(\"El valor aproximado de la raíz, con una tolerancia de {4}, es xm = {0:0.7f}. La función evaluada en ese valor es f({0:0.7f}) = {1:0.7f}, con un Ea = {2:0.7f} y se alcanzó en {3} iteraciones.\".format(xm,fm,errorbis[icount],icount,tol))\n",
    "    print(\"\")\n",
    "    return icount, errorbis\n",
    "        "
   ]
  },
  {
   "cell_type": "code",
   "execution_count": 9,
   "metadata": {},
   "outputs": [
    {
     "name": "stdout",
     "output_type": "stream",
     "text": [
      "# iter \t     a \t\t     f(a) \t    b \t\t   f(b) \t     m \t\t   f(m) \t   Error\n",
      "0 \t 7.0710678 \t -2.3408521 \t 2.0000000 \t -3.5857864 \t 7.0710678 \t -2.3408521 \t 2.0000000\n",
      "1 \t 16.6062045 \t -0.9249289 \t 2.0000000 \t -3.5857864 \t 16.6062045 \t -0.9249289 \t 5.0710678\n",
      "2 \t 21.6834025 \t -0.3434559 \t 2.0000000 \t -3.5857864 \t 21.6834025 \t -0.3434559 \t 14.6062045\n",
      "3 \t 23.7684403 \t -0.1247113 \t 2.0000000 \t -3.5857864 \t 23.7684403 \t -0.1247113 \t 19.6834025\n",
      "4 \t 24.5528121 \t -0.0449206 \t 2.0000000 \t -3.5857864 \t 24.5528121 \t -0.0449206 \t 21.7684403\n",
      "5 \t 24.8389244 \t -0.0161336 \t 2.0000000 \t -3.5857864 \t 24.8389244 \t -0.0161336 \t 22.5528121\n",
      "6 \t 24.9421484 \t -0.0057885 \t 2.0000000 \t -3.5857864 \t 24.9421484 \t -0.0057885 \t 22.8389244\n",
      "7 \t 24.9792436 \t -0.0020761 \t 2.0000000 \t -3.5857864 \t 24.9792436 \t -0.0020761 \t 22.9421484\n",
      "8 \t 24.9925557 \t -0.0007445 \t 2.0000000 \t -3.5857864 \t 24.9925557 \t -0.0007445 \t 22.9792436\n",
      "9 \t 24.9973304 \t -0.0002670 \t 2.0000000 \t -3.5857864 \t 24.9973304 \t -0.0002670 \t 22.9925557\n",
      "10 \t 24.9990427 \t -0.0000957 \t 2.0000000 \t -3.5857864 \t 24.9990427 \t -0.0000957 \t 22.9973304\n",
      "11 \t 24.9996567 \t -0.0000343 \t 2.0000000 \t -3.5857864 \t 24.9996567 \t -0.0000343 \t 22.9990427\n",
      "12 \t 24.9998769 \t -0.0000123 \t 2.0000000 \t -3.5857864 \t 24.9998769 \t -0.0000123 \t 22.9996567\n",
      "13 \t 24.9999559 \t -0.0000044 \t 2.0000000 \t -3.5857864 \t 24.9999559 \t -0.0000044 \t 22.9998769\n",
      "14 \t 24.9999842 \t -0.0000016 \t 2.0000000 \t -3.5857864 \t 24.9999842 \t -0.0000016 \t 22.9999559\n",
      "15 \t 24.9999943 \t -0.0000006 \t 2.0000000 \t -3.5857864 \t 24.9999943 \t -0.0000006 \t 22.9999842\n",
      "16 \t 24.9999980 \t -0.0000002 \t 2.0000000 \t -3.5857864 \t 24.9999980 \t -0.0000002 \t 22.9999943\n",
      "17 \t 24.9999993 \t -0.0000001 \t 2.0000000 \t -3.5857864 \t 24.9999993 \t -0.0000001 \t 22.9999980\n",
      "18 \t 24.9999997 \t -0.0000000 \t 2.0000000 \t -3.5857864 \t 24.9999997 \t -0.0000000 \t 22.9999993\n",
      "19 \t 24.9999999 \t -0.0000000 \t 2.0000000 \t -3.5857864 \t 24.9999999 \t -0.0000000 \t 22.9999997\n",
      "20 \t 25.0000000 \t -0.0000000 \t 2.0000000 \t -3.5857864 \t 25.0000000 \t -0.0000000 \t 22.9999999\n",
      "21 \t 25.0000000 \t -0.0000000 \t 2.0000000 \t -3.5857864 \t 25.0000000 \t -0.0000000 \t 23.0000000\n",
      "22 \t 25.0000000 \t -0.0000000 \t 2.0000000 \t -3.5857864 \t 25.0000000 \t -0.0000000 \t 23.0000000\n",
      "23 \t 25.0000000 \t -0.0000000 \t 2.0000000 \t -3.5857864 \t 25.0000000 \t -0.0000000 \t 23.0000000\n",
      "24 \t 25.0000000 \t -0.0000000 \t 2.0000000 \t -3.5857864 \t 25.0000000 \t -0.0000000 \t 23.0000000\n",
      "25 \t 25.0000000 \t -0.0000000 \t 2.0000000 \t -3.5857864 \t 25.0000000 \t -0.0000000 \t 23.0000000\n",
      "26 \t 25.0000000 \t -0.0000000 \t 2.0000000 \t -3.5857864 \t 25.0000000 \t -0.0000000 \t 23.0000000\n",
      "27 \t 25.0000000 \t -0.0000000 \t 2.0000000 \t -3.5857864 \t 25.0000000 \t -0.0000000 \t 23.0000000\n",
      "28 \t 25.0000000 \t -0.0000000 \t 2.0000000 \t -3.5857864 \t 25.0000000 \t -0.0000000 \t 23.0000000\n",
      "29 \t 25.0000000 \t -0.0000000 \t 2.0000000 \t -3.5857864 \t 25.0000000 \t -0.0000000 \t 23.0000000\n",
      "30 \t 25.0000000 \t -0.0000000 \t 2.0000000 \t -3.5857864 \t 25.0000000 \t -0.0000000 \t 23.0000000\n",
      "31 \t 25.0000000 \t -0.0000000 \t 2.0000000 \t -3.5857864 \t 25.0000000 \t -0.0000000 \t 23.0000000\n",
      "32 \t 25.0000000 \t -0.0000000 \t 2.0000000 \t -3.5857864 \t 25.0000000 \t -0.0000000 \t 23.0000000\n",
      "33 \t 25.0000000 \t -0.0000000 \t 2.0000000 \t -3.5857864 \t 25.0000000 \t -0.0000000 \t 23.0000000\n",
      "34 \t 25.0000000 \t -0.0000000 \t 2.0000000 \t -3.5857864 \t 25.0000000 \t -0.0000000 \t 23.0000000\n",
      "35 \t 25.0000000 \t -0.0000000 \t 2.0000000 \t -3.5857864 \t 25.0000000 \t -0.0000000 \t 23.0000000\n",
      "36 \t 25.0000000 \t -0.0000000 \t 25.0000000 \t 0.0000000 \t 25.0000000 \t 0.0000000 \t 23.0000000\n",
      "\n",
      "El valor aproximado de la raíz, con una tolerancia de 1e-06, es xm = 25.0000000. La función evaluada en ese valor es f(25.0000000) = 0.0000000, con un Ea = 0.0000000 y se alcanzó en 37 iteraciones.\n",
      "\n"
     ]
    }
   ],
   "source": [
    "icount, errorNR = RF(a,b,tol,nmaxiter)"
   ]
  },
  {
   "cell_type": "code",
   "execution_count": 10,
   "metadata": {},
   "outputs": [
    {
     "ename": "ValueError",
     "evalue": "x and y must have same first dimension, but have shapes (38,) and (22,)",
     "output_type": "error",
     "traceback": [
      "\u001b[1;31m---------------------------------------------------------------------------\u001b[0m",
      "\u001b[1;31mValueError\u001b[0m                                Traceback (most recent call last)",
      "\u001b[1;32m<ipython-input-10-4161ba62c45b>\u001b[0m in \u001b[0;36m<module>\u001b[1;34m\u001b[0m\n\u001b[0;32m      9\u001b[0m \u001b[0mplt\u001b[0m\u001b[1;33m.\u001b[0m\u001b[0mtitle\u001b[0m \u001b[1;33m(\u001b[0m\u001b[1;34mr'$x$ vs $f(x)$'\u001b[0m\u001b[1;33m)\u001b[0m\u001b[1;33m\u001b[0m\u001b[1;33m\u001b[0m\u001b[0m\n\u001b[0;32m     10\u001b[0m \u001b[1;33m\u001b[0m\u001b[0m\n\u001b[1;32m---> 11\u001b[1;33m \u001b[0mplt\u001b[0m\u001b[1;33m.\u001b[0m\u001b[0mplot\u001b[0m\u001b[1;33m(\u001b[0m\u001b[0mx\u001b[0m\u001b[1;33m,\u001b[0m \u001b[0merrorbis\u001b[0m\u001b[1;33m)\u001b[0m\u001b[1;33m\u001b[0m\u001b[1;33m\u001b[0m\u001b[0m\n\u001b[0m\u001b[0;32m     12\u001b[0m \u001b[0mplt\u001b[0m\u001b[1;33m.\u001b[0m\u001b[0mgrid\u001b[0m\u001b[1;33m(\u001b[0m\u001b[1;32mTrue\u001b[0m\u001b[1;33m)\u001b[0m\u001b[1;33m\u001b[0m\u001b[1;33m\u001b[0m\u001b[0m\n\u001b[0;32m     13\u001b[0m \u001b[0mplt\u001b[0m\u001b[1;33m.\u001b[0m\u001b[0mshow\u001b[0m\u001b[1;33m(\u001b[0m\u001b[1;33m)\u001b[0m\u001b[1;33m\u001b[0m\u001b[1;33m\u001b[0m\u001b[0m\n",
      "\u001b[1;32m~\\anaconda3\\lib\\site-packages\\matplotlib\\pyplot.py\u001b[0m in \u001b[0;36mplot\u001b[1;34m(scalex, scaley, data, *args, **kwargs)\u001b[0m\n\u001b[0;32m   2759\u001b[0m \u001b[1;33m@\u001b[0m\u001b[0mdocstring\u001b[0m\u001b[1;33m.\u001b[0m\u001b[0mcopy\u001b[0m\u001b[1;33m(\u001b[0m\u001b[0mAxes\u001b[0m\u001b[1;33m.\u001b[0m\u001b[0mplot\u001b[0m\u001b[1;33m)\u001b[0m\u001b[1;33m\u001b[0m\u001b[1;33m\u001b[0m\u001b[0m\n\u001b[0;32m   2760\u001b[0m \u001b[1;32mdef\u001b[0m \u001b[0mplot\u001b[0m\u001b[1;33m(\u001b[0m\u001b[1;33m*\u001b[0m\u001b[0margs\u001b[0m\u001b[1;33m,\u001b[0m \u001b[0mscalex\u001b[0m\u001b[1;33m=\u001b[0m\u001b[1;32mTrue\u001b[0m\u001b[1;33m,\u001b[0m \u001b[0mscaley\u001b[0m\u001b[1;33m=\u001b[0m\u001b[1;32mTrue\u001b[0m\u001b[1;33m,\u001b[0m \u001b[0mdata\u001b[0m\u001b[1;33m=\u001b[0m\u001b[1;32mNone\u001b[0m\u001b[1;33m,\u001b[0m \u001b[1;33m**\u001b[0m\u001b[0mkwargs\u001b[0m\u001b[1;33m)\u001b[0m\u001b[1;33m:\u001b[0m\u001b[1;33m\u001b[0m\u001b[1;33m\u001b[0m\u001b[0m\n\u001b[1;32m-> 2761\u001b[1;33m     return gca().plot(\n\u001b[0m\u001b[0;32m   2762\u001b[0m         *args, scalex=scalex, scaley=scaley, **({\"data\": data} if data\n\u001b[0;32m   2763\u001b[0m         is not None else {}), **kwargs)\n",
      "\u001b[1;32m~\\anaconda3\\lib\\site-packages\\matplotlib\\axes\\_axes.py\u001b[0m in \u001b[0;36mplot\u001b[1;34m(self, scalex, scaley, data, *args, **kwargs)\u001b[0m\n\u001b[0;32m   1645\u001b[0m         \"\"\"\n\u001b[0;32m   1646\u001b[0m         \u001b[0mkwargs\u001b[0m \u001b[1;33m=\u001b[0m \u001b[0mcbook\u001b[0m\u001b[1;33m.\u001b[0m\u001b[0mnormalize_kwargs\u001b[0m\u001b[1;33m(\u001b[0m\u001b[0mkwargs\u001b[0m\u001b[1;33m,\u001b[0m \u001b[0mmlines\u001b[0m\u001b[1;33m.\u001b[0m\u001b[0mLine2D\u001b[0m\u001b[1;33m)\u001b[0m\u001b[1;33m\u001b[0m\u001b[1;33m\u001b[0m\u001b[0m\n\u001b[1;32m-> 1647\u001b[1;33m         \u001b[0mlines\u001b[0m \u001b[1;33m=\u001b[0m \u001b[1;33m[\u001b[0m\u001b[1;33m*\u001b[0m\u001b[0mself\u001b[0m\u001b[1;33m.\u001b[0m\u001b[0m_get_lines\u001b[0m\u001b[1;33m(\u001b[0m\u001b[1;33m*\u001b[0m\u001b[0margs\u001b[0m\u001b[1;33m,\u001b[0m \u001b[0mdata\u001b[0m\u001b[1;33m=\u001b[0m\u001b[0mdata\u001b[0m\u001b[1;33m,\u001b[0m \u001b[1;33m**\u001b[0m\u001b[0mkwargs\u001b[0m\u001b[1;33m)\u001b[0m\u001b[1;33m]\u001b[0m\u001b[1;33m\u001b[0m\u001b[1;33m\u001b[0m\u001b[0m\n\u001b[0m\u001b[0;32m   1648\u001b[0m         \u001b[1;32mfor\u001b[0m \u001b[0mline\u001b[0m \u001b[1;32min\u001b[0m \u001b[0mlines\u001b[0m\u001b[1;33m:\u001b[0m\u001b[1;33m\u001b[0m\u001b[1;33m\u001b[0m\u001b[0m\n\u001b[0;32m   1649\u001b[0m             \u001b[0mself\u001b[0m\u001b[1;33m.\u001b[0m\u001b[0madd_line\u001b[0m\u001b[1;33m(\u001b[0m\u001b[0mline\u001b[0m\u001b[1;33m)\u001b[0m\u001b[1;33m\u001b[0m\u001b[1;33m\u001b[0m\u001b[0m\n",
      "\u001b[1;32m~\\anaconda3\\lib\\site-packages\\matplotlib\\axes\\_base.py\u001b[0m in \u001b[0;36m__call__\u001b[1;34m(self, *args, **kwargs)\u001b[0m\n\u001b[0;32m    214\u001b[0m                 \u001b[0mthis\u001b[0m \u001b[1;33m+=\u001b[0m \u001b[0margs\u001b[0m\u001b[1;33m[\u001b[0m\u001b[1;36m0\u001b[0m\u001b[1;33m]\u001b[0m\u001b[1;33m,\u001b[0m\u001b[1;33m\u001b[0m\u001b[1;33m\u001b[0m\u001b[0m\n\u001b[0;32m    215\u001b[0m                 \u001b[0margs\u001b[0m \u001b[1;33m=\u001b[0m \u001b[0margs\u001b[0m\u001b[1;33m[\u001b[0m\u001b[1;36m1\u001b[0m\u001b[1;33m:\u001b[0m\u001b[1;33m]\u001b[0m\u001b[1;33m\u001b[0m\u001b[1;33m\u001b[0m\u001b[0m\n\u001b[1;32m--> 216\u001b[1;33m             \u001b[1;32myield\u001b[0m \u001b[1;32mfrom\u001b[0m \u001b[0mself\u001b[0m\u001b[1;33m.\u001b[0m\u001b[0m_plot_args\u001b[0m\u001b[1;33m(\u001b[0m\u001b[0mthis\u001b[0m\u001b[1;33m,\u001b[0m \u001b[0mkwargs\u001b[0m\u001b[1;33m)\u001b[0m\u001b[1;33m\u001b[0m\u001b[1;33m\u001b[0m\u001b[0m\n\u001b[0m\u001b[0;32m    217\u001b[0m \u001b[1;33m\u001b[0m\u001b[0m\n\u001b[0;32m    218\u001b[0m     \u001b[1;32mdef\u001b[0m \u001b[0mget_next_color\u001b[0m\u001b[1;33m(\u001b[0m\u001b[0mself\u001b[0m\u001b[1;33m)\u001b[0m\u001b[1;33m:\u001b[0m\u001b[1;33m\u001b[0m\u001b[1;33m\u001b[0m\u001b[0m\n",
      "\u001b[1;32m~\\anaconda3\\lib\\site-packages\\matplotlib\\axes\\_base.py\u001b[0m in \u001b[0;36m_plot_args\u001b[1;34m(self, tup, kwargs)\u001b[0m\n\u001b[0;32m    340\u001b[0m \u001b[1;33m\u001b[0m\u001b[0m\n\u001b[0;32m    341\u001b[0m         \u001b[1;32mif\u001b[0m \u001b[0mx\u001b[0m\u001b[1;33m.\u001b[0m\u001b[0mshape\u001b[0m\u001b[1;33m[\u001b[0m\u001b[1;36m0\u001b[0m\u001b[1;33m]\u001b[0m \u001b[1;33m!=\u001b[0m \u001b[0my\u001b[0m\u001b[1;33m.\u001b[0m\u001b[0mshape\u001b[0m\u001b[1;33m[\u001b[0m\u001b[1;36m0\u001b[0m\u001b[1;33m]\u001b[0m\u001b[1;33m:\u001b[0m\u001b[1;33m\u001b[0m\u001b[1;33m\u001b[0m\u001b[0m\n\u001b[1;32m--> 342\u001b[1;33m             raise ValueError(f\"x and y must have same first dimension, but \"\n\u001b[0m\u001b[0;32m    343\u001b[0m                              f\"have shapes {x.shape} and {y.shape}\")\n\u001b[0;32m    344\u001b[0m         \u001b[1;32mif\u001b[0m \u001b[0mx\u001b[0m\u001b[1;33m.\u001b[0m\u001b[0mndim\u001b[0m \u001b[1;33m>\u001b[0m \u001b[1;36m2\u001b[0m \u001b[1;32mor\u001b[0m \u001b[0my\u001b[0m\u001b[1;33m.\u001b[0m\u001b[0mndim\u001b[0m \u001b[1;33m>\u001b[0m \u001b[1;36m2\u001b[0m\u001b[1;33m:\u001b[0m\u001b[1;33m\u001b[0m\u001b[1;33m\u001b[0m\u001b[0m\n",
      "\u001b[1;31mValueError\u001b[0m: x and y must have same first dimension, but have shapes (38,) and (22,)"
     ]
    },
    {
     "data": {
      "image/png": "[encoded data removed]",
      "text/plain": [
       "<Figure size 432x288 with 1 Axes>"
      ]
     },
     "metadata": {
      "needs_background": "light"
     },
     "output_type": "display_data"
    }
   ],
   "source": [
    "# Error Plot:\n",
    "\n",
    "dt = 1\n",
    "\n",
    "x = np.arange(0, icount+1, dt)\n",
    "\n",
    "plt.xlabel (r\"x\")\n",
    "plt.ylabel (r'$f(x)$')\n",
    "plt.title (r'$x$ vs $f(x)$')\n",
    "\n",
    "plt.plot(x, errorbis)\n",
    "plt.grid(True)\n",
    "plt.show()"
   ]
  },
  {
   "cell_type": "markdown",
   "metadata": {},
   "source": [
    "# Newton - Raphson"
   ]
  },
  {
   "cell_type": "markdown",
   "metadata": {},
   "source": [
    "$$X_{i+1} = x_i - \\frac{f(x_i) }{f'(x_i)}$$"
   ]
  },
  {
   "cell_type": "code",
   "execution_count": null,
   "metadata": {},
   "outputs": [],
   "source": [
    "def NR(xi):\n",
    "   \n",
    "    icount = 0\n",
    "    nmaxiter = 100\n",
    "    errorNR = [abs(f(xi))]\n",
    "\n",
    "    print(\"# iter \\t xi \\t   Error\")\n",
    "\n",
    "    xl = a\n",
    "\n",
    "    while errorNR[icount] > tol and icount < nmaxiter:\n",
    "\n",
    "        xi1 = xi - f(xi) / fp(xi)\n",
    "        xi = xi1\n",
    "\n",
    "        errorNR.append(abs(f(xi)))\n",
    "\n",
    "        print(\"{0} \\t {1:.6f} \\t {2:.6f}\".format(icount, xi1, errorNR[icount]))\n",
    "\n",
    "        icount += 1\n",
    "\n",
    "    print(\"\")\n",
    "    print(\"El valor aproximado de la raíz, con una tolerancia de {4}, es xm = {0:0.6f}. La función evaluada en ese valor es f({0:0.6f}) = {1:0.6f}, con un Ea = {2:0.6f} y se alcanzó en {3} iteraciones.\".format(xi,f(xi),errorNR[icount],icount,tol))\n",
    "    print(\"\")\n",
    "    return icount, errorNR\n"
   ]
  },
  {
   "cell_type": "code",
   "execution_count": null,
   "metadata": {},
   "outputs": [],
   "source": [
    "icount, errorNR = NR(10)"
   ]
  },
  {
   "cell_type": "code",
   "execution_count": null,
   "metadata": {},
   "outputs": [],
   "source": [
    "# Error Plot:\n",
    "\n",
    "dt = 1\n",
    "\n",
    "x = np.arange(0, icount+1, dt)\n",
    "\n",
    "plt.xlabel (r\"x\")\n",
    "plt.ylabel (r'$f(x)$')\n",
    "plt.title (r'$x$ vs $f(x)$')\n",
    "\n",
    "plt.plot(x, errorNR)\n",
    "plt.grid(True)\n",
    "plt.show()"
   ]
  },
  {
   "cell_type": "markdown",
   "metadata": {},
   "source": [
    "# Secante"
   ]
  },
  {
   "cell_type": "code",
   "execution_count": null,
   "metadata": {},
   "outputs": [],
   "source": [
    "def secante(xi):\n",
    "   \n",
    "    icount = 0\n",
    "    nmaxiter = 100\n",
    "    errorNR = [abs(f(xi))]\n",
    "\n",
    "    print(\"# iter \\t xi \\t   Error\")\n",
    "\n",
    "    xl = a\n",
    "\n",
    "    while errorNR[icount] > tol and icount < nmaxiter:\n",
    "\n",
    "        xi1 = xi - f(xi) / fp(xi)\n",
    "        xi = xi1\n",
    "\n",
    "        errorNR.append(abs(f(xi)))\n",
    "\n",
    "        print(\"{0} \\t {1:.6f} \\t {2:.6f}\".format(icount, xi1, errorNR[icount]))\n",
    "\n",
    "        icount += 1\n",
    "\n",
    "    print(\"\")\n",
    "    print(\"El valor aproximado de la raíz, con una tolerancia de {4}, es xm = {0:0.6f}. La función evaluada en ese valor es f({0:0.6f}) = {1:0.6f}, con un Ea = {2:0.6f} y se alcanzó en {3} iteraciones.\".format(xi,f(xi),errorNR[icount],icount,tol))\n",
    "    print(\"\")\n",
    "    return icount, errorNR"
   ]
  }
 ],
 "metadata": {
  "kernelspec": {
   "display_name": "Python 3",
   "language": "python",
   "name": "python3"
  },
  "language_info": {
   "codemirror_mode": {
    "name": "ipython",
    "version": 3
   },
   "file_extension": ".py",
   "mimetype": "text/x-python",
   "name": "python",
   "nbconvert_exporter": "python",
   "pygments_lexer": "ipython3",
   "version": "3.8.3"
  },
  "toc": {
   "base_numbering": 1,
   "nav_menu": {},
   "number_sections": true,
   "sideBar": true,
   "skip_h1_title": false,
   "title_cell": "Table of Contents",
   "title_sidebar": "Contents",
   "toc_cell": false,
   "toc_position": {},
   "toc_section_display": true,
   "toc_window_display": false
  }
 },
 "nbformat": 4,
 "nbformat_minor": 4
}
