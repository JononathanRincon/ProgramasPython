{
 "cells": [
  {
   "cell_type": "markdown",
   "metadata": {},
   "source": [
    "# Regresión Lineal por mínimos cuadrados"
   ]
  },
  {
   "cell_type": "code",
   "execution_count": 2,
   "metadata": {},
   "outputs": [],
   "source": [
    "import numpy as np\n",
    "import matplotlib.pyplot as plt"
   ]
  },
  {
   "cell_type": "code",
   "execution_count": 3,
   "metadata": {},
   "outputs": [],
   "source": [
    "def Regress(x,y,n):\n",
    "    sumx, sumxy, st = 0, 0, 0\n",
    "    sumy, sumx2, sr = 0, 0, 0\n",
    "    \n",
    "    for i in range(0,n):\n",
    "        sumx  += x[i]\n",
    "        sumy  += y[i]\n",
    "        sumxy += x[i] * y[i]\n",
    "        sumx2 += x[i] * x[i]\n",
    "    \n",
    "    xm = sumx / n\n",
    "    ym = sumy / n\n",
    "    a1 = (n * sumxy - sumx * sumy) / (n * sumx2 - sumx  * sumx)\n",
    "    a0 = ym - a1 * xm\n",
    "    \n",
    "    for i in range(0,n):\n",
    "        st += (y[i] - ym)** 2\n",
    "        sr += (y[i] - a1 * x[i] - a0)** 2\n",
    "    syx = np.sqrt(sr / (n-2))\n",
    "    r2 = (st - sr) / st\n",
    "    \n",
    "    return a1, a0, syx, r2\n",
    "    "
   ]
  },
  {
   "cell_type": "code",
   "execution_count": null,
   "metadata": {},
   "outputs": [],
   "source": [
    "#x = np.linspace(1,15,15)\n",
    "#y = [10, 16.3, 23, 27.5, 31, 35.6, 39, 41.5, 42.9, 45, 46, 45.5, 46, 49, 50]\n",
    "#n = len(x)"
   ]
  },
  {
   "cell_type": "code",
   "execution_count": 3,
   "metadata": {},
   "outputs": [],
   "source": [
    "n = 7\n",
    "x = np.linspace(1,n,n)\n",
    "y = [0.5, 2.5, 2.0, 4.0, 3.5, 6.0, 5.5]"
   ]
  },
  {
   "cell_type": "code",
   "execution_count": 7,
   "metadata": {},
   "outputs": [],
   "source": [
    "x = np.array([2,4,6,7,10,11,14,17,20])\n",
    "y = [1,2,5,2,8,7,6,9,12]\n",
    "n = len(x)"
   ]
  },
  {
   "cell_type": "code",
   "execution_count": 8,
   "metadata": {},
   "outputs": [
    {
     "name": "stdout",
     "output_type": "stream",
     "text": [
      "a1:  0.5576776165011459\n",
      "a0:  0.13903743315508077\n",
      "syx:  1.5624090064086216\n",
      "r2:  0.841125330673216\n"
     ]
    }
   ],
   "source": [
    "a1, a0, syx, r2 = Regress(x,y,n)\n",
    "print(\"a1: \", a1)\n",
    "print(\"a0: \", a0)\n",
    "print(\"syx: \", syx)\n",
    "print(\"r2: \", r2)"
   ]
  },
  {
   "cell_type": "code",
   "execution_count": 9,
   "metadata": {},
   "outputs": [
    {
     "data": {
      "image/png": "[encoded data removed]",
      "text/plain": [
       "<Figure size 432x288 with 1 Axes>"
      ]
     },
     "metadata": {
      "needs_background": "light"
     },
     "output_type": "display_data"
    }
   ],
   "source": [
    "y1 = []\n",
    "y1 = a1*x + a0\n",
    "plt.plot(x,y1)\n",
    "plt.plot(x,y, '*g')\n",
    "plt.xlabel('Valores en X')\n",
    "plt.ylabel('Valores en Y')\n",
    "plt.title('Regresion Lineal')\n",
    "plt.grid()"
   ]
  },
  {
   "cell_type": "code",
   "execution_count": null,
   "metadata": {},
   "outputs": [],
   "source": []
  }
 ],
 "metadata": {
  "kernelspec": {
   "display_name": "Python 3",
   "language": "python",
   "name": "python3"
  },
  "language_info": {
   "codemirror_mode": {
    "name": "ipython",
    "version": 3
   },
   "file_extension": ".py",
   "mimetype": "text/x-python",
   "name": "python",
   "nbconvert_exporter": "python",
   "pygments_lexer": "ipython3",
   "version": "3.8.3"
  },
  "toc": {
   "base_numbering": 1,
   "nav_menu": {},
   "number_sections": true,
   "sideBar": true,
   "skip_h1_title": false,
   "title_cell": "Table of Contents",
   "title_sidebar": "Contents",
   "toc_cell": false,
   "toc_position": {},
   "toc_section_display": true,
   "toc_window_display": false
  }
 },
 "nbformat": 4,
 "nbformat_minor": 4
}
