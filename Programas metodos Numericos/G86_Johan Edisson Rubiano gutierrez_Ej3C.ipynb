{
 "cells": [
  {
   "cell_type": "markdown",
   "metadata": {},
   "source": [
    "C: Considere la ecuación de estado de van der Walls:\n",
    "\n",
    "                        (𝑃+ 𝑎/V2)(𝑉−𝑏)=𝑅𝑇\n",
    "\n",
    "Calcule el volumen específico 𝑉 de dióxido de carbono a una\n",
    "temperatura de 𝑇 = 300∘𝐾, dado 𝑃 = 1 𝑎𝑡𝑚, 𝑅 = 0.082054 𝐽(𝑘𝑔∘𝐾), 𝑎 =\n",
    "3.592 𝑃𝑎 ⋅ 𝑚6/𝑘𝑔2, 𝑏 = 0.04267𝑚2/𝑘𝑔. Obtenga una aproximación inicial 𝑉\n",
    "desde la Ley de gases ideales: 𝑃𝑉 = 𝑅𝑇. "
   ]
  },
  {
   "cell_type": "markdown",
   "metadata": {},
   "source": [
    "   * Genere una tabla en el intervalo en donde se encuentre la primera raíz (positiva o negativa) y grafique la función en ese intervalo (use un tamaño de paso adecuado que le permita observar los cambios de signo). Indique el, o los, subintervalo en donde posiblemente se encuentra la raíz."
   ]
  },
  {
   "cell_type": "markdown",
   "metadata": {},
   "source": [
    "![](tabla1.png)"
   ]
  },
  {
   "cell_type": "markdown",
   "metadata": {},
   "source": [
    "![](grafica1.png)"
   ]
  },
  {
   "cell_type": "markdown",
   "metadata": {},
   "source": [
    "   * Determine, con una exactitud de 10−6, o al menos 10 iteraciones, la raíz visualizada en el ejercicio anterior empleando cada uno de los siguientes métodos:\n",
    "   \n",
    "   • Bisección\n",
    "   \n",
    "   • Regula Falsi\n",
    "   \n",
    "   • Newton – Raphson\n",
    "   \n",
    "   • Secante"
   ]
  },
  {
   "cell_type": "markdown",
   "metadata": {},
   "source": [
    "![](biseccion.png)"
   ]
  },
  {
   "cell_type": "markdown",
   "metadata": {},
   "source": [
    "![](reglafalsa.png)"
   ]
  },
  {
   "cell_type": "markdown",
   "metadata": {},
   "source": [
    "![](newton.png)"
   ]
  },
  {
   "cell_type": "markdown",
   "metadata": {},
   "source": [
    "![](secante.png)"
   ]
  },
  {
   "cell_type": "markdown",
   "metadata": {},
   "source": [
    "**los subintervalos en donde posiblemente se encuentran las raíces**"
   ]
  },
  {
   "cell_type": "markdown",
   "metadata": {},
   "source": [
    "(-1 ,2, -0,2)"
   ]
  },
  {
   "cell_type": "markdown",
   "metadata": {},
   "source": [
    "R=    0,082054\n",
    "\n",
    "T=    300\n",
    "\n",
    "P=    1"
   ]
  },
  {
   "cell_type": "markdown",
   "metadata": {},
   "source": [
    "   * Con los resultados de los métodos desarrollados en el punto anterior, realice una única gráfica Número de iteraciones vs 𝐸𝑟𝑒𝑙(%) que permita comparar el comportamiento del error a medida que se aumenta el número de iteraciones. Realice un análisis de resultados indicando claramente, y apoyado en la teoría, cuál método presenta un mejor desempeño para encontrar la solución."
   ]
  },
  {
   "cell_type": "markdown",
   "metadata": {},
   "source": [
    "![](tabla2.png)"
   ]
  },
  {
   "cell_type": "markdown",
   "metadata": {},
   "source": [
    "![](garfica2.png)"
   ]
  },
  {
   "cell_type": "markdown",
   "metadata": {},
   "source": [
    "![](garfica2.png)"
   ]
  },
  {
   "cell_type": "markdown",
   "metadata": {},
   "source": [
    "![](grafica2.png)"
   ]
  },
  {
   "cell_type": "code",
   "execution_count": null,
   "metadata": {},
   "outputs": [],
   "source": []
  }
 ],
 "metadata": {
  "kernelspec": {
   "display_name": "Python 3",
   "language": "python",
   "name": "python3"
  },
  "language_info": {
   "codemirror_mode": {
    "name": "ipython",
    "version": 3
   },
   "file_extension": ".py",
   "mimetype": "text/x-python",
   "name": "python",
   "nbconvert_exporter": "python",
   "pygments_lexer": "ipython3",
   "version": "3.8.3"
  }
 },
 "nbformat": 4,
 "nbformat_minor": 4
}
