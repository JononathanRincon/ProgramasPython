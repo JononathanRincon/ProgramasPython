{
 "cells": [
  {
   "cell_type": "markdown",
   "metadata": {},
   "source": [
    "# La Fórmula del área de Gauss\n",
    "\n",
    "es un algoritmo matemático usado para calcular el área de un polígono simple cuyos vértices están\n",
    "6\n",
    "descritos como pares de coordenadas en el plano. La fórmula puede representarse mediante la expresión\n",
    "$$A=\\frac{1}{\\:2}\\left|\\sum _{i=0}^n\\:x\\left(yi+1-yi-1\\right)\\:\\right|$$\n",
    "\n",
    "Donde\n",
    "𝐴 es el área del polígono\n",
    "𝑛 es el número de lados del polígono\n",
    "(𝑥𝑖,𝑦𝑖),𝑖=1,2,3,…,𝑛 son las coordenadas de los vértices del polígono\n",
    "Y por tratarse de un polígono cíclico 𝑥𝑛+1=𝑥1 y 𝑥𝑛=𝑥0, al igual que 𝑦𝑛+1=𝑦1 y 𝑦𝑛=𝑦0\n",
    " \n",
    " "
   ]
  },
  {
   "cell_type": "code",
   "execution_count": 1,
   "metadata": {},
   "outputs": [
    {
     "name": "stdout",
     "output_type": "stream",
     "text": [
      "Ingrese numero de lados del poligono:6\n",
      "Ingrese un valor x:1\n",
      "Ingrese un valor y:7\n",
      "Ingrese un valor x:10\n",
      "Ingrese un valor y:10\n",
      "Ingrese un valor x:4\n",
      "Ingrese un valor y:8\n",
      "Ingrese un valor x:4\n",
      "Ingrese un valor y:8\n",
      "Ingrese un valor x:4\n",
      "Ingrese un valor y:9\n",
      "Ingrese un valor x:7\n",
      "Ingrese un valor y:7\n",
      "[[1, 7], [10, 10], [4, 8], [4, 8], [4, 9], [7, 7]]\n",
      "4.5\n"
     ]
    }
   ],
   "source": [
    "   \n",
    " \n",
    "\n",
    "n = int(input(\"Ingrese numero de lados del poligono:\")) \n",
    "listax=[]\n",
    "listay=[]\n",
    "pares =[]\n",
    "\n",
    "for x in range(n):\n",
    "    cordenadax=int(input(\"Ingrese un valor x:\"))\n",
    "    listax.append(cordenadax)\n",
    "    cordenaday=int(input(\"Ingrese un valor y:\"))\n",
    "    listay.append(cordenaday)\n",
    "    pares.append([cordenadax,cordenaday])\n",
    "         \n",
    "\n",
    "def areaPoligono(pares):\n",
    "    area = 0.0\n",
    "    for i in range(n):\n",
    "        j = (i + 1) % n\n",
    "        area += pares[i][0] * pares[j][1]\n",
    "        area -= pares[j][0] * pares[i][1]\n",
    "    area = abs(area) / 2.0\n",
    "    return area\n",
    "\n",
    "print (pares)\n",
    "print(areaPoligono(pares))\n",
    "\n"
   ]
  },
  {
   "cell_type": "code",
   "execution_count": null,
   "metadata": {},
   "outputs": [],
   "source": []
  }
 ],
 "metadata": {
  "kernelspec": {
   "display_name": "Python 3",
   "language": "python",
   "name": "python3"
  },
  "language_info": {
   "codemirror_mode": {
    "name": "ipython",
    "version": 3
   },
   "file_extension": ".py",
   "mimetype": "text/x-python",
   "name": "python",
   "nbconvert_exporter": "python",
   "pygments_lexer": "ipython3",
   "version": "3.8.3"
  }
 },
 "nbformat": 4,
 "nbformat_minor": 4
}
