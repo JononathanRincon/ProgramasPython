{
  "nbformat": 4,
  "nbformat_minor": 0,
  "metadata": {
    "colab": {
      "provenance": [],
      "include_colab_link": true
    },
    "kernelspec": {
      "name": "python3",
      "display_name": "Python 3"
    },
    "language_info": {
      "name": "python"
    }
  },
  "cells": [
    {
      "cell_type": "markdown",
      "metadata": {
        "id": "view-in-github",
        "colab_type": "text"
      },
      "source": [
        "<a href=\"https://colab.research.google.com/github/JononathanRincon/ProgramasPython/blob/main/script%20fecha.ipynb\" target=\"_parent\"><img src=\"https://colab.research.google.com/assets/colab-badge.svg\" alt=\"Open In Colab\"/></a>"
      ]
    },
    {
      "cell_type": "code",
      "execution_count": 65,
      "metadata": {
        "id": "VfuVk_h5cxfL",
        "outputId": "8d752291-f30a-4b33-e578-02f0d19074ff",
        "colab": {
          "base_uri": "https://localhost:8080/"
        }
      },
      "outputs": [
        {
          "output_type": "stream",
          "name": "stdout",
          "text": [
            "5/abr/2023-Laboral-10/abr/2023-4-4\n",
            "5/may/2023-Laboral-8/may/2023-5-5\n",
            "7/jun/2023-Laboral-8/jun/2023-6-6\n",
            "NO REGISTRA-Fin de semana-8/jul/2023-NO REGISTRA-7\n",
            "7/ago/2023-Laboral-8/ago/2023-8-8\n",
            "7/sep/2023-Laboral-8/sep/2023-9-9\n",
            "NO REGISTRA-Fin de semana-8/oct/2023-NO REGISTRA-10\n",
            "7/nov/2023-Laboral-8/nov/2023-11-11\n",
            "7/dic/2023-Laboral-8/dic/2023-12-12\n"
          ]
        }
      ],
      "source": [
        "import holidays\n",
        "import pandas as pd\n",
        "from datetime import timedelta\n",
        "from datetime import datetime\n",
        "import calendar\n",
        "\n",
        "def Retorna_Ultimo_Dia_Laborar(date, holidays_list):\n",
        "  varFormatoUnDia = timedelta(days=1)\n",
        "  UltimoDiaHabil = date  # Asignar la fecha de inicio a UltimoDiaHabil\n",
        "  while True:\n",
        "    UltimoDiaHabil -= varFormatoUnDia\n",
        "    if UltimoDiaHabil.weekday() < 5 and UltimoDiaHabil not in holidays_list:\n",
        "      return UltimoDiaHabil\n",
        "\n",
        "\n",
        "def Festivos(fecha1):\n",
        "  dia = 'NO REGISTRA'\n",
        "  fecha = datetime.strptime(fecha1, \"%d-%m-%Y\")\n",
        "  numero_anio = fecha.year\n",
        "  p = holidays.ElSalvador(years=int(numero_anio)) # lista de todos los feriados\n",
        "\n",
        "  fecha_Final = pd.to_datetime(fecha1, format='%d-%m-%Y')\n",
        "  dia_semana_num = fecha_Final.weekday()\n",
        "\n",
        "  fechaInicial = None  # Valor inicial por defecto\n",
        "\n",
        "  if dia_semana_num >= 5:\n",
        "    dia = 'Fin de semana'\n",
        "  elif fecha_Final in p:\n",
        "    dia = 'Festivo'\n",
        "  else:\n",
        "    dia = 'Laboral'\n",
        "    fechaInicial = Retorna_Ultimo_Dia_Laborar(fecha, p)\n",
        "\n",
        "  meses_espanol = {\n",
        "    'Jan': 'ene',\n",
        "    'Feb': 'feb',\n",
        "    'Mar': 'mar',\n",
        "    'Apr': 'abr',\n",
        "    'May': 'may',\n",
        "    'Jun': 'jun',\n",
        "    'Jul': 'jul',\n",
        "    'Aug': 'ago',\n",
        "    'Sep': 'sep',\n",
        "    'Oct': 'oct',\n",
        "    'Nov': 'nov',\n",
        "    'Dec': 'dic'\n",
        "  }\n",
        "  if fechaInicial is None:\n",
        "    fecha_Inicial = 'NO REGISTRA'  # Valor por defecto si fechaInicial no se asignó\n",
        "    num_mes_inicial = \"NO REGISTRA\"\n",
        "  else:\n",
        "    nombre_mes = meses_espanol[calendar.month_abbr[fechaInicial.month]]  # Obtener la abreviatura del mes en español\n",
        "    dia_inicial = str(fechaInicial.day)  # Obtener el día como cadena\n",
        "    fecha_Inicial = dia_inicial + '/' + nombre_mes + '/' + str(fechaInicial.year)  # Formato día/mes/año con la abreviatura del mes\n",
        "    num_mes_inicial = fechaInicial.month\n",
        "\n",
        "\n",
        "  nombre_mes = meses_espanol[calendar.month_abbr[fecha_Final.month]]  # Obtener la abreviatura del mes en español\n",
        "  dia_final = str(fecha_Final.day)  # Obtener el día como cadena\n",
        "  fechaFinal = dia_final + '/' + nombre_mes + '/' + str(fecha_Final.year)  # Formato día/mes/año con la abreviatura del mes\n",
        "  num_mes_final = fecha_Final.month\n",
        "\n",
        "  resultado = '-'.join([str(fecha_Inicial), dia, str(fechaFinal)])\n",
        "  resultado = resultado + \"-\" + str(num_mes_inicial) + \"-\" + str(num_mes_final)\n",
        "\n",
        "  return resultado"
      ]
    }
  ]
}